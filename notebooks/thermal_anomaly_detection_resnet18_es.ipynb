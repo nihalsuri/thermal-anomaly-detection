{
  "nbformat": 4,
  "nbformat_minor": 0,
  "metadata": {
    "colab": {
      "provenance": [],
      "toc_visible": true,
      "authorship_tag": "ABX9TyPEZxbXfESOrigpo6IyeJa5",
      "include_colab_link": true
    },
    "kernelspec": {
      "name": "python3",
      "display_name": "Python 3"
    },
    "language_info": {
      "name": "python"
    },
    "accelerator": "GPU",
    "gpuClass": "premium"
  },
  "cells": [
    {
      "cell_type": "markdown",
      "metadata": {
        "id": "view-in-github",
        "colab_type": "text"
      },
      "source": [
        "<a href=\"https://colab.research.google.com/github/nihalsuri/thermal-anomaly-detection/blob/main/notebooks/thermal_anomaly_detection_resnet18_es.ipynb\" target=\"_parent\"><img src=\"https://colab.research.google.com/assets/colab-badge.svg\" alt=\"Open In Colab\"/></a>"
      ]
    },
    {
      "cell_type": "markdown",
      "source": [
        "# Uploading all necessary data when connected to host"
      ],
      "metadata": {
        "id": "YolK3BeMjSjo"
      }
    },
    {
      "cell_type": "code",
      "source": [
        "! gdown --id 1x4Os51uaMXDILTGo2Y_lOC9HU1jTnzi0\n",
        "! gdown --id 1uxDV-sgzDUATHc5p8gW_gBKBsEVrz34x"
      ],
      "metadata": {
        "colab": {
          "base_uri": "https://localhost:8080/"
        },
        "id": "1D2v3VUii2-F",
        "outputId": "af6fa985-6e76-4765-90aa-5b357d5777fe"
      },
      "execution_count": null,
      "outputs": [
        {
          "output_type": "stream",
          "name": "stderr",
          "text": [
            "'gdown' is not recognized as an internal or external command,\n",
            "operable program or batch file.\n",
            "'gdown' is not recognized as an internal or external command,\n",
            "operable program or batch file.\n"
          ]
        }
      ]
    },
    {
      "cell_type": "code",
      "source": [
        "!unzip clutch_2.zip"
      ],
      "metadata": {
        "colab": {
          "base_uri": "https://localhost:8080/"
        },
        "id": "AeVBUYu0t6FZ",
        "outputId": "5a354b33-c683-4a8d-9d15-fe0bc85f952b"
      },
      "execution_count": null,
      "outputs": [
        {
          "output_type": "stream",
          "name": "stderr",
          "text": [
            "'unzip' is not recognized as an internal or external command,\n",
            "operable program or batch file.\n"
          ]
        }
      ]
    },
    {
      "cell_type": "markdown",
      "source": [
        "# Uploading data when connected to local runtime "
      ],
      "metadata": {
        "id": "lE_BvUn8A5pv"
      }
    },
    {
      "cell_type": "code",
      "source": [
        "annotations_path = 'C:/Users/Nihal/Desktop/thesis/dataset.csv'\n",
        "# annotations_path = 'C:/Users/Nihal/Desktop/new_dataset.csv'\n",
        "dataset_path = 'C:/Users/Nihal/Desktop/thesis/clutch_2'"
      ],
      "metadata": {
        "id": "4gTIRAeDBEkM"
      },
      "execution_count": null,
      "outputs": []
    },
    {
      "cell_type": "markdown",
      "source": [
        "# Data preperation for training\n",
        "\n",
        "In this section the following is done: \n",
        "\n",
        "\n",
        "\n",
        "*   Data is processed and arranged into respective **dataframes** \n",
        "*   **Custom dataset** class is created \n",
        "*   **Transforms** are done on the various datasets\n",
        "*   **Dataloaders** are created for the purposes of iteration\n",
        "\n",
        "\n",
        "\n"
      ],
      "metadata": {
        "id": "hFywJRphfiB9"
      }
    },
    {
      "cell_type": "markdown",
      "source": [
        "## Import libraries"
      ],
      "metadata": {
        "id": "lE0JA181hvII"
      }
    },
    {
      "cell_type": "code",
      "source": [
        "from torch.utils.data import Dataset, DataLoader\n",
        "from torchvision.utils import make_grid\n",
        "from PIL import Image\n",
        "from torchvision import transforms , models\n",
        "from sklearn import metrics\n",
        "from tabulate import tabulate\n",
        "import os\n",
        "import matplotlib.pyplot as plt\n",
        "import pandas as pd\n",
        "import cv2\n",
        "import torch\n",
        "import numpy as np\n",
        "import torch.nn as nn\n",
        "import torch.nn.functional as F \n",
        "import torch.optim as optim"
      ],
      "metadata": {
        "id": "tsQ5hkUYhd24"
      },
      "execution_count": null,
      "outputs": []
    },
    {
      "cell_type": "code",
      "source": [
        "device = torch.device('cuda' if torch.cuda.is_available() else 'cpu')\n",
        "device_name = torch.cuda.get_device_name()\n",
        "print(device_name)\n",
        "print(device)"
      ],
      "metadata": {
        "colab": {
          "base_uri": "https://localhost:8080/"
        },
        "id": "kTV4shoA5Rk1",
        "outputId": "df894c8b-8d27-4205-ddca-50a530d9360e"
      },
      "execution_count": null,
      "outputs": [
        {
          "output_type": "stream",
          "name": "stdout",
          "text": [
            "NVIDIA GeForce GTX 1660 Ti with Max-Q Design\n",
            "cuda\n"
          ]
        }
      ]
    },
    {
      "cell_type": "code",
      "source": [
        "torch.cuda.empty_cache()"
      ],
      "metadata": {
        "id": "Vp1s0vq2z9w-"
      },
      "execution_count": null,
      "outputs": []
    },
    {
      "cell_type": "code",
      "source": [
        "torch.cuda.memory_summary(device=None, abbreviated=False)"
      ],
      "metadata": {
        "colab": {
          "base_uri": "https://localhost:8080/"
        },
        "id": "O1FetAFHz-Az",
        "outputId": "9bef6532-4468-4110-9175-9d6e940279ae"
      },
      "execution_count": null,
      "outputs": [
        {
          "output_type": "execute_result",
          "data": {
            "text/plain": [
              "'|===========================================================================|\\n|                  PyTorch CUDA memory summary, device ID 0                 |\\n|---------------------------------------------------------------------------|\\n|            CUDA OOMs: 0            |        cudaMalloc retries: 0         |\\n|===========================================================================|\\n|        Metric         | Cur Usage  | Peak Usage | Tot Alloc  | Tot Freed  |\\n|---------------------------------------------------------------------------|\\n| Allocated memory      |       0 B  |       0 B  |       0 B  |       0 B  |\\n|       from large pool |       0 B  |       0 B  |       0 B  |       0 B  |\\n|       from small pool |       0 B  |       0 B  |       0 B  |       0 B  |\\n|---------------------------------------------------------------------------|\\n| Active memory         |       0 B  |       0 B  |       0 B  |       0 B  |\\n|       from large pool |       0 B  |       0 B  |       0 B  |       0 B  |\\n|       from small pool |       0 B  |       0 B  |       0 B  |       0 B  |\\n|---------------------------------------------------------------------------|\\n| GPU reserved memory   |       0 B  |       0 B  |       0 B  |       0 B  |\\n|       from large pool |       0 B  |       0 B  |       0 B  |       0 B  |\\n|       from small pool |       0 B  |       0 B  |       0 B  |       0 B  |\\n|---------------------------------------------------------------------------|\\n| Non-releasable memory |       0 B  |       0 B  |       0 B  |       0 B  |\\n|       from large pool |       0 B  |       0 B  |       0 B  |       0 B  |\\n|       from small pool |       0 B  |       0 B  |       0 B  |       0 B  |\\n|---------------------------------------------------------------------------|\\n| Allocations           |       0    |       0    |       0    |       0    |\\n|       from large pool |       0    |       0    |       0    |       0    |\\n|       from small pool |       0    |       0    |       0    |       0    |\\n|---------------------------------------------------------------------------|\\n| Active allocs         |       0    |       0    |       0    |       0    |\\n|       from large pool |       0    |       0    |       0    |       0    |\\n|       from small pool |       0    |       0    |       0    |       0    |\\n|---------------------------------------------------------------------------|\\n| GPU reserved segments |       0    |       0    |       0    |       0    |\\n|       from large pool |       0    |       0    |       0    |       0    |\\n|       from small pool |       0    |       0    |       0    |       0    |\\n|---------------------------------------------------------------------------|\\n| Non-releasable allocs |       0    |       0    |       0    |       0    |\\n|       from large pool |       0    |       0    |       0    |       0    |\\n|       from small pool |       0    |       0    |       0    |       0    |\\n|---------------------------------------------------------------------------|\\n| Oversize allocations  |       0    |       0    |       0    |       0    |\\n|---------------------------------------------------------------------------|\\n| Oversize GPU segments |       0    |       0    |       0    |       0    |\\n|===========================================================================|\\n'"
            ]
          },
          "metadata": {},
          "execution_count": 5
        }
      ]
    },
    {
      "cell_type": "markdown",
      "source": [
        "## Split data into dataframes"
      ],
      "metadata": {
        "id": "4oVBIRobnsuq"
      }
    },
    {
      "cell_type": "code",
      "source": [
        "df = pd.read_csv(annotations_path)\n",
        "train_df = df[df['dataset'].str.contains('train')]\n",
        "test_df = df[df['dataset'].str.contains('test')]\n",
        "val_df = df[df['dataset'].str.contains('val')]\n",
        "print(train_df.shape[0])\n",
        "print(test_df.shape[0])\n",
        "print(val_df.shape[0])"
      ],
      "metadata": {
        "id": "pJ2WoESTn2lk",
        "colab": {
          "base_uri": "https://localhost:8080/"
        },
        "outputId": "ffeebe9c-0458-49e3-d1ae-e44c233d9a3f"
      },
      "execution_count": null,
      "outputs": [
        {
          "output_type": "stream",
          "name": "stdout",
          "text": [
            "2703\n",
            "651\n",
            "648\n"
          ]
        }
      ]
    },
    {
      "cell_type": "code",
      "source": [
        "# img_paths = df[\"img_path\"]"
      ],
      "metadata": {
        "id": "uQRL_YOHyot5"
      },
      "execution_count": null,
      "outputs": []
    },
    {
      "cell_type": "code",
      "source": [
        "# for i in range(img_paths.shape[0]):\n",
        "#   size  = len(img_paths.at[i])\n",
        "#   new_path = img_paths.at[i][:size - 24]\n",
        "#   img_paths.at[i] = new_path\n"
      ],
      "metadata": {
        "id": "vy09r8ySRzfH"
      },
      "execution_count": null,
      "outputs": []
    },
    {
      "cell_type": "code",
      "source": [
        "# img_paths.head()"
      ],
      "metadata": {
        "id": "nZH5hOdqWGEg"
      },
      "execution_count": null,
      "outputs": []
    },
    {
      "cell_type": "code",
      "source": [
        "# unique_lables = img_paths.unique().tolist()\n"
      ],
      "metadata": {
        "id": "6IaXegqsXT8Z"
      },
      "execution_count": null,
      "outputs": []
    },
    {
      "cell_type": "code",
      "source": [
        "# df_freq = img_paths.value_counts()\n",
        "# df_freq"
      ],
      "metadata": {
        "id": "Ld_AQAoLYtZa"
      },
      "execution_count": null,
      "outputs": []
    },
    {
      "cell_type": "code",
      "source": [],
      "metadata": {
        "id": "yH1ge5WmamlL"
      },
      "execution_count": null,
      "outputs": []
    },
    {
      "cell_type": "markdown",
      "source": [
        "## Custom Class \n",
        "Returns **image** and **label** for futher training"
      ],
      "metadata": {
        "id": "vffiVNGuosWf"
      }
    },
    {
      "cell_type": "code",
      "source": [
        "class ClutchDataset(Dataset):\n",
        "\n",
        "    def __init__(self, dataframe, root_dir, is_train, transform=None):\n",
        "        self.dataframe = dataframe\n",
        "        self.root_dir = root_dir\n",
        "        self.transform = transform\n",
        "        self.is_train = is_train\n",
        "\n",
        "    def __len__(self):\n",
        "        return len(self.dataframe)\n",
        "\n",
        "    def __getitem__(self, idx):\n",
        "        if torch.is_tensor(idx):\n",
        "            idx = idx.tolist()\n",
        "\n",
        "        img_name = os.path.join(self.root_dir, self.dataframe.iloc[idx, 1])\n",
        "        image1 = cv2.imread(img_name)\n",
        "        image_norm = cv2.normalize(\n",
        "            image1, None, alpha=0, beta=255, norm_type=cv2.NORM_MINMAX)\n",
        "        image = Image.fromarray(image_norm)\n",
        "        label = torch.tensor(int(self.dataframe.iloc[idx, 2]))\n",
        "         \n",
        "\n",
        "\n",
        "        if self.transform:\n",
        "            image = self.transform(image)\n",
        "        \n",
        "        #image = transforms.functional.crop(image, 140, 360 , 240, 240) # take only right part of the system\n",
        "        #image = transforms.functional.crop(image, 220, 460 , 160, 160) # take only right tip of the system 1 \n",
        "        #image = transforms.functional.crop(image, 190, 510 , 140, 110) # more right 2\n",
        "        ## image = transforms.functional.crop(image, 190, 470 , 140, 140) # more right 3\n",
        "        #image = transforms.functional.crop(image, 190, 440 , 140, 180) # more right 4\n",
        "        #image = transforms.functional.crop(image, 190, 470 , 130, 150) # more right 5\n",
        "        \n",
        "        #image = transforms.functional.crop(image, 190, 285 , 140, 320) # mm\n",
        "        image = transforms.functional.crop(image, 190, 380 , 140, 230)\n",
        "        \n",
        "        #image = transforms.functional.crop(image, 190, 370 , 140, 240)\n",
        "        return image, label"
      ],
      "metadata": {
        "id": "F7jjXjoyo5e7"
      },
      "execution_count": null,
      "outputs": []
    },
    {
      "cell_type": "markdown",
      "source": [
        "## Transforms on the datasets"
      ],
      "metadata": {
        "id": "i0o2Jo1HqbPU"
      }
    },
    {
      "cell_type": "code",
      "source": [
        "# Add transforms for train, test, val dataset\n",
        "input_size_h = 512\n",
        "input_size_w = 640\n",
        "transform_train = transforms.Compose([\n",
        "   #transforms.Resize((input_size_h, input_size_w)),\n",
        "    #transforms.Grayscale(num_output_channels=1),\n",
        "    transforms.ToTensor(),\n",
        "    #transforms.RandomPerspective(),\n",
        "    #transforms.RandomRotation((1, 8))\n",
        "\n",
        "])\n",
        "\n",
        "transform_valid = transforms.Compose([\n",
        "    #transforms.Resize((input_size_h, input_size_w)),\n",
        "    #transforms.Grayscale(num_output_channels=1),\n",
        "    transforms.ToTensor()\n",
        "])\n",
        "\n",
        "transform_test = transforms.Compose([\n",
        "    #transforms.Resize((input_size_h, input_size_w)),\n",
        "    #transforms.Grayscale(num_output_channels=1),\n",
        "    transforms.ToTensor()\n",
        "])"
      ],
      "metadata": {
        "id": "mDyess9QqoJ0"
      },
      "execution_count": null,
      "outputs": []
    },
    {
      "cell_type": "markdown",
      "source": [
        "## Dataloaders and Iterator"
      ],
      "metadata": {
        "id": "bM7WKk3UucNo"
      }
    },
    {
      "cell_type": "code",
      "source": [
        "def show_batch(dl):\n",
        "    \"\"\"Plot images grid of single batch\"\"\"\n",
        "    for images, labels in dl:\n",
        "        fig,ax = plt.subplots(figsize = (16,12))\n",
        "        ax.set_xticks([])\n",
        "        ax.set_yticks([])\n",
        "        ax.imshow(make_grid(images,nrow=16).permute(1,2,0))\n",
        "        break\n",
        "\n",
        "\n",
        "\n",
        "# dataloaders\n",
        "train_dataset = ClutchDataset(\n",
        "    train_df, root_dir=dataset_path, is_train=True, transform=transform_train)\n",
        "val_dataset = ClutchDataset(val_df, root_dir=dataset_path,\n",
        "                            is_train=False, transform=transform_valid)\n",
        "test_dataset = ClutchDataset(\n",
        "    test_df, root_dir=dataset_path, is_train=False, transform=transform_test)\n",
        "\n",
        "train_loader = DataLoader(train_dataset, batch_size=8, shuffle=True)\n",
        "val_loader = DataLoader(val_dataset, batch_size=8, shuffle=False)\n",
        "test_loader = DataLoader(test_dataset, batch_size=8, shuffle=False)\n",
        "\n",
        "dataloaders_dict = {}\n",
        "dataloaders_dict['train'] = train_loader\n",
        "dataloaders_dict['val'] = val_loader\n",
        "dataloaders_dict['test'] = test_loader\n",
        "\n",
        "\n",
        "# iteratre through dataloaders\n",
        "train_features, train_labels = next(iter(train_loader))\n",
        "print(f\"Feature batch shape: {train_features.shape}\")\n",
        "print(f\"Labels batch shape: {train_labels.shape}\")\n",
        "img = train_features[0].squeeze()\n",
        "label = train_labels[0]\n",
        "\n",
        "# convert image to APPEAR RGB\n",
        "# rgb_train_features = np.repeat(train_features[..., np.newaxis], 3, -1)\n",
        "# print(f\"Feature batch shape: {rgb_train_features.shape}\")\n",
        "# train_features = rgb_train_features\n",
        "\n",
        "# plt.imshow(img, cmap=\"gray\")\n",
        "# plt.axis('off')\n",
        "# plt.show()\n",
        "# print(f\"Label: {label}\")\n",
        "show_batch(train_loader)\n",
        "\n",
        "\n",
        "\n",
        "\n"
      ],
      "metadata": {
        "colab": {
          "base_uri": "https://localhost:8080/",
          "height": 172
        },
        "id": "R7-YZ7bcuoeq",
        "outputId": "24d7e5c3-7363-4d79-bd88-1a4a9c1d3d83"
      },
      "execution_count": null,
      "outputs": [
        {
          "output_type": "stream",
          "name": "stdout",
          "text": [
            "Feature batch shape: torch.Size([8, 3, 140, 230])\n",
            "Labels batch shape: torch.Size([8])\n"
          ]
        },
        {
          "output_type": "display_data",
          "data": {
            "text/plain": [
              "<Figure size 1600x1200 with 1 Axes>"
            ],
            "image/png": "[encoded data removed]"
          },
          "metadata": {}
        }
      ]
    },
    {
      "cell_type": "markdown",
      "source": [
        "# Neural Networks\n",
        "Various different NNs tested with the same dataset"
      ],
      "metadata": {
        "id": "zvklWFrJf2a2"
      }
    },
    {
      "cell_type": "markdown",
      "source": [
        "### Metrics"
      ],
      "metadata": {
        "id": "T581bryST9mL"
      }
    },
    {
      "cell_type": "code",
      "source": [
        "def get_metrics(y_true, y_pred, class_mapping):\n",
        "\n",
        "    total_predictions = [0, 0, 0]\n",
        "    total_true = [0, 0, 0]\n",
        "\n",
        "    cm = metrics.confusion_matrix(y_true, y_pred, labels=class_mapping)\n",
        "\n",
        "    for i in range(3):\n",
        "        for j in range(3):\n",
        "            total_predictions[i] += cm[j][i]\n",
        "            total_true[i] += cm[i][j]\n",
        "\n",
        "    # recall and precision for each class\n",
        "    r_h = cm[0][0] / total_predictions[0]\n",
        "    r_m = cm[1][1] / total_predictions[1]\n",
        "    r_r = cm[2][2] / total_predictions[2]\n",
        "    p_h = cm[0][0] / total_true[0]\n",
        "    p_m = cm[1][1] / total_true[1]\n",
        "    p_r = cm[2][2] / total_true[2]\n",
        "\n",
        "    # data for confusion matrix\n",
        "    data = [[\"\", class_mapping[0], class_mapping[1], class_mapping[2], \"Total actual\"],\n",
        "            [class_mapping[0], cm[0][0], cm[0][1], cm[0][2], total_true[0]],\n",
        "            [class_mapping[1], cm[1][0], cm[1][1], cm[1][2], total_true[1]],\n",
        "            [class_mapping[2], cm[2][0], cm[2][1], cm[2][2], total_true[2]],\n",
        "            [\"Total predicted:\", total_predictions[0], total_predictions[1], total_predictions[2], sum(total_true)]]\n",
        "\n",
        "    # data for f1 score for each class\n",
        "    data_f1 = [[\"Class\", \"F1-score\"],\n",
        "               [\"Healthy\", round((2 * p_h * r_h) / (p_h + r_h), 2)],\n",
        "               [\"Misalignment\", round((2 * p_m * r_m) / (p_m + r_m), 2)],\n",
        "               [\"Rotor damage\", round((2 * p_r * r_r) / (p_r + r_r), 2)]]\n",
        "\n",
        "    # printing confusion matrix, f1 score table, recall and precision\n",
        "    print(tabulate(data, tablefmt=\"simple_grid\"))\n",
        "    print()\n",
        "    print(tabulate(data_f1, tablefmt=\"simple_grid\"))\n",
        "    print(f\"\\nRecall for healthy class: {round(r_h, 2)}\")\n",
        "    print(f\"Recall for misalignment class: {round(r_m, 2)}\")\n",
        "    print(f\"Recall for rotor damage class: {round(r_r, 2)}\")\n",
        "    print(f\"\\nPrecision for healthy class: {round(p_h, 2)}\")\n",
        "    print(f\"Precision for misalignment class: {round(p_m, 2)}\")\n",
        "    print(f\"Precision for rotor damage class: {round(p_r, 2)}\")"
      ],
      "metadata": {
        "id": "risiuh1hUWEj"
      },
      "execution_count": null,
      "outputs": []
    },
    {
      "cell_type": "markdown",
      "source": [
        "## ResNet 18 ( Transfer Learning )\n",
        "\n",
        "With the resnet18 architecture instead of developing the DNN(Dense Neural Network) on our own we take a **transfer learning approach**, so the **classification** block will be modified and the input into the first **convolutional block** will be made to look-like its 3-channel as the pretrained model accepts ony 3-channel images, this is done by taking the same grayscale image and mapping it onto the three axes. "
      ],
      "metadata": {
        "id": "wwkM_1y9zN7u"
      }
    },
    {
      "cell_type": "markdown",
      "source": [
        "### Pretrained Model\n",
        "\n"
      ],
      "metadata": {
        "id": "sFCMgR2-zz1o"
      }
    },
    {
      "cell_type": "code",
      "source": [
        "resnet = models.resnet18(pretrained=True)\n",
        "resnet = resnet.cuda() if device else resnet\n",
        "resnet"
      ],
      "metadata": {
        "id": "GRGEp8WwzkjP",
        "colab": {
          "base_uri": "https://localhost:8080/"
        },
        "outputId": "b897b4f3-fc81-4f2b-b560-a231f64da857"
      },
      "execution_count": null,
      "outputs": [
        {
          "output_type": "stream",
          "name": "stderr",
          "text": [
            "c:\\users\\nihal\\appdata\\local\\programs\\python\\python37\\lib\\site-packages\\torchvision\\models\\_utils.py:209: UserWarning: The parameter 'pretrained' is deprecated since 0.13 and may be removed in the future, please use 'weights' instead.\n",
            "  f\"The parameter '{pretrained_param}' is deprecated since 0.13 and may be removed in the future, \"\n",
            "c:\\users\\nihal\\appdata\\local\\programs\\python\\python37\\lib\\site-packages\\torchvision\\models\\_utils.py:223: UserWarning: Arguments other than a weight enum or `None` for 'weights' are deprecated since 0.13 and may be removed in the future. The current behavior is equivalent to passing `weights=ResNet18_Weights.IMAGENET1K_V1`. You can also use `weights=ResNet18_Weights.DEFAULT` to get the most up-to-date weights.\n",
            "  warnings.warn(msg)\n"
          ]
        },
        {
          "output_type": "execute_result",
          "data": {
            "text/plain": [
              "ResNet(\n",
              "  (conv1): Conv2d(3, 64, kernel_size=(7, 7), stride=(2, 2), padding=(3, 3), bias=False)\n",
              "  (bn1): BatchNorm2d(64, eps=1e-05, momentum=0.1, affine=True, track_running_stats=True)\n",
              "  (relu): ReLU(inplace=True)\n",
              "  (maxpool): MaxPool2d(kernel_size=3, stride=2, padding=1, dilation=1, ceil_mode=False)\n",
              "  (layer1): Sequential(\n",
              "    (0): BasicBlock(\n",
              "      (conv1): Conv2d(64, 64, kernel_size=(3, 3), stride=(1, 1), padding=(1, 1), bias=False)\n",
              "      (bn1): BatchNorm2d(64, eps=1e-05, momentum=0.1, affine=True, track_running_stats=True)\n",
              "      (relu): ReLU(inplace=True)\n",
              "      (conv2): Conv2d(64, 64, kernel_size=(3, 3), stride=(1, 1), padding=(1, 1), bias=False)\n",
              "      (bn2): BatchNorm2d(64, eps=1e-05, momentum=0.1, affine=True, track_running_stats=True)\n",
              "    )\n",
              "    (1): BasicBlock(\n",
              "      (conv1): Conv2d(64, 64, kernel_size=(3, 3), stride=(1, 1), padding=(1, 1), bias=False)\n",
              "      (bn1): BatchNorm2d(64, eps=1e-05, momentum=0.1, affine=True, track_running_stats=True)\n",
              "      (relu): ReLU(inplace=True)\n",
              "      (conv2): Conv2d(64, 64, kernel_size=(3, 3), stride=(1, 1), padding=(1, 1), bias=False)\n",
              "      (bn2): BatchNorm2d(64, eps=1e-05, momentum=0.1, affine=True, track_running_stats=True)\n",
              "    )\n",
              "  )\n",
              "  (layer2): Sequential(\n",
              "    (0): BasicBlock(\n",
              "      (conv1): Conv2d(64, 128, kernel_size=(3, 3), stride=(2, 2), padding=(1, 1), bias=False)\n",
              "      (bn1): BatchNorm2d(128, eps=1e-05, momentum=0.1, affine=True, track_running_stats=True)\n",
              "      (relu): ReLU(inplace=True)\n",
              "      (conv2): Conv2d(128, 128, kernel_size=(3, 3), stride=(1, 1), padding=(1, 1), bias=False)\n",
              "      (bn2): BatchNorm2d(128, eps=1e-05, momentum=0.1, affine=True, track_running_stats=True)\n",
              "      (downsample): Sequential(\n",
              "        (0): Conv2d(64, 128, kernel_size=(1, 1), stride=(2, 2), bias=False)\n",
              "        (1): BatchNorm2d(128, eps=1e-05, momentum=0.1, affine=True, track_running_stats=True)\n",
              "      )\n",
              "    )\n",
              "    (1): BasicBlock(\n",
              "      (conv1): Conv2d(128, 128, kernel_size=(3, 3), stride=(1, 1), padding=(1, 1), bias=False)\n",
              "      (bn1): BatchNorm2d(128, eps=1e-05, momentum=0.1, affine=True, track_running_stats=True)\n",
              "      (relu): ReLU(inplace=True)\n",
              "      (conv2): Conv2d(128, 128, kernel_size=(3, 3), stride=(1, 1), padding=(1, 1), bias=False)\n",
              "      (bn2): BatchNorm2d(128, eps=1e-05, momentum=0.1, affine=True, track_running_stats=True)\n",
              "    )\n",
              "  )\n",
              "  (layer3): Sequential(\n",
              "    (0): BasicBlock(\n",
              "      (conv1): Conv2d(128, 256, kernel_size=(3, 3), stride=(2, 2), padding=(1, 1), bias=False)\n",
              "      (bn1): BatchNorm2d(256, eps=1e-05, momentum=0.1, affine=True, track_running_stats=True)\n",
              "      (relu): ReLU(inplace=True)\n",
              "      (conv2): Conv2d(256, 256, kernel_size=(3, 3), stride=(1, 1), padding=(1, 1), bias=False)\n",
              "      (bn2): BatchNorm2d(256, eps=1e-05, momentum=0.1, affine=True, track_running_stats=True)\n",
              "      (downsample): Sequential(\n",
              "        (0): Conv2d(128, 256, kernel_size=(1, 1), stride=(2, 2), bias=False)\n",
              "        (1): BatchNorm2d(256, eps=1e-05, momentum=0.1, affine=True, track_running_stats=True)\n",
              "      )\n",
              "    )\n",
              "    (1): BasicBlock(\n",
              "      (conv1): Conv2d(256, 256, kernel_size=(3, 3), stride=(1, 1), padding=(1, 1), bias=False)\n",
              "      (bn1): BatchNorm2d(256, eps=1e-05, momentum=0.1, affine=True, track_running_stats=True)\n",
              "      (relu): ReLU(inplace=True)\n",
              "      (conv2): Conv2d(256, 256, kernel_size=(3, 3), stride=(1, 1), padding=(1, 1), bias=False)\n",
              "      (bn2): BatchNorm2d(256, eps=1e-05, momentum=0.1, affine=True, track_running_stats=True)\n",
              "    )\n",
              "  )\n",
              "  (layer4): Sequential(\n",
              "    (0): BasicBlock(\n",
              "      (conv1): Conv2d(256, 512, kernel_size=(3, 3), stride=(2, 2), padding=(1, 1), bias=False)\n",
              "      (bn1): BatchNorm2d(512, eps=1e-05, momentum=0.1, affine=True, track_running_stats=True)\n",
              "      (relu): ReLU(inplace=True)\n",
              "      (conv2): Conv2d(512, 512, kernel_size=(3, 3), stride=(1, 1), padding=(1, 1), bias=False)\n",
              "      (bn2): BatchNorm2d(512, eps=1e-05, momentum=0.1, affine=True, track_running_stats=True)\n",
              "      (downsample): Sequential(\n",
              "        (0): Conv2d(256, 512, kernel_size=(1, 1), stride=(2, 2), bias=False)\n",
              "        (1): BatchNorm2d(512, eps=1e-05, momentum=0.1, affine=True, track_running_stats=True)\n",
              "      )\n",
              "    )\n",
              "    (1): BasicBlock(\n",
              "      (conv1): Conv2d(512, 512, kernel_size=(3, 3), stride=(1, 1), padding=(1, 1), bias=False)\n",
              "      (bn1): BatchNorm2d(512, eps=1e-05, momentum=0.1, affine=True, track_running_stats=True)\n",
              "      (relu): ReLU(inplace=True)\n",
              "      (conv2): Conv2d(512, 512, kernel_size=(3, 3), stride=(1, 1), padding=(1, 1), bias=False)\n",
              "      (bn2): BatchNorm2d(512, eps=1e-05, momentum=0.1, affine=True, track_running_stats=True)\n",
              "    )\n",
              "  )\n",
              "  (avgpool): AdaptiveAvgPool2d(output_size=(1, 1))\n",
              "  (fc): Linear(in_features=512, out_features=1000, bias=True)\n",
              ")"
            ]
          },
          "metadata": {},
          "execution_count": 11
        }
      ]
    },
    {
      "cell_type": "markdown",
      "source": [
        "### Changes to pretrained model to fit dataset"
      ],
      "metadata": {
        "id": "jk5yuA1Z0qnJ"
      }
    },
    {
      "cell_type": "code",
      "source": [
        "num_ftrs = resnet.fc.in_features\n",
        "resnet.fc = nn.Linear(num_ftrs, 3)\n",
        "resnet.fc = resnet.fc.cuda() \n",
        "resnet"
      ],
      "metadata": {
        "id": "d6XS7lYPI0IH",
        "colab": {
          "base_uri": "https://localhost:8080/"
        },
        "outputId": "7030fa79-7463-4901-d507-5da1fb500b2d"
      },
      "execution_count": null,
      "outputs": [
        {
          "output_type": "execute_result",
          "data": {
            "text/plain": [
              "ResNet(\n",
              "  (conv1): Conv2d(3, 64, kernel_size=(7, 7), stride=(2, 2), padding=(3, 3), bias=False)\n",
              "  (bn1): BatchNorm2d(64, eps=1e-05, momentum=0.1, affine=True, track_running_stats=True)\n",
              "  (relu): ReLU(inplace=True)\n",
              "  (maxpool): MaxPool2d(kernel_size=3, stride=2, padding=1, dilation=1, ceil_mode=False)\n",
              "  (layer1): Sequential(\n",
              "    (0): BasicBlock(\n",
              "      (conv1): Conv2d(64, 64, kernel_size=(3, 3), stride=(1, 1), padding=(1, 1), bias=False)\n",
              "      (bn1): BatchNorm2d(64, eps=1e-05, momentum=0.1, affine=True, track_running_stats=True)\n",
              "      (relu): ReLU(inplace=True)\n",
              "      (conv2): Conv2d(64, 64, kernel_size=(3, 3), stride=(1, 1), padding=(1, 1), bias=False)\n",
              "      (bn2): BatchNorm2d(64, eps=1e-05, momentum=0.1, affine=True, track_running_stats=True)\n",
              "    )\n",
              "    (1): BasicBlock(\n",
              "      (conv1): Conv2d(64, 64, kernel_size=(3, 3), stride=(1, 1), padding=(1, 1), bias=False)\n",
              "      (bn1): BatchNorm2d(64, eps=1e-05, momentum=0.1, affine=True, track_running_stats=True)\n",
              "      (relu): ReLU(inplace=True)\n",
              "      (conv2): Conv2d(64, 64, kernel_size=(3, 3), stride=(1, 1), padding=(1, 1), bias=False)\n",
              "      (bn2): BatchNorm2d(64, eps=1e-05, momentum=0.1, affine=True, track_running_stats=True)\n",
              "    )\n",
              "  )\n",
              "  (layer2): Sequential(\n",
              "    (0): BasicBlock(\n",
              "      (conv1): Conv2d(64, 128, kernel_size=(3, 3), stride=(2, 2), padding=(1, 1), bias=False)\n",
              "      (bn1): BatchNorm2d(128, eps=1e-05, momentum=0.1, affine=True, track_running_stats=True)\n",
              "      (relu): ReLU(inplace=True)\n",
              "      (conv2): Conv2d(128, 128, kernel_size=(3, 3), stride=(1, 1), padding=(1, 1), bias=False)\n",
              "      (bn2): BatchNorm2d(128, eps=1e-05, momentum=0.1, affine=True, track_running_stats=True)\n",
              "      (downsample): Sequential(\n",
              "        (0): Conv2d(64, 128, kernel_size=(1, 1), stride=(2, 2), bias=False)\n",
              "        (1): BatchNorm2d(128, eps=1e-05, momentum=0.1, affine=True, track_running_stats=True)\n",
              "      )\n",
              "    )\n",
              "    (1): BasicBlock(\n",
              "      (conv1): Conv2d(128, 128, kernel_size=(3, 3), stride=(1, 1), padding=(1, 1), bias=False)\n",
              "      (bn1): BatchNorm2d(128, eps=1e-05, momentum=0.1, affine=True, track_running_stats=True)\n",
              "      (relu): ReLU(inplace=True)\n",
              "      (conv2): Conv2d(128, 128, kernel_size=(3, 3), stride=(1, 1), padding=(1, 1), bias=False)\n",
              "      (bn2): BatchNorm2d(128, eps=1e-05, momentum=0.1, affine=True, track_running_stats=True)\n",
              "    )\n",
              "  )\n",
              "  (layer3): Sequential(\n",
              "    (0): BasicBlock(\n",
              "      (conv1): Conv2d(128, 256, kernel_size=(3, 3), stride=(2, 2), padding=(1, 1), bias=False)\n",
              "      (bn1): BatchNorm2d(256, eps=1e-05, momentum=0.1, affine=True, track_running_stats=True)\n",
              "      (relu): ReLU(inplace=True)\n",
              "      (conv2): Conv2d(256, 256, kernel_size=(3, 3), stride=(1, 1), padding=(1, 1), bias=False)\n",
              "      (bn2): BatchNorm2d(256, eps=1e-05, momentum=0.1, affine=True, track_running_stats=True)\n",
              "      (downsample): Sequential(\n",
              "        (0): Conv2d(128, 256, kernel_size=(1, 1), stride=(2, 2), bias=False)\n",
              "        (1): BatchNorm2d(256, eps=1e-05, momentum=0.1, affine=True, track_running_stats=True)\n",
              "      )\n",
              "    )\n",
              "    (1): BasicBlock(\n",
              "      (conv1): Conv2d(256, 256, kernel_size=(3, 3), stride=(1, 1), padding=(1, 1), bias=False)\n",
              "      (bn1): BatchNorm2d(256, eps=1e-05, momentum=0.1, affine=True, track_running_stats=True)\n",
              "      (relu): ReLU(inplace=True)\n",
              "      (conv2): Conv2d(256, 256, kernel_size=(3, 3), stride=(1, 1), padding=(1, 1), bias=False)\n",
              "      (bn2): BatchNorm2d(256, eps=1e-05, momentum=0.1, affine=True, track_running_stats=True)\n",
              "    )\n",
              "  )\n",
              "  (layer4): Sequential(\n",
              "    (0): BasicBlock(\n",
              "      (conv1): Conv2d(256, 512, kernel_size=(3, 3), stride=(2, 2), padding=(1, 1), bias=False)\n",
              "      (bn1): BatchNorm2d(512, eps=1e-05, momentum=0.1, affine=True, track_running_stats=True)\n",
              "      (relu): ReLU(inplace=True)\n",
              "      (conv2): Conv2d(512, 512, kernel_size=(3, 3), stride=(1, 1), padding=(1, 1), bias=False)\n",
              "      (bn2): BatchNorm2d(512, eps=1e-05, momentum=0.1, affine=True, track_running_stats=True)\n",
              "      (downsample): Sequential(\n",
              "        (0): Conv2d(256, 512, kernel_size=(1, 1), stride=(2, 2), bias=False)\n",
              "        (1): BatchNorm2d(512, eps=1e-05, momentum=0.1, affine=True, track_running_stats=True)\n",
              "      )\n",
              "    )\n",
              "    (1): BasicBlock(\n",
              "      (conv1): Conv2d(512, 512, kernel_size=(3, 3), stride=(1, 1), padding=(1, 1), bias=False)\n",
              "      (bn1): BatchNorm2d(512, eps=1e-05, momentum=0.1, affine=True, track_running_stats=True)\n",
              "      (relu): ReLU(inplace=True)\n",
              "      (conv2): Conv2d(512, 512, kernel_size=(3, 3), stride=(1, 1), padding=(1, 1), bias=False)\n",
              "      (bn2): BatchNorm2d(512, eps=1e-05, momentum=0.1, affine=True, track_running_stats=True)\n",
              "    )\n",
              "  )\n",
              "  (avgpool): AdaptiveAvgPool2d(output_size=(1, 1))\n",
              "  (fc): Linear(in_features=512, out_features=3, bias=True)\n",
              ")"
            ]
          },
          "metadata": {},
          "execution_count": 12
        }
      ]
    },
    {
      "cell_type": "markdown",
      "source": [
        "### Hyperparameters"
      ],
      "metadata": {
        "id": "6bLHGzepFzhf"
      }
    },
    {
      "cell_type": "code",
      "source": [
        "path_res = \"C:/Users/Nihal/Desktop/thermal-anomaly-detection/models/resnet18-es-8-batch.pt\"\n",
        "EPOCHS = 20\n",
        "LEARNING_RATE = 0.0001\n",
        "\n",
        "loss_val = []\n",
        "train_acc = []\n",
        "class_mapping = ['healthy', 'misalignment', 'rotor damage']"
      ],
      "metadata": {
        "id": "FAT3tgJqFtWc"
      },
      "execution_count": null,
      "outputs": []
    },
    {
      "cell_type": "markdown",
      "source": [
        "### Training per epoch\n"
      ],
      "metadata": {
        "id": "jwiKQU0S6DF-"
      }
    },
    {
      "cell_type": "code",
      "source": [
        "# def train_single_epoch(model, data_loader, lossfn, opt, dev):\n",
        "#     train_correct = 0\n",
        "#     train_total = 0\n",
        "#     for inp, target in data_loader:\n",
        "#         inp, target = inp.to(dev), target.to(dev)\n",
        "\n",
        "#         opt.zero_grad()\n",
        "#         predictions = model(inp)\n",
        "#         loss = lossfn(predictions, target)\n",
        "#         loss.backward()\n",
        "#         opt.step()\n",
        "\n",
        "        \n",
        "#         _,pred = torch.max(predictions, dim=1)\n",
        "#         train_correct += torch.sum(pred==target).item()\n",
        "#         train_total += target.size(0) \n",
        "\n",
        "\n",
        "#     print(f'Loss: {loss.item()}')\n",
        "#     loss_val.append(loss.item())\n",
        "#     print(f'Accuraccy: {100 * train_correct/train_total}')\n",
        "#     train_acc.append(100 * train_correct/train_total)\n",
        "\n",
        "\n",
        "# def train(model, data_loader, lossfn, optim, dev, epochs):\n",
        "#     for i in range(epochs):\n",
        "#         print(f'Epoch {i + 1}')\n",
        "#         train_single_epoch(model, data_loader, lossfn, optim, dev)\n",
        "\n",
        "#         print()\n",
        "#     print('Training done!')\n",
        "\n",
        "\n",
        "\n",
        "# resnet = resnet.to(device)\n",
        "# loss_fn = nn.CrossEntropyLoss()\n",
        "# optimizer = torch.optim.SGD(resnet.parameters(), lr=LEARNING_RATE, momentum=0.9)\n",
        "# # loss_fn = nn.CrossEntropyLoss(label_smoothing=0.3) # try labels smoothnig parameter \n",
        "# # optimizer = optim.AdamW(params = resnet.parameters(), lr=0.001) # try with Adam or AdamW \n",
        "\n",
        "# train(resnet, train_loader, loss_fn, optimizer, device, EPOCHS)\n",
        "# torch.save(resnet.state_dict(), path_res)\n",
        "# print('Model trained and stored at resnet18.pth')\n",
        "\n",
        "criterion = nn.CrossEntropyLoss()\n",
        "optimizer = torch.optim.SGD(resnet.parameters(), lr=3e-4, momentum=0.9)\n",
        "n_epochs = 25\n",
        "print_every = 10\n",
        "valid_loss_min = np.Inf\n",
        "val_loss = []\n",
        "val_acc = []\n",
        "train_loss = []\n",
        "train_acc = []\n",
        "total_step = len(train_loader)\n",
        "for epoch in range(1, n_epochs+1):\n",
        "    running_loss = 0.0\n",
        "    correct = 0\n",
        "    total=0\n",
        "    print(f'Epoch {epoch}\\n')\n",
        "    for batch_idx, (data_, target_) in enumerate(train_loader):\n",
        "        data_, target_ = data_.to(device), target_.to(device)\n",
        "        optimizer.zero_grad()\n",
        "        \n",
        "        outputs = resnet(data_)\n",
        "        loss = criterion(outputs, target_)\n",
        "        loss.backward()\n",
        "        optimizer.step()\n",
        "\n",
        "        running_loss += loss.item()\n",
        "        _,pred = torch.max(outputs, dim=1)\n",
        "        correct += torch.sum(pred==target_).item()\n",
        "        total += target_.size(0)\n",
        "        if (batch_idx) % 20 == 0:\n",
        "            print ('Epoch [{}/{}], Step [{}/{}], Loss: {:.4f}' \n",
        "                   .format(epoch, n_epochs, batch_idx, total_step, loss.item()))\n",
        "    train_acc.append(100 * correct / total)\n",
        "    train_loss.append(running_loss/total_step)\n",
        "    print(f'\\ntrain-loss: {np.mean(train_loss):.4f}, train-acc: {(100 * correct/total):.4f}')\n",
        "    batch_loss = 0\n",
        "    total_t=0\n",
        "    correct_t=0\n",
        "    with torch.no_grad():\n",
        "        resnet.eval()\n",
        "        for data_t, target_t in (test_loader):\n",
        "            data_t, target_t = data_t.to(device), target_t.to(device)\n",
        "            outputs_t =resnet(data_t)\n",
        "            loss_t = criterion(outputs_t, target_t)\n",
        "            batch_loss += loss_t.item()\n",
        "            _,pred_t = torch.max(outputs_t, dim=1)\n",
        "            correct_t += torch.sum(pred_t==target_t).item()\n",
        "            total_t += target_t.size(0)\n",
        "        val_acc.append(100 * correct_t/total_t)\n",
        "        val_loss.append(batch_loss/len(test_loader))\n",
        "        network_learned = batch_loss < valid_loss_min\n",
        "        print(f'validation loss: {np.mean(val_loss):.4f}, validation acc: {(100 * correct_t/total_t):.4f}\\n')\n",
        "\n",
        "        \n",
        "        if network_learned:\n",
        "            valid_loss_min = batch_loss\n",
        "            torch.save(resnet.state_dict(), path_res)\n",
        "            print('Improvement-Detected, save-model')\n",
        "    resnet.train()\n",
        "\n",
        "\n"
      ],
      "metadata": {
        "id": "n7EzSnjL6Cvk",
        "colab": {
          "base_uri": "https://localhost:8080/",
          "height": 1000
        },
        "outputId": "bce73f29-8c85-4ed5-fe70-fd701260512c"
      },
      "execution_count": null,
      "outputs": [
        {
          "output_type": "stream",
          "name": "stdout",
          "text": [
            "Epoch 1\n",
            "\n",
            "Epoch [1/25], Step [0/338], Loss: 1.1476\n",
            "Epoch [1/25], Step [20/338], Loss: 0.6760\n",
            "Epoch [1/25], Step [40/338], Loss: 0.1754\n",
            "Epoch [1/25], Step [60/338], Loss: 0.1295\n",
            "Epoch [1/25], Step [80/338], Loss: 0.2384\n",
            "Epoch [1/25], Step [100/338], Loss: 0.0403\n",
            "Epoch [1/25], Step [120/338], Loss: 0.0297\n",
            "Epoch [1/25], Step [140/338], Loss: 0.0268\n",
            "Epoch [1/25], Step [160/338], Loss: 0.0118\n",
            "Epoch [1/25], Step [180/338], Loss: 0.0248\n",
            "Epoch [1/25], Step [200/338], Loss: 0.0375\n",
            "Epoch [1/25], Step [220/338], Loss: 0.0307\n",
            "Epoch [1/25], Step [240/338], Loss: 0.0142\n",
            "Epoch [1/25], Step [260/338], Loss: 0.0122\n",
            "Epoch [1/25], Step [280/338], Loss: 0.0092\n",
            "Epoch [1/25], Step [300/338], Loss: 0.0058\n",
            "Epoch [1/25], Step [320/338], Loss: 0.0043\n",
            "\n",
            "train-loss: 0.1329, train-acc: 96.5964\n",
            "validation loss: 0.5656, validation acc: 72.9647\n",
            "\n",
            "Improvement-Detected, save-model\n",
            "Epoch 2\n",
            "\n",
            "Epoch [2/25], Step [0/338], Loss: 0.0090\n",
            "Epoch [2/25], Step [20/338], Loss: 0.0145\n",
            "Epoch [2/25], Step [40/338], Loss: 0.0032\n",
            "Epoch [2/25], Step [60/338], Loss: 0.0155\n",
            "Epoch [2/25], Step [80/338], Loss: 0.0039\n",
            "Epoch [2/25], Step [100/338], Loss: 0.0190\n",
            "Epoch [2/25], Step [120/338], Loss: 0.0055\n",
            "Epoch [2/25], Step [140/338], Loss: 0.0254\n",
            "Epoch [2/25], Step [160/338], Loss: 0.0055\n",
            "Epoch [2/25], Step [180/338], Loss: 0.0041\n",
            "Epoch [2/25], Step [200/338], Loss: 0.0054\n",
            "Epoch [2/25], Step [220/338], Loss: 0.0046\n",
            "Epoch [2/25], Step [240/338], Loss: 0.1624\n",
            "Epoch [2/25], Step [260/338], Loss: 0.0088\n",
            "Epoch [2/25], Step [280/338], Loss: 0.0042\n",
            "Epoch [2/25], Step [300/338], Loss: 0.0158\n",
            "Epoch [2/25], Step [320/338], Loss: 0.0013\n",
            "\n",
            "train-loss: 0.0756, train-acc: 99.8520\n",
            "validation loss: 0.5501, validation acc: 79.7235\n",
            "\n",
            "Improvement-Detected, save-model\n",
            "Epoch 3\n",
            "\n",
            "Epoch [3/25], Step [0/338], Loss: 0.0021\n",
            "Epoch [3/25], Step [20/338], Loss: 0.0017\n",
            "Epoch [3/25], Step [40/338], Loss: 0.0018\n",
            "Epoch [3/25], Step [60/338], Loss: 0.0037\n",
            "Epoch [3/25], Step [80/338], Loss: 0.0104\n",
            "Epoch [3/25], Step [100/338], Loss: 0.0007\n",
            "Epoch [3/25], Step [120/338], Loss: 0.0046\n",
            "Epoch [3/25], Step [140/338], Loss: 0.0009\n",
            "Epoch [3/25], Step [160/338], Loss: 0.0548\n",
            "Epoch [3/25], Step [180/338], Loss: 0.0008\n",
            "Epoch [3/25], Step [200/338], Loss: 0.0004\n",
            "Epoch [3/25], Step [220/338], Loss: 0.0138\n",
            "Epoch [3/25], Step [240/338], Loss: 0.0010\n",
            "Epoch [3/25], Step [260/338], Loss: 0.0007\n",
            "Epoch [3/25], Step [280/338], Loss: 0.0049\n",
            "Epoch [3/25], Step [300/338], Loss: 0.0015\n",
            "Epoch [3/25], Step [320/338], Loss: 0.0123\n",
            "\n",
            "train-loss: 0.0556, train-acc: 99.6300\n",
            "validation loss: 0.4791, validation acc: 84.9462\n",
            "\n",
            "Improvement-Detected, save-model\n",
            "Epoch 4\n",
            "\n",
            "Epoch [4/25], Step [0/338], Loss: 0.0035\n",
            "Epoch [4/25], Step [20/338], Loss: 0.0158\n",
            "Epoch [4/25], Step [40/338], Loss: 0.0051\n",
            "Epoch [4/25], Step [60/338], Loss: 0.0044\n",
            "Epoch [4/25], Step [80/338], Loss: 0.0022\n",
            "Epoch [4/25], Step [100/338], Loss: 0.0005\n",
            "Epoch [4/25], Step [120/338], Loss: 0.0170\n",
            "Epoch [4/25], Step [140/338], Loss: 0.0033\n",
            "Epoch [4/25], Step [160/338], Loss: 0.0093\n",
            "Epoch [4/25], Step [180/338], Loss: 0.0009\n",
            "Epoch [4/25], Step [200/338], Loss: 0.0006\n",
            "Epoch [4/25], Step [220/338], Loss: 0.0017\n",
            "Epoch [4/25], Step [240/338], Loss: 0.0007\n",
            "Epoch [4/25], Step [260/338], Loss: 0.0012\n",
            "Epoch [4/25], Step [280/338], Loss: 0.0004\n",
            "Epoch [4/25], Step [300/338], Loss: 0.0006\n",
            "Epoch [4/25], Step [320/338], Loss: 0.0079\n",
            "\n",
            "train-loss: 0.0440, train-acc: 99.9630\n",
            "validation loss: 0.4743, validation acc: 80.4916\n",
            "\n",
            "Epoch 5\n",
            "\n",
            "Epoch [5/25], Step [0/338], Loss: 0.0015\n",
            "Epoch [5/25], Step [20/338], Loss: 0.0003\n",
            "Epoch [5/25], Step [40/338], Loss: 0.0010\n",
            "Epoch [5/25], Step [60/338], Loss: 0.0004\n",
            "Epoch [5/25], Step [80/338], Loss: 0.0030\n",
            "Epoch [5/25], Step [100/338], Loss: 0.0005\n",
            "Epoch [5/25], Step [120/338], Loss: 0.0038\n",
            "Epoch [5/25], Step [140/338], Loss: 0.0002\n",
            "Epoch [5/25], Step [160/338], Loss: 0.0038\n",
            "Epoch [5/25], Step [180/338], Loss: 0.0002\n",
            "Epoch [5/25], Step [200/338], Loss: 0.0006\n",
            "Epoch [5/25], Step [220/338], Loss: 0.0017\n",
            "Epoch [5/25], Step [240/338], Loss: 0.0013\n",
            "Epoch [5/25], Step [260/338], Loss: 0.0002\n",
            "Epoch [5/25], Step [280/338], Loss: 0.0002\n",
            "Epoch [5/25], Step [300/338], Loss: 0.0053\n",
            "Epoch [5/25], Step [320/338], Loss: 0.0045\n",
            "\n",
            "train-loss: 0.0372, train-acc: 99.7780\n",
            "validation loss: 0.4280, validation acc: 89.8618\n",
            "\n",
            "Improvement-Detected, save-model\n",
            "Epoch 6\n",
            "\n",
            "Epoch [6/25], Step [0/338], Loss: 0.0002\n",
            "Epoch [6/25], Step [20/338], Loss: 0.0071\n",
            "Epoch [6/25], Step [40/338], Loss: 0.0013\n",
            "Epoch [6/25], Step [60/338], Loss: 0.0182\n",
            "Epoch [6/25], Step [80/338], Loss: 0.0173\n",
            "Epoch [6/25], Step [100/338], Loss: 0.0019\n",
            "Epoch [6/25], Step [120/338], Loss: 0.0020\n",
            "Epoch [6/25], Step [140/338], Loss: 0.0018\n",
            "Epoch [6/25], Step [160/338], Loss: 0.0006\n",
            "Epoch [6/25], Step [180/338], Loss: 0.0010\n",
            "Epoch [6/25], Step [200/338], Loss: 0.0016\n",
            "Epoch [6/25], Step [220/338], Loss: 0.0006\n",
            "Epoch [6/25], Step [240/338], Loss: 0.0003\n",
            "Epoch [6/25], Step [260/338], Loss: 0.0035\n",
            "Epoch [6/25], Step [280/338], Loss: 0.0001\n",
            "Epoch [6/25], Step [300/338], Loss: 0.0006\n",
            "Epoch [6/25], Step [320/338], Loss: 0.0005\n",
            "\n",
            "train-loss: 0.0316, train-acc: 100.0000\n",
            "validation loss: 0.4512, validation acc: 78.6482\n",
            "\n",
            "Epoch 7\n",
            "\n",
            "Epoch [7/25], Step [0/338], Loss: 0.0002\n",
            "Epoch [7/25], Step [20/338], Loss: 0.0021\n",
            "Epoch [7/25], Step [40/338], Loss: 0.0002\n",
            "Epoch [7/25], Step [60/338], Loss: 0.0144\n",
            "Epoch [7/25], Step [80/338], Loss: 0.0003\n",
            "Epoch [7/25], Step [100/338], Loss: 0.0002\n",
            "Epoch [7/25], Step [120/338], Loss: 0.0004\n",
            "Epoch [7/25], Step [140/338], Loss: 0.0002\n",
            "Epoch [7/25], Step [160/338], Loss: 0.0001\n",
            "Epoch [7/25], Step [180/338], Loss: 0.0003\n",
            "Epoch [7/25], Step [200/338], Loss: 0.0003\n",
            "Epoch [7/25], Step [220/338], Loss: 0.0015\n",
            "Epoch [7/25], Step [240/338], Loss: 0.0179\n",
            "Epoch [7/25], Step [260/338], Loss: 0.0026\n",
            "Epoch [7/25], Step [280/338], Loss: 0.0099\n",
            "Epoch [7/25], Step [300/338], Loss: 0.0024\n",
            "Epoch [7/25], Step [320/338], Loss: 0.0119\n",
            "\n",
            "train-loss: 0.0288, train-acc: 99.5930\n",
            "validation loss: 0.4950, validation acc: 78.8018\n",
            "\n",
            "Epoch 8\n",
            "\n",
            "Epoch [8/25], Step [0/338], Loss: 0.0001\n",
            "Epoch [8/25], Step [20/338], Loss: 0.0001\n",
            "Epoch [8/25], Step [40/338], Loss: 0.0002\n",
            "Epoch [8/25], Step [60/338], Loss: 0.0002\n",
            "Epoch [8/25], Step [80/338], Loss: 0.0003\n",
            "Epoch [8/25], Step [100/338], Loss: 0.0031\n",
            "Epoch [8/25], Step [120/338], Loss: 0.0035\n",
            "Epoch [8/25], Step [140/338], Loss: 0.0013\n",
            "Epoch [8/25], Step [160/338], Loss: 0.0047\n",
            "Epoch [8/25], Step [180/338], Loss: 0.0015\n",
            "Epoch [8/25], Step [200/338], Loss: 0.0002\n",
            "Epoch [8/25], Step [220/338], Loss: 0.0035\n",
            "Epoch [8/25], Step [240/338], Loss: 0.0015\n",
            "Epoch [8/25], Step [260/338], Loss: 0.0007\n",
            "Epoch [8/25], Step [280/338], Loss: 0.0022\n",
            "Epoch [8/25], Step [300/338], Loss: 0.0005\n",
            "Epoch [8/25], Step [320/338], Loss: 0.0008\n",
            "\n",
            "train-loss: 0.0258, train-acc: 99.8520\n",
            "validation loss: 0.4958, validation acc: 80.1843\n",
            "\n",
            "Epoch 9\n",
            "\n",
            "Epoch [9/25], Step [0/338], Loss: 0.0001\n",
            "Epoch [9/25], Step [20/338], Loss: 0.0230\n",
            "Epoch [9/25], Step [40/338], Loss: 0.0002\n",
            "Epoch [9/25], Step [60/338], Loss: 0.0025\n",
            "Epoch [9/25], Step [80/338], Loss: 0.0001\n",
            "Epoch [9/25], Step [100/338], Loss: 0.0001\n",
            "Epoch [9/25], Step [120/338], Loss: 0.0003\n",
            "Epoch [9/25], Step [140/338], Loss: 0.0002\n",
            "Epoch [9/25], Step [160/338], Loss: 0.0004\n",
            "Epoch [9/25], Step [180/338], Loss: 0.0002\n",
            "Epoch [9/25], Step [200/338], Loss: 0.0013\n",
            "Epoch [9/25], Step [220/338], Loss: 0.0024\n",
            "Epoch [9/25], Step [240/338], Loss: 0.0005\n",
            "Epoch [9/25], Step [260/338], Loss: 0.0011\n",
            "Epoch [9/25], Step [280/338], Loss: 0.0003\n",
            "Epoch [9/25], Step [300/338], Loss: 0.0011\n",
            "Epoch [9/25], Step [320/338], Loss: 0.0004\n",
            "\n",
            "train-loss: 0.0234, train-acc: 99.8890\n",
            "validation loss: 0.4841, validation acc: 83.8710\n",
            "\n",
            "Epoch 10\n",
            "\n",
            "Epoch [10/25], Step [0/338], Loss: 0.0003\n",
            "Epoch [10/25], Step [20/338], Loss: 0.0022\n",
            "Epoch [10/25], Step [40/338], Loss: 0.0018\n",
            "Epoch [10/25], Step [60/338], Loss: 0.0006\n",
            "Epoch [10/25], Step [80/338], Loss: 0.0001\n",
            "Epoch [10/25], Step [100/338], Loss: 0.0068\n",
            "Epoch [10/25], Step [120/338], Loss: 0.0025\n",
            "Epoch [10/25], Step [140/338], Loss: 0.0003\n",
            "Epoch [10/25], Step [160/338], Loss: 0.0006\n",
            "Epoch [10/25], Step [180/338], Loss: 0.0136\n",
            "Epoch [10/25], Step [200/338], Loss: 0.0014\n",
            "Epoch [10/25], Step [220/338], Loss: 0.0010\n",
            "Epoch [10/25], Step [240/338], Loss: 0.0001\n",
            "Epoch [10/25], Step [260/338], Loss: 0.0070\n",
            "Epoch [10/25], Step [280/338], Loss: 0.0015\n",
            "Epoch [10/25], Step [300/338], Loss: 0.0011\n",
            "Epoch [10/25], Step [320/338], Loss: 0.0001\n",
            "\n",
            "train-loss: 0.0214, train-acc: 100.0000\n",
            "validation loss: 0.4988, validation acc: 79.5699\n",
            "\n",
            "Epoch 11\n",
            "\n",
            "Epoch [11/25], Step [0/338], Loss: 0.0004\n",
            "Epoch [11/25], Step [20/338], Loss: 0.0003\n",
            "Epoch [11/25], Step [40/338], Loss: 0.0002\n",
            "Epoch [11/25], Step [60/338], Loss: 0.0009\n",
            "Epoch [11/25], Step [80/338], Loss: 0.0026\n",
            "Epoch [11/25], Step [100/338], Loss: 0.0001\n",
            "Epoch [11/25], Step [120/338], Loss: 0.0710\n",
            "Epoch [11/25], Step [140/338], Loss: 0.0001\n",
            "Epoch [11/25], Step [160/338], Loss: 0.0001\n",
            "Epoch [11/25], Step [180/338], Loss: 0.0002\n",
            "Epoch [11/25], Step [200/338], Loss: 0.0001\n",
            "Epoch [11/25], Step [220/338], Loss: 0.0056\n",
            "Epoch [11/25], Step [240/338], Loss: 0.0002\n",
            "Epoch [11/25], Step [260/338], Loss: 0.0001\n",
            "Epoch [11/25], Step [280/338], Loss: 0.0002\n",
            "Epoch [11/25], Step [300/338], Loss: 0.0000\n",
            "Epoch [11/25], Step [320/338], Loss: 0.0002\n",
            "\n",
            "train-loss: 0.0199, train-acc: 99.9260\n",
            "validation loss: 0.5113, validation acc: 79.4163\n",
            "\n",
            "Epoch 12\n",
            "\n",
            "Epoch [12/25], Step [0/338], Loss: 0.0001\n",
            "Epoch [12/25], Step [20/338], Loss: 0.0029\n",
            "Epoch [12/25], Step [40/338], Loss: 0.0022\n",
            "Epoch [12/25], Step [60/338], Loss: 0.0012\n",
            "Epoch [12/25], Step [80/338], Loss: 0.0002\n",
            "Epoch [12/25], Step [100/338], Loss: 0.0002\n",
            "Epoch [12/25], Step [120/338], Loss: 0.0003\n",
            "Epoch [12/25], Step [140/338], Loss: 0.0001\n",
            "Epoch [12/25], Step [160/338], Loss: 0.0003\n",
            "Epoch [12/25], Step [180/338], Loss: 0.0003\n",
            "Epoch [12/25], Step [200/338], Loss: 0.0002\n",
            "Epoch [12/25], Step [220/338], Loss: 0.0014\n",
            "Epoch [12/25], Step [240/338], Loss: 0.0001\n",
            "Epoch [12/25], Step [260/338], Loss: 0.0007\n",
            "Epoch [12/25], Step [280/338], Loss: 0.0001\n",
            "Epoch [12/25], Step [300/338], Loss: 0.0001\n",
            "Epoch [12/25], Step [320/338], Loss: 0.0004\n",
            "\n",
            "train-loss: 0.0186, train-acc: 99.9260\n",
            "validation loss: 0.5122, validation acc: 82.9493\n",
            "\n",
            "Epoch 13\n",
            "\n",
            "Epoch [13/25], Step [0/338], Loss: 0.0053\n",
            "Epoch [13/25], Step [20/338], Loss: 0.0000\n",
            "Epoch [13/25], Step [40/338], Loss: 0.0009\n",
            "Epoch [13/25], Step [60/338], Loss: 0.0001\n",
            "Epoch [13/25], Step [80/338], Loss: 0.0005\n",
            "Epoch [13/25], Step [100/338], Loss: 0.0001\n",
            "Epoch [13/25], Step [120/338], Loss: 0.0001\n",
            "Epoch [13/25], Step [140/338], Loss: 0.0024\n",
            "Epoch [13/25], Step [160/338], Loss: 0.0001\n",
            "Epoch [13/25], Step [180/338], Loss: 0.0010\n",
            "Epoch [13/25], Step [200/338], Loss: 0.0001\n",
            "Epoch [13/25], Step [220/338], Loss: 0.0000\n",
            "Epoch [13/25], Step [240/338], Loss: 0.0007\n",
            "Epoch [13/25], Step [260/338], Loss: 0.0014\n",
            "Epoch [13/25], Step [280/338], Loss: 0.0001\n",
            "Epoch [13/25], Step [300/338], Loss: 0.0007\n",
            "Epoch [13/25], Step [320/338], Loss: 0.0004\n",
            "\n",
            "train-loss: 0.0173, train-acc: 99.9630\n",
            "validation loss: 0.5012, validation acc: 84.7926\n",
            "\n",
            "Epoch 14\n",
            "\n",
            "Epoch [14/25], Step [0/338], Loss: 0.0010\n",
            "Epoch [14/25], Step [20/338], Loss: 0.0072\n",
            "Epoch [14/25], Step [40/338], Loss: 0.0003\n",
            "Epoch [14/25], Step [60/338], Loss: 0.0002\n",
            "Epoch [14/25], Step [80/338], Loss: 0.0003\n",
            "Epoch [14/25], Step [100/338], Loss: 0.3622\n",
            "Epoch [14/25], Step [120/338], Loss: 0.0001\n",
            "Epoch [14/25], Step [140/338], Loss: 0.0012\n",
            "Epoch [14/25], Step [160/338], Loss: 0.0001\n",
            "Epoch [14/25], Step [180/338], Loss: 0.0002\n",
            "Epoch [14/25], Step [200/338], Loss: 0.0000\n",
            "Epoch [14/25], Step [220/338], Loss: 0.0032\n",
            "Epoch [14/25], Step [240/338], Loss: 0.0001\n",
            "Epoch [14/25], Step [260/338], Loss: 0.0001\n",
            "Epoch [14/25], Step [280/338], Loss: 0.0011\n",
            "Epoch [14/25], Step [300/338], Loss: 0.0001\n",
            "Epoch [14/25], Step [320/338], Loss: 0.0009\n",
            "\n",
            "train-loss: 0.0164, train-acc: 99.9630\n",
            "validation loss: 0.4983, validation acc: 84.0246\n",
            "\n",
            "Epoch 15\n",
            "\n",
            "Epoch [15/25], Step [0/338], Loss: 0.0000\n",
            "Epoch [15/25], Step [20/338], Loss: 0.0001\n",
            "Epoch [15/25], Step [40/338], Loss: 0.0006\n",
            "Epoch [15/25], Step [60/338], Loss: 0.0000\n",
            "Epoch [15/25], Step [80/338], Loss: 0.0014\n",
            "Epoch [15/25], Step [100/338], Loss: 0.0003\n",
            "Epoch [15/25], Step [120/338], Loss: 0.0001\n",
            "Epoch [15/25], Step [140/338], Loss: 0.0000\n",
            "Epoch [15/25], Step [160/338], Loss: 0.0006\n",
            "Epoch [15/25], Step [180/338], Loss: 0.0014\n",
            "Epoch [15/25], Step [200/338], Loss: 0.0001\n",
            "Epoch [15/25], Step [220/338], Loss: 0.0008\n",
            "Epoch [15/25], Step [240/338], Loss: 0.0005\n",
            "Epoch [15/25], Step [260/338], Loss: 0.0100\n",
            "Epoch [15/25], Step [280/338], Loss: 0.0002\n",
            "Epoch [15/25], Step [300/338], Loss: 0.0086\n",
            "Epoch [15/25], Step [320/338], Loss: 0.0006\n",
            "\n",
            "train-loss: 0.0154, train-acc: 100.0000\n",
            "validation loss: 0.5246, validation acc: 80.9524\n",
            "\n",
            "Epoch 16\n",
            "\n",
            "Epoch [16/25], Step [0/338], Loss: 0.0337\n",
            "Epoch [16/25], Step [20/338], Loss: 0.0273\n",
            "Epoch [16/25], Step [40/338], Loss: 0.0002\n",
            "Epoch [16/25], Step [60/338], Loss: 0.0001\n",
            "Epoch [16/25], Step [80/338], Loss: 0.0008\n",
            "Epoch [16/25], Step [100/338], Loss: 0.0007\n",
            "Epoch [16/25], Step [120/338], Loss: 0.0001\n",
            "Epoch [16/25], Step [140/338], Loss: 0.0003\n",
            "Epoch [16/25], Step [160/338], Loss: 0.0004\n",
            "Epoch [16/25], Step [180/338], Loss: 0.0010\n",
            "Epoch [16/25], Step [200/338], Loss: 0.0000\n",
            "Epoch [16/25], Step [220/338], Loss: 0.0002\n",
            "Epoch [16/25], Step [240/338], Loss: 0.0000\n",
            "Epoch [16/25], Step [260/338], Loss: 0.0001\n",
            "Epoch [16/25], Step [280/338], Loss: 0.0000\n",
            "Epoch [16/25], Step [300/338], Loss: 0.0004\n",
            "Epoch [16/25], Step [320/338], Loss: 0.0000\n",
            "\n",
            "train-loss: 0.0147, train-acc: 99.8890\n",
            "validation loss: 0.5318, validation acc: 83.1029\n",
            "\n",
            "Epoch 17\n",
            "\n",
            "Epoch [17/25], Step [0/338], Loss: 0.0001\n",
            "Epoch [17/25], Step [20/338], Loss: 0.0273\n",
            "Epoch [17/25], Step [40/338], Loss: 0.0000\n",
            "Epoch [17/25], Step [60/338], Loss: 0.0050\n",
            "Epoch [17/25], Step [80/338], Loss: 0.0007\n",
            "Epoch [17/25], Step [100/338], Loss: 0.0003\n",
            "Epoch [17/25], Step [120/338], Loss: 0.0000\n",
            "Epoch [17/25], Step [140/338], Loss: 0.0005\n",
            "Epoch [17/25], Step [160/338], Loss: 0.0001\n",
            "Epoch [17/25], Step [180/338], Loss: 0.0001\n",
            "Epoch [17/25], Step [200/338], Loss: 0.0003\n",
            "Epoch [17/25], Step [220/338], Loss: 0.0001\n",
            "Epoch [17/25], Step [240/338], Loss: 0.0001\n",
            "Epoch [17/25], Step [260/338], Loss: 0.0007\n",
            "Epoch [17/25], Step [280/338], Loss: 0.0000\n",
            "Epoch [17/25], Step [300/338], Loss: 0.0007\n",
            "Epoch [17/25], Step [320/338], Loss: 0.0438\n",
            "\n",
            "train-loss: 0.0139, train-acc: 100.0000\n",
            "validation loss: 0.5373, validation acc: 83.1029\n",
            "\n",
            "Epoch 18\n",
            "\n",
            "Epoch [18/25], Step [0/338], Loss: 0.0003\n",
            "Epoch [18/25], Step [20/338], Loss: 0.0004\n",
            "Epoch [18/25], Step [40/338], Loss: 0.0000\n",
            "Epoch [18/25], Step [60/338], Loss: 0.0001\n",
            "Epoch [18/25], Step [80/338], Loss: 0.0004\n",
            "Epoch [18/25], Step [100/338], Loss: 0.0000\n",
            "Epoch [18/25], Step [120/338], Loss: 0.0003\n",
            "Epoch [18/25], Step [140/338], Loss: 0.0003\n",
            "Epoch [18/25], Step [160/338], Loss: 0.0002\n",
            "Epoch [18/25], Step [180/338], Loss: 0.0001\n",
            "Epoch [18/25], Step [200/338], Loss: 0.0001\n",
            "Epoch [18/25], Step [220/338], Loss: 0.0000\n",
            "Epoch [18/25], Step [240/338], Loss: 0.0001\n",
            "Epoch [18/25], Step [260/338], Loss: 0.0003\n",
            "Epoch [18/25], Step [280/338], Loss: 0.0002\n",
            "Epoch [18/25], Step [300/338], Loss: 0.0003\n",
            "Epoch [18/25], Step [320/338], Loss: 0.0005\n",
            "\n",
            "train-loss: 0.0132, train-acc: 100.0000\n",
            "validation loss: 0.5438, validation acc: 82.1813\n",
            "\n",
            "Epoch 19\n",
            "\n",
            "Epoch [19/25], Step [0/338], Loss: 0.0001\n",
            "Epoch [19/25], Step [20/338], Loss: 0.0001\n",
            "Epoch [19/25], Step [40/338], Loss: 0.0044\n",
            "Epoch [19/25], Step [60/338], Loss: 0.0001\n",
            "Epoch [19/25], Step [80/338], Loss: 0.0003\n",
            "Epoch [19/25], Step [100/338], Loss: 0.0002\n",
            "Epoch [19/25], Step [120/338], Loss: 0.0000\n",
            "Epoch [19/25], Step [140/338], Loss: 0.0058\n",
            "Epoch [19/25], Step [160/338], Loss: 0.0003\n",
            "Epoch [19/25], Step [180/338], Loss: 0.0005\n",
            "Epoch [19/25], Step [200/338], Loss: 0.0014\n",
            "Epoch [19/25], Step [220/338], Loss: 0.0002\n",
            "Epoch [19/25], Step [240/338], Loss: 0.0004\n",
            "Epoch [19/25], Step [260/338], Loss: 0.0000\n",
            "Epoch [19/25], Step [280/338], Loss: 0.0197\n",
            "Epoch [19/25], Step [300/338], Loss: 0.0000\n",
            "Epoch [19/25], Step [320/338], Loss: 0.0001\n",
            "\n",
            "train-loss: 0.0126, train-acc: 100.0000\n",
            "validation loss: 0.5405, validation acc: 83.1029\n",
            "\n",
            "Epoch 20\n",
            "\n",
            "Epoch [20/25], Step [0/338], Loss: 0.0002\n",
            "Epoch [20/25], Step [20/338], Loss: 0.0006\n",
            "Epoch [20/25], Step [40/338], Loss: 0.0002\n",
            "Epoch [20/25], Step [60/338], Loss: 0.0005\n",
            "Epoch [20/25], Step [80/338], Loss: 0.0000\n",
            "Epoch [20/25], Step [100/338], Loss: 0.0001\n",
            "Epoch [20/25], Step [120/338], Loss: 0.0000\n",
            "Epoch [20/25], Step [140/338], Loss: 0.0000\n",
            "Epoch [20/25], Step [160/338], Loss: 0.0001\n",
            "Epoch [20/25], Step [180/338], Loss: 0.0001\n",
            "Epoch [20/25], Step [200/338], Loss: 0.0001\n",
            "Epoch [20/25], Step [220/338], Loss: 0.0018\n",
            "Epoch [20/25], Step [240/338], Loss: 0.0003\n",
            "Epoch [20/25], Step [260/338], Loss: 0.0000\n",
            "Epoch [20/25], Step [280/338], Loss: 0.0002\n",
            "Epoch [20/25], Step [300/338], Loss: 0.0003\n",
            "Epoch [20/25], Step [320/338], Loss: 0.0025\n",
            "\n",
            "train-loss: 0.0120, train-acc: 100.0000\n",
            "validation loss: 0.5448, validation acc: 83.1029\n",
            "\n",
            "Epoch 21\n",
            "\n",
            "Epoch [21/25], Step [0/338], Loss: 0.0015\n",
            "Epoch [21/25], Step [20/338], Loss: 0.0001\n",
            "Epoch [21/25], Step [40/338], Loss: 0.0001\n",
            "Epoch [21/25], Step [60/338], Loss: 0.0021\n",
            "Epoch [21/25], Step [80/338], Loss: 0.0008\n",
            "Epoch [21/25], Step [100/338], Loss: 0.0004\n",
            "Epoch [21/25], Step [120/338], Loss: 0.0007\n",
            "Epoch [21/25], Step [140/338], Loss: 0.0000\n",
            "Epoch [21/25], Step [160/338], Loss: 0.0000\n",
            "Epoch [21/25], Step [180/338], Loss: 0.0000\n",
            "Epoch [21/25], Step [200/338], Loss: 0.0004\n",
            "Epoch [21/25], Step [220/338], Loss: 0.0002\n",
            "Epoch [21/25], Step [240/338], Loss: 0.0001\n",
            "Epoch [21/25], Step [260/338], Loss: 0.0000\n",
            "Epoch [21/25], Step [280/338], Loss: 0.0000\n",
            "Epoch [21/25], Step [300/338], Loss: 0.0002\n",
            "Epoch [21/25], Step [320/338], Loss: 0.0001\n",
            "\n",
            "train-loss: 0.0115, train-acc: 100.0000\n",
            "validation loss: 0.5513, validation acc: 83.2565\n",
            "\n",
            "Epoch 22\n",
            "\n",
            "Epoch [22/25], Step [0/338], Loss: 0.0001\n",
            "Epoch [22/25], Step [20/338], Loss: 0.0001\n"
          ]
        },
        {
          "output_type": "error",
          "ename": "KeyboardInterrupt",
          "evalue": "ignored",
          "traceback": [
            "\u001b[1;31m---------------------------------------------------------------------------\u001b[0m",
            "\u001b[1;31mKeyboardInterrupt\u001b[0m                         Traceback (most recent call last)",
            "\u001b[1;32m~\\AppData\\Local\\Temp\\ipykernel_19900\\2665321235.py\u001b[0m in \u001b[0;36m<module>\u001b[1;34m\u001b[0m\n\u001b[0;32m     58\u001b[0m     \u001b[0mtotal\u001b[0m\u001b[1;33m=\u001b[0m\u001b[1;36m0\u001b[0m\u001b[1;33m\u001b[0m\u001b[1;33m\u001b[0m\u001b[0m\n\u001b[0;32m     59\u001b[0m     \u001b[0mprint\u001b[0m\u001b[1;33m(\u001b[0m\u001b[1;34mf'Epoch {epoch}\\n'\u001b[0m\u001b[1;33m)\u001b[0m\u001b[1;33m\u001b[0m\u001b[1;33m\u001b[0m\u001b[0m\n\u001b[1;32m---> 60\u001b[1;33m     \u001b[1;32mfor\u001b[0m \u001b[0mbatch_idx\u001b[0m\u001b[1;33m,\u001b[0m \u001b[1;33m(\u001b[0m\u001b[0mdata_\u001b[0m\u001b[1;33m,\u001b[0m \u001b[0mtarget_\u001b[0m\u001b[1;33m)\u001b[0m \u001b[1;32min\u001b[0m \u001b[0menumerate\u001b[0m\u001b[1;33m(\u001b[0m\u001b[0mtrain_loader\u001b[0m\u001b[1;33m)\u001b[0m\u001b[1;33m:\u001b[0m\u001b[1;33m\u001b[0m\u001b[1;33m\u001b[0m\u001b[0m\n\u001b[0m\u001b[0;32m     61\u001b[0m         \u001b[0mdata_\u001b[0m\u001b[1;33m,\u001b[0m \u001b[0mtarget_\u001b[0m \u001b[1;33m=\u001b[0m \u001b[0mdata_\u001b[0m\u001b[1;33m.\u001b[0m\u001b[0mto\u001b[0m\u001b[1;33m(\u001b[0m\u001b[0mdevice\u001b[0m\u001b[1;33m)\u001b[0m\u001b[1;33m,\u001b[0m \u001b[0mtarget_\u001b[0m\u001b[1;33m.\u001b[0m\u001b[0mto\u001b[0m\u001b[1;33m(\u001b[0m\u001b[0mdevice\u001b[0m\u001b[1;33m)\u001b[0m\u001b[1;33m\u001b[0m\u001b[1;33m\u001b[0m\u001b[0m\n\u001b[0;32m     62\u001b[0m         \u001b[0moptimizer\u001b[0m\u001b[1;33m.\u001b[0m\u001b[0mzero_grad\u001b[0m\u001b[1;33m(\u001b[0m\u001b[1;33m)\u001b[0m\u001b[1;33m\u001b[0m\u001b[1;33m\u001b[0m\u001b[0m\n",
            "\u001b[1;32mc:\\users\\nihal\\appdata\\local\\programs\\python\\python37\\lib\\site-packages\\torch\\utils\\data\\dataloader.py\u001b[0m in \u001b[0;36m__next__\u001b[1;34m(self)\u001b[0m\n\u001b[0;32m    626\u001b[0m                 \u001b[1;31m# TODO(https://github.com/pytorch/pytorch/issues/76750)\u001b[0m\u001b[1;33m\u001b[0m\u001b[1;33m\u001b[0m\u001b[1;33m\u001b[0m\u001b[0m\n\u001b[0;32m    627\u001b[0m                 \u001b[0mself\u001b[0m\u001b[1;33m.\u001b[0m\u001b[0m_reset\u001b[0m\u001b[1;33m(\u001b[0m\u001b[1;33m)\u001b[0m  \u001b[1;31m# type: ignore[call-arg]\u001b[0m\u001b[1;33m\u001b[0m\u001b[1;33m\u001b[0m\u001b[0m\n\u001b[1;32m--> 628\u001b[1;33m             \u001b[0mdata\u001b[0m \u001b[1;33m=\u001b[0m \u001b[0mself\u001b[0m\u001b[1;33m.\u001b[0m\u001b[0m_next_data\u001b[0m\u001b[1;33m(\u001b[0m\u001b[1;33m)\u001b[0m\u001b[1;33m\u001b[0m\u001b[1;33m\u001b[0m\u001b[0m\n\u001b[0m\u001b[0;32m    629\u001b[0m             \u001b[0mself\u001b[0m\u001b[1;33m.\u001b[0m\u001b[0m_num_yielded\u001b[0m \u001b[1;33m+=\u001b[0m \u001b[1;36m1\u001b[0m\u001b[1;33m\u001b[0m\u001b[1;33m\u001b[0m\u001b[0m\n\u001b[0;32m    630\u001b[0m             \u001b[1;32mif\u001b[0m \u001b[0mself\u001b[0m\u001b[1;33m.\u001b[0m\u001b[0m_dataset_kind\u001b[0m \u001b[1;33m==\u001b[0m \u001b[0m_DatasetKind\u001b[0m\u001b[1;33m.\u001b[0m\u001b[0mIterable\u001b[0m \u001b[1;32mand\u001b[0m\u001b[0;31m \u001b[0m\u001b[0;31m\\\u001b[0m\u001b[1;33m\u001b[0m\u001b[1;33m\u001b[0m\u001b[0m\n",
            "\u001b[1;32mc:\\users\\nihal\\appdata\\local\\programs\\python\\python37\\lib\\site-packages\\torch\\utils\\data\\dataloader.py\u001b[0m in \u001b[0;36m_next_data\u001b[1;34m(self)\u001b[0m\n\u001b[0;32m    669\u001b[0m     \u001b[1;32mdef\u001b[0m \u001b[0m_next_data\u001b[0m\u001b[1;33m(\u001b[0m\u001b[0mself\u001b[0m\u001b[1;33m)\u001b[0m\u001b[1;33m:\u001b[0m\u001b[1;33m\u001b[0m\u001b[1;33m\u001b[0m\u001b[0m\n\u001b[0;32m    670\u001b[0m         \u001b[0mindex\u001b[0m \u001b[1;33m=\u001b[0m \u001b[0mself\u001b[0m\u001b[1;33m.\u001b[0m\u001b[0m_next_index\u001b[0m\u001b[1;33m(\u001b[0m\u001b[1;33m)\u001b[0m  \u001b[1;31m# may raise StopIteration\u001b[0m\u001b[1;33m\u001b[0m\u001b[1;33m\u001b[0m\u001b[0m\n\u001b[1;32m--> 671\u001b[1;33m         \u001b[0mdata\u001b[0m \u001b[1;33m=\u001b[0m \u001b[0mself\u001b[0m\u001b[1;33m.\u001b[0m\u001b[0m_dataset_fetcher\u001b[0m\u001b[1;33m.\u001b[0m\u001b[0mfetch\u001b[0m\u001b[1;33m(\u001b[0m\u001b[0mindex\u001b[0m\u001b[1;33m)\u001b[0m  \u001b[1;31m# may raise StopIteration\u001b[0m\u001b[1;33m\u001b[0m\u001b[1;33m\u001b[0m\u001b[0m\n\u001b[0m\u001b[0;32m    672\u001b[0m         \u001b[1;32mif\u001b[0m \u001b[0mself\u001b[0m\u001b[1;33m.\u001b[0m\u001b[0m_pin_memory\u001b[0m\u001b[1;33m:\u001b[0m\u001b[1;33m\u001b[0m\u001b[1;33m\u001b[0m\u001b[0m\n\u001b[0;32m    673\u001b[0m             \u001b[0mdata\u001b[0m \u001b[1;33m=\u001b[0m \u001b[0m_utils\u001b[0m\u001b[1;33m.\u001b[0m\u001b[0mpin_memory\u001b[0m\u001b[1;33m.\u001b[0m\u001b[0mpin_memory\u001b[0m\u001b[1;33m(\u001b[0m\u001b[0mdata\u001b[0m\u001b[1;33m,\u001b[0m \u001b[0mself\u001b[0m\u001b[1;33m.\u001b[0m\u001b[0m_pin_memory_device\u001b[0m\u001b[1;33m)\u001b[0m\u001b[1;33m\u001b[0m\u001b[1;33m\u001b[0m\u001b[0m\n",
            "\u001b[1;32mc:\\users\\nihal\\appdata\\local\\programs\\python\\python37\\lib\\site-packages\\torch\\utils\\data\\_utils\\fetch.py\u001b[0m in \u001b[0;36mfetch\u001b[1;34m(self, possibly_batched_index)\u001b[0m\n\u001b[0;32m     56\u001b[0m                 \u001b[0mdata\u001b[0m \u001b[1;33m=\u001b[0m \u001b[0mself\u001b[0m\u001b[1;33m.\u001b[0m\u001b[0mdataset\u001b[0m\u001b[1;33m.\u001b[0m\u001b[0m__getitems__\u001b[0m\u001b[1;33m(\u001b[0m\u001b[0mpossibly_batched_index\u001b[0m\u001b[1;33m)\u001b[0m\u001b[1;33m\u001b[0m\u001b[1;33m\u001b[0m\u001b[0m\n\u001b[0;32m     57\u001b[0m             \u001b[1;32melse\u001b[0m\u001b[1;33m:\u001b[0m\u001b[1;33m\u001b[0m\u001b[1;33m\u001b[0m\u001b[0m\n\u001b[1;32m---> 58\u001b[1;33m                 \u001b[0mdata\u001b[0m \u001b[1;33m=\u001b[0m \u001b[1;33m[\u001b[0m\u001b[0mself\u001b[0m\u001b[1;33m.\u001b[0m\u001b[0mdataset\u001b[0m\u001b[1;33m[\u001b[0m\u001b[0midx\u001b[0m\u001b[1;33m]\u001b[0m \u001b[1;32mfor\u001b[0m \u001b[0midx\u001b[0m \u001b[1;32min\u001b[0m \u001b[0mpossibly_batched_index\u001b[0m\u001b[1;33m]\u001b[0m\u001b[1;33m\u001b[0m\u001b[1;33m\u001b[0m\u001b[0m\n\u001b[0m\u001b[0;32m     59\u001b[0m         \u001b[1;32melse\u001b[0m\u001b[1;33m:\u001b[0m\u001b[1;33m\u001b[0m\u001b[1;33m\u001b[0m\u001b[0m\n\u001b[0;32m     60\u001b[0m             \u001b[0mdata\u001b[0m \u001b[1;33m=\u001b[0m \u001b[0mself\u001b[0m\u001b[1;33m.\u001b[0m\u001b[0mdataset\u001b[0m\u001b[1;33m[\u001b[0m\u001b[0mpossibly_batched_index\u001b[0m\u001b[1;33m]\u001b[0m\u001b[1;33m\u001b[0m\u001b[1;33m\u001b[0m\u001b[0m\n",
            "\u001b[1;32mc:\\users\\nihal\\appdata\\local\\programs\\python\\python37\\lib\\site-packages\\torch\\utils\\data\\_utils\\fetch.py\u001b[0m in \u001b[0;36m<listcomp>\u001b[1;34m(.0)\u001b[0m\n\u001b[0;32m     56\u001b[0m                 \u001b[0mdata\u001b[0m \u001b[1;33m=\u001b[0m \u001b[0mself\u001b[0m\u001b[1;33m.\u001b[0m\u001b[0mdataset\u001b[0m\u001b[1;33m.\u001b[0m\u001b[0m__getitems__\u001b[0m\u001b[1;33m(\u001b[0m\u001b[0mpossibly_batched_index\u001b[0m\u001b[1;33m)\u001b[0m\u001b[1;33m\u001b[0m\u001b[1;33m\u001b[0m\u001b[0m\n\u001b[0;32m     57\u001b[0m             \u001b[1;32melse\u001b[0m\u001b[1;33m:\u001b[0m\u001b[1;33m\u001b[0m\u001b[1;33m\u001b[0m\u001b[0m\n\u001b[1;32m---> 58\u001b[1;33m                 \u001b[0mdata\u001b[0m \u001b[1;33m=\u001b[0m \u001b[1;33m[\u001b[0m\u001b[0mself\u001b[0m\u001b[1;33m.\u001b[0m\u001b[0mdataset\u001b[0m\u001b[1;33m[\u001b[0m\u001b[0midx\u001b[0m\u001b[1;33m]\u001b[0m \u001b[1;32mfor\u001b[0m \u001b[0midx\u001b[0m \u001b[1;32min\u001b[0m \u001b[0mpossibly_batched_index\u001b[0m\u001b[1;33m]\u001b[0m\u001b[1;33m\u001b[0m\u001b[1;33m\u001b[0m\u001b[0m\n\u001b[0m\u001b[0;32m     59\u001b[0m         \u001b[1;32melse\u001b[0m\u001b[1;33m:\u001b[0m\u001b[1;33m\u001b[0m\u001b[1;33m\u001b[0m\u001b[0m\n\u001b[0;32m     60\u001b[0m             \u001b[0mdata\u001b[0m \u001b[1;33m=\u001b[0m \u001b[0mself\u001b[0m\u001b[1;33m.\u001b[0m\u001b[0mdataset\u001b[0m\u001b[1;33m[\u001b[0m\u001b[0mpossibly_batched_index\u001b[0m\u001b[1;33m]\u001b[0m\u001b[1;33m\u001b[0m\u001b[1;33m\u001b[0m\u001b[0m\n",
            "\u001b[1;32m~\\AppData\\Local\\Temp\\ipykernel_19900\\1147381760.py\u001b[0m in \u001b[0;36m__getitem__\u001b[1;34m(self, idx)\u001b[0m\n\u001b[0;32m     15\u001b[0m \u001b[1;33m\u001b[0m\u001b[0m\n\u001b[0;32m     16\u001b[0m         \u001b[0mimg_name\u001b[0m \u001b[1;33m=\u001b[0m \u001b[0mos\u001b[0m\u001b[1;33m.\u001b[0m\u001b[0mpath\u001b[0m\u001b[1;33m.\u001b[0m\u001b[0mjoin\u001b[0m\u001b[1;33m(\u001b[0m\u001b[0mself\u001b[0m\u001b[1;33m.\u001b[0m\u001b[0mroot_dir\u001b[0m\u001b[1;33m,\u001b[0m \u001b[0mself\u001b[0m\u001b[1;33m.\u001b[0m\u001b[0mdataframe\u001b[0m\u001b[1;33m.\u001b[0m\u001b[0miloc\u001b[0m\u001b[1;33m[\u001b[0m\u001b[0midx\u001b[0m\u001b[1;33m,\u001b[0m \u001b[1;36m1\u001b[0m\u001b[1;33m]\u001b[0m\u001b[1;33m)\u001b[0m\u001b[1;33m\u001b[0m\u001b[1;33m\u001b[0m\u001b[0m\n\u001b[1;32m---> 17\u001b[1;33m         \u001b[0mimage1\u001b[0m \u001b[1;33m=\u001b[0m \u001b[0mcv2\u001b[0m\u001b[1;33m.\u001b[0m\u001b[0mimread\u001b[0m\u001b[1;33m(\u001b[0m\u001b[0mimg_name\u001b[0m\u001b[1;33m)\u001b[0m\u001b[1;33m\u001b[0m\u001b[1;33m\u001b[0m\u001b[0m\n\u001b[0m\u001b[0;32m     18\u001b[0m         image_norm = cv2.normalize(\n\u001b[0;32m     19\u001b[0m             image1, None, alpha=0, beta=255, norm_type=cv2.NORM_MINMAX)\n",
            "\u001b[1;31mKeyboardInterrupt\u001b[0m: "
          ]
        }
      ]
    },
    {
      "cell_type": "code",
      "source": [
        "fig = plt.figure()\n",
        "fig.set_figheight(6)\n",
        "fig.set_figwidth(13)\n",
        "\n",
        "plt.subplot(1, 2, 1)\n",
        "plt.plot(train_loss, 'bx-', label = 'train')\n",
        "plt.plot(val_loss, 'gx-', label = 'val')\n",
        "plt.ylabel('loss')\n",
        "plt.xlabel('epoch')\n",
        "plt.legend(loc = 'upper left')\n",
        "\n",
        "plt.subplot(1, 2, 2)\n",
        "plt.plot(train_acc, 'bx-', label = 'train')\n",
        "plt.plot(val_acc, 'gx-', label = 'val')\n",
        "plt.ylabel('accuracy')\n",
        "plt.xlabel('epoch')\n",
        "plt.legend(loc = 'upper left')\n",
        "\n",
        "\n",
        "fig.suptitle('Resnet 18 [Accuracy - Loss Plots]')\n",
        "plt.show()"
      ],
      "metadata": {
        "colab": {
          "base_uri": "https://localhost:8080/",
          "height": 602
        },
        "id": "aogDhRigogZa",
        "outputId": "1822303e-1d93-4b27-a8a3-95f250abab91"
      },
      "execution_count": null,
      "outputs": [
        {
          "output_type": "display_data",
          "data": {
            "text/plain": [
              "<Figure size 1300x600 with 2 Axes>"
            ],
            "image/png": "[encoded data removed]"
          },
          "metadata": {}
        }
      ]
    },
    {
      "cell_type": "markdown",
      "source": [
        "### Predictions"
      ],
      "metadata": {
        "id": "LikX6d0JIGS0"
      }
    },
    {
      "cell_type": "markdown",
      "source": [
        "#### Test"
      ],
      "metadata": {
        "id": "qxhPl-rGILzZ"
      }
    },
    {
      "cell_type": "code",
      "source": [
        "model_resnet18 = resnet\n",
        "model_resnet18.load_state_dict(torch.load(path_res))\n",
        "\n",
        "\n",
        "print('Test data: ')\n",
        "y_true = []\n",
        "y_pred = []\n",
        "\n",
        "for i in range(len(test_dataset)):\n",
        "    input, target = test_dataset[i][0], test_dataset[i][1]\n",
        "    model_resnet18.eval()\n",
        "    with torch.no_grad():\n",
        "        input = torch.unsqueeze(input, 0)\n",
        "        input = input.to(device) # send data to GPU \n",
        "        predictions = model_resnet18(input)\n",
        "        predicted_index = predictions[0].argmax(0)\n",
        "\n",
        "        predicted = class_mapping[predicted_index]\n",
        "        expected = class_mapping[target]\n",
        "\n",
        "    y_true.append(expected)\n",
        "    y_pred.append(predicted)\n",
        "\n",
        "get_metrics(y_true, y_pred, class_mapping)"
      ],
      "metadata": {
        "id": "twHxp1D2Iac8",
        "colab": {
          "base_uri": "https://localhost:8080/"
        },
        "outputId": "b8763e80-e627-411c-cf1e-73a05e6942b4"
      },
      "execution_count": null,
      "outputs": [
        {
          "output_type": "stream",
          "name": "stdout",
          "text": [
            "Test data: \n",
            "┌──────────────────┬─────────┬──────────────┬──────────────┬──────────────┐\n",
            "│                  │ healthy │ misalignment │ rotor damage │ Total actual │\n",
            "├──────────────────┼─────────┼──────────────┼──────────────┼──────────────┤\n",
            "│ healthy          │ 156     │ 50           │ 0            │ 206          │\n",
            "├──────────────────┼─────────┼──────────────┼──────────────┼──────────────┤\n",
            "│ misalignment     │ 0       │ 229          │ 0            │ 229          │\n",
            "├──────────────────┼─────────┼──────────────┼──────────────┼──────────────┤\n",
            "│ rotor damage     │ 0       │ 0            │ 216          │ 216          │\n",
            "├──────────────────┼─────────┼──────────────┼──────────────┼──────────────┤\n",
            "│ Total predicted: │ 156     │ 279          │ 216          │ 651          │\n",
            "└──────────────────┴─────────┴──────────────┴──────────────┴──────────────┘\n",
            "\n",
            "┌──────────────┬──────────┐\n",
            "│ Class        │ F1-score │\n",
            "├──────────────┼──────────┤\n",
            "│ Healthy      │ 0.86     │\n",
            "├──────────────┼──────────┤\n",
            "│ Misalignment │ 0.9      │\n",
            "├──────────────┼──────────┤\n",
            "│ Rotor damage │ 1.0      │\n",
            "└──────────────┴──────────┘\n",
            "\n",
            "Recall for healthy class: 1.0\n",
            "Recall for misalignment class: 0.82\n",
            "Recall for rotor damage class: 1.0\n",
            "\n",
            "Precision for healthy class: 0.76\n",
            "Precision for misalignment class: 1.0\n",
            "Precision for rotor damage class: 1.0\n"
          ]
        }
      ]
    },
    {
      "cell_type": "markdown",
      "source": [
        "#### Validation"
      ],
      "metadata": {
        "id": "w0-gQ1gJIOEd"
      }
    },
    {
      "cell_type": "code",
      "source": [
        "print('Valid data: ')\n",
        "y_true = []\n",
        "y_pred = []\n",
        "\n",
        "for i in range(len(val_dataset)):\n",
        "    input, target = val_dataset[i][0], val_dataset[i][1]\n",
        "    model_resnet18.eval()\n",
        "    with torch.no_grad():\n",
        "        input = torch.unsqueeze(input, 0)\n",
        "        input = input.to(device) # send data to GPU \n",
        "        predictions = model_resnet18(input)\n",
        "        predicted_index = predictions[0].argmax(0)\n",
        "\n",
        "        predicted = class_mapping[predicted_index]\n",
        "        expected = class_mapping[target]\n",
        "\n",
        "    y_true.append(expected)\n",
        "    y_pred.append(predicted)\n",
        "\n",
        "get_metrics(y_true, y_pred, class_mapping)"
      ],
      "metadata": {
        "id": "iy1zpvPfr9D_"
      },
      "execution_count": null,
      "outputs": []
    },
    {
      "cell_type": "markdown",
      "source": [
        "#### Training"
      ],
      "metadata": {
        "id": "EwGnjwq7IN63"
      }
    },
    {
      "cell_type": "code",
      "source": [
        "print('Training data:')\n",
        "y_true = []\n",
        "y_pred = []\n",
        "\n",
        "for i in range(len(train_dataset)):\n",
        "    input, target = train_dataset[i][0], train_dataset[i][1]\n",
        "    model_resnet18.eval()\n",
        "    with torch.no_grad():\n",
        "        input = torch.unsqueeze(input, 0)\n",
        "        input = input.to(device) # send data to GPU\n",
        "        predictions = model_resnet18(input)\n",
        "        predicted_index = predictions[0].argmax(0)\n",
        "\n",
        "        predicted = class_mapping[predicted_index]\n",
        "        expected = class_mapping[target]\n",
        "\n",
        "    y_true.append(expected)\n",
        "    y_pred.append(predicted)\n",
        "\n",
        "get_metrics(y_true, y_pred, class_mapping)"
      ],
      "metadata": {
        "id": "4iK4z79Ks1e9"
      },
      "execution_count": null,
      "outputs": []
    },
    {
      "cell_type": "markdown",
      "source": [
        "### Different Style of Training"
      ],
      "metadata": {
        "id": "EFB399m_NTgS"
      }
    },
    {
      "cell_type": "code",
      "source": [
        "# n_epochs = 20\n",
        "# print_every = 10\n",
        "# valid_loss_min = np.Inf\n",
        "# val_loss = []\n",
        "# val_acc = []\n",
        "# train_loss = []\n",
        "# train_acc = []\n",
        "# total_step = len(train_loader)\n",
        "# for epoch in range(1, n_epochs+1):\n",
        "#     running_loss = 0.0\n",
        "#     correct = 0\n",
        "#     total=0\n",
        "#     print(f'Epoch {epoch}\\n')\n",
        "#     for batch_idx, (data_, target_) in enumerate(train_loader):\n",
        "#         data_, target_ = data_.to(device), target_.to(device)\n",
        "#         optimizer.zero_grad()\n",
        "        \n",
        "#         outputs = resnet(data_)\n",
        "#         loss = criterion(outputs, target_)\n",
        "#         loss.backward()\n",
        "#         optimizer.step()\n",
        "\n",
        "#         running_loss += loss.item()\n",
        "#         _,pred = torch.max(outputs, dim=1)\n",
        "#         correct += torch.sum(pred==target_).item()\n",
        "#         total += target_.size(0)\n",
        "#         if (batch_idx) % 20 == 0:\n",
        "#             print ('Epoch [{}/{}], Step [{}/{}], Loss: {:.4f}' \n",
        "#                    .format(epoch, n_epochs, batch_idx, total_step, loss.item()))\n",
        "#     train_acc.append(100 * correct / total)\n",
        "#     train_loss.append(running_loss/total_step)\n",
        "#     print(f'\\ntrain-loss: {np.mean(train_loss):.4f}, train-acc: {(100 * correct/total):.4f}')\n",
        "#     batch_loss = 0\n",
        "#     total_t=0\n",
        "#     correct_t=0\n",
        "#     with torch.no_grad():\n",
        "#         resnet.eval()\n",
        "#         for data_t, target_t in (test_loader):\n",
        "#             data_t, target_t = data_t.to(device), target_t.to(device)\n",
        "#             outputs_t = resnet(data_t)\n",
        "#             loss_t = criterion(outputs_t, target_t)\n",
        "#             batch_loss += loss_t.item()\n",
        "#             _,pred_t = torch.max(outputs_t, dim=1)\n",
        "#             correct_t += torch.sum(pred_t==target_t).item()\n",
        "#             total_t += target_t.size(0)\n",
        "#         val_acc.append(100 * correct_t/total_t)\n",
        "#         val_loss.append(batch_loss/len(test_loader))\n",
        "#         network_learned = batch_loss < valid_loss_min\n",
        "#         print(f'validation loss: {np.mean(val_loss):.4f}, validation acc: {(100 * correct_t/total_t):.4f}\\n')\n",
        "\n",
        "        \n",
        "#         if network_learned:\n",
        "#             valid_loss_min = batch_loss\n",
        "#             torch.save(resnet.state_dict(), \"C:/Users/Nihal/Desktop/thesis/resnet18_train2.pt\")\n",
        "#             print('Improvement-Detected, save-model')\n",
        "#     resnet.train()"
      ],
      "metadata": {
        "id": "4WXYG4LyNWUc"
      },
      "execution_count": null,
      "outputs": []
    },
    {
      "cell_type": "markdown",
      "source": [
        "### Train - Validation Accuracy "
      ],
      "metadata": {
        "id": "i0R8ZbMlPDyP"
      }
    },
    {
      "cell_type": "code",
      "source": [
        "# fig = plt.figure(figsize=(20,10))\n",
        "# plt.title(\"Train-Validation Accuracy\")\n",
        "# plt.plot(train_acc, label='train')\n",
        "# plt.plot(val_acc, label='validation')\n",
        "# plt.xlabel('num_epochs', fontsize=12)\n",
        "# plt.ylabel('accuracy', fontsize=12)\n",
        "# plt.legend(loc='best')"
      ],
      "metadata": {
        "id": "UnQLR8VCPEA_"
      },
      "execution_count": null,
      "outputs": []
    },
    {
      "cell_type": "markdown",
      "source": [
        "### Visualize Results"
      ],
      "metadata": {
        "id": "-2NosAgAPY_R"
      }
    },
    {
      "cell_type": "code",
      "source": [
        "# def visualize_model(net, num_images=4):\n",
        "#     images_so_far = 0\n",
        "#     fig = plt.figure(figsize=(15, 10))\n",
        "    \n",
        "#     for i, data in enumerate(test_dataloader):\n",
        "#         inputs, labels = data\n",
        "#         if use_cuda:\n",
        "#             inputs, labels = inputs.cuda(), labels.cuda()\n",
        "#         outputs = net(inputs)\n",
        "#         _, preds = torch.max(outputs.data, 1)\n",
        "#         preds = preds.cpu().numpy() if use_cuda else preds.numpy()\n",
        "#         for j in range(inputs.size()[0]):\n",
        "#             images_so_far += 1\n",
        "#             ax = plt.subplot(2, num_images//2, images_so_far)\n",
        "#             ax.axis('off')\n",
        "#             ax.set_title('predictes: {}'.format(test_dataset.classes[preds[j]]))\n",
        "#             imshow(inputs[j])\n",
        "            \n",
        "#             if images_so_far == num_images:\n",
        "#                 return \n",
        "\n",
        "# plt.ion()\n",
        "# visualize_model(net)\n",
        "# plt.ioff()"
      ],
      "metadata": {
        "id": "4uAtGydLPYdj"
      },
      "execution_count": null,
      "outputs": []
    }
  ]
}