{
  "nbformat": 4,
  "nbformat_minor": 0,
  "metadata": {
    "colab": {
      "provenance": [],
      "toc_visible": true,
      "authorship_tag": "ABX9TyPgD2vU7C9Pt+DT2hN0gZ68",
      "include_colab_link": true
    },
    "kernelspec": {
      "name": "python3",
      "display_name": "Python 3"
    },
    "language_info": {
      "name": "python"
    },
    "accelerator": "GPU",
    "gpuClass": "premium"
  },
  "cells": [
    {
      "cell_type": "markdown",
      "metadata": {
        "id": "view-in-github",
        "colab_type": "text"
      },
      "source": [
        "<a href=\"https://colab.research.google.com/github/nihalsuri/thermal-anomaly-detection/blob/main/notebooks/full_connected.ipynb\" target=\"_parent\"><img src=\"https://colab.research.google.com/assets/colab-badge.svg\" alt=\"Open In Colab\"/></a>"
      ]
    },
    {
      "cell_type": "markdown",
      "source": [
        "# Uploading all necessary data when connected to host"
      ],
      "metadata": {
        "id": "YolK3BeMjSjo"
      }
    },
    {
      "cell_type": "code",
      "source": [
        "! gdown --id 1x4Os51uaMXDILTGo2Y_lOC9HU1jTnzi0\n",
        "! gdown --id 1uxDV-sgzDUATHc5p8gW_gBKBsEVrz34x"
      ],
      "metadata": {
        "colab": {
          "base_uri": "https://localhost:8080/"
        },
        "id": "1D2v3VUii2-F",
        "outputId": "8462eba2-d392-49bc-ad27-eb34bc888eea"
      },
      "execution_count": 1,
      "outputs": [
        {
          "output_type": "stream",
          "name": "stderr",
          "text": [
            "'gdown' is not recognized as an internal or external command,\n",
            "operable program or batch file.\n",
            "'gdown' is not recognized as an internal or external command,\n",
            "operable program or batch file.\n"
          ]
        }
      ]
    },
    {
      "cell_type": "code",
      "source": [
        "!unzip clutch_2.zip"
      ],
      "metadata": {
        "colab": {
          "base_uri": "https://localhost:8080/"
        },
        "id": "AeVBUYu0t6FZ",
        "outputId": "cb04f111-5db2-4128-9c58-79a4f0dd7e9a"
      },
      "execution_count": 2,
      "outputs": [
        {
          "output_type": "stream",
          "name": "stderr",
          "text": [
            "'unzip' is not recognized as an internal or external command,\n",
            "operable program or batch file.\n"
          ]
        }
      ]
    },
    {
      "cell_type": "markdown",
      "source": [
        "# Uploading data when connected to local runtime "
      ],
      "metadata": {
        "id": "lE_BvUn8A5pv"
      }
    },
    {
      "cell_type": "code",
      "source": [
        "annotations_path = 'C:/Users/Nihal/Desktop/thesis/dataset.csv'\n",
        "# annotations_path = 'C:/Users/Nihal/Desktop/new_dataset.csv'\n",
        "dataset_path = 'C:/Users/Nihal/Desktop/thesis/clutch_2'"
      ],
      "metadata": {
        "id": "4gTIRAeDBEkM"
      },
      "execution_count": 3,
      "outputs": []
    },
    {
      "cell_type": "markdown",
      "source": [
        "# Data preperation for training\n",
        "\n",
        "In this section the following is done: \n",
        "\n",
        "\n",
        "\n",
        "*   Data is processed and arranged into respective **dataframes** \n",
        "*   **Custom dataset** class is created \n",
        "*   **Transforms** are done on the various datasets\n",
        "*   **Dataloaders** are created for the purposes of iteration\n",
        "\n",
        "\n",
        "\n"
      ],
      "metadata": {
        "id": "hFywJRphfiB9"
      }
    },
    {
      "cell_type": "markdown",
      "source": [
        "## Import libraries"
      ],
      "metadata": {
        "id": "lE0JA181hvII"
      }
    },
    {
      "cell_type": "code",
      "source": [
        "from torch.utils.data import Dataset, DataLoader\n",
        "from torchvision.utils import make_grid\n",
        "from PIL import Image\n",
        "from torchvision import transforms , models\n",
        "from sklearn import metrics\n",
        "from tabulate import tabulate\n",
        "import os\n",
        "import matplotlib.pyplot as plt\n",
        "import pandas as pd\n",
        "import cv2\n",
        "import torch\n",
        "import numpy as np\n",
        "import torch.nn as nn\n",
        "import torch.nn.functional as F \n",
        "import torch.optim as optim\n",
        "import io\n",
        "import copy\n",
        "import tqdm \n",
        "import time "
      ],
      "metadata": {
        "id": "tsQ5hkUYhd24"
      },
      "execution_count": 4,
      "outputs": []
    },
    {
      "cell_type": "code",
      "source": [
        "device = torch.device('cuda' if torch.cuda.is_available() else 'cpu')\n",
        "device_name = torch.cuda.get_device_name()\n",
        "print(device_name)\n",
        "print(device)"
      ],
      "metadata": {
        "colab": {
          "base_uri": "https://localhost:8080/"
        },
        "id": "kTV4shoA5Rk1",
        "outputId": "01881ffe-5f20-455c-88b2-a869ce3d5a66"
      },
      "execution_count": 5,
      "outputs": [
        {
          "output_type": "stream",
          "name": "stdout",
          "text": [
            "NVIDIA GeForce GTX 1660 Ti with Max-Q Design\n",
            "cuda\n"
          ]
        }
      ]
    },
    {
      "cell_type": "code",
      "source": [
        "torch.cuda.empty_cache()"
      ],
      "metadata": {
        "id": "yVwnGk0wdBeM"
      },
      "execution_count": 6,
      "outputs": []
    },
    {
      "cell_type": "code",
      "source": [
        "torch.cuda.memory_summary(device=None, abbreviated=False)"
      ],
      "metadata": {
        "colab": {
          "base_uri": "https://localhost:8080/"
        },
        "id": "hRXYkJwCdHZ6",
        "outputId": "9f97b3ce-007d-4887-d7ef-b4a592046aed"
      },
      "execution_count": 7,
      "outputs": [
        {
          "output_type": "execute_result",
          "data": {
            "text/plain": [
              "'|===========================================================================|\\n|                  PyTorch CUDA memory summary, device ID 0                 |\\n|---------------------------------------------------------------------------|\\n|            CUDA OOMs: 0            |        cudaMalloc retries: 0         |\\n|===========================================================================|\\n|        Metric         | Cur Usage  | Peak Usage | Tot Alloc  | Tot Freed  |\\n|---------------------------------------------------------------------------|\\n| Allocated memory      |       0 B  |       0 B  |       0 B  |       0 B  |\\n|       from large pool |       0 B  |       0 B  |       0 B  |       0 B  |\\n|       from small pool |       0 B  |       0 B  |       0 B  |       0 B  |\\n|---------------------------------------------------------------------------|\\n| Active memory         |       0 B  |       0 B  |       0 B  |       0 B  |\\n|       from large pool |       0 B  |       0 B  |       0 B  |       0 B  |\\n|       from small pool |       0 B  |       0 B  |       0 B  |       0 B  |\\n|---------------------------------------------------------------------------|\\n| GPU reserved memory   |       0 B  |       0 B  |       0 B  |       0 B  |\\n|       from large pool |       0 B  |       0 B  |       0 B  |       0 B  |\\n|       from small pool |       0 B  |       0 B  |       0 B  |       0 B  |\\n|---------------------------------------------------------------------------|\\n| Non-releasable memory |       0 B  |       0 B  |       0 B  |       0 B  |\\n|       from large pool |       0 B  |       0 B  |       0 B  |       0 B  |\\n|       from small pool |       0 B  |       0 B  |       0 B  |       0 B  |\\n|---------------------------------------------------------------------------|\\n| Allocations           |       0    |       0    |       0    |       0    |\\n|       from large pool |       0    |       0    |       0    |       0    |\\n|       from small pool |       0    |       0    |       0    |       0    |\\n|---------------------------------------------------------------------------|\\n| Active allocs         |       0    |       0    |       0    |       0    |\\n|       from large pool |       0    |       0    |       0    |       0    |\\n|       from small pool |       0    |       0    |       0    |       0    |\\n|---------------------------------------------------------------------------|\\n| GPU reserved segments |       0    |       0    |       0    |       0    |\\n|       from large pool |       0    |       0    |       0    |       0    |\\n|       from small pool |       0    |       0    |       0    |       0    |\\n|---------------------------------------------------------------------------|\\n| Non-releasable allocs |       0    |       0    |       0    |       0    |\\n|       from large pool |       0    |       0    |       0    |       0    |\\n|       from small pool |       0    |       0    |       0    |       0    |\\n|---------------------------------------------------------------------------|\\n| Oversize allocations  |       0    |       0    |       0    |       0    |\\n|---------------------------------------------------------------------------|\\n| Oversize GPU segments |       0    |       0    |       0    |       0    |\\n|===========================================================================|\\n'"
            ]
          },
          "metadata": {},
          "execution_count": 7
        }
      ]
    },
    {
      "cell_type": "markdown",
      "source": [
        "## Split data into dataframes"
      ],
      "metadata": {
        "id": "4oVBIRobnsuq"
      }
    },
    {
      "cell_type": "code",
      "source": [
        "df = pd.read_csv(annotations_path)\n",
        "train_df = df[df['dataset'].str.contains('train')]\n",
        "test_df = df[df['dataset'].str.contains('test')]\n",
        "val_df = df[df['dataset'].str.contains('val')]\n",
        "print(train_df.shape[0])\n",
        "print(test_df.shape[0])\n",
        "print(val_df.shape[0])"
      ],
      "metadata": {
        "id": "pJ2WoESTn2lk",
        "colab": {
          "base_uri": "https://localhost:8080/"
        },
        "outputId": "9c04bb29-237a-4d0f-c2c5-506cb97e5eea"
      },
      "execution_count": 8,
      "outputs": [
        {
          "output_type": "stream",
          "name": "stdout",
          "text": [
            "2703\n",
            "651\n",
            "648\n"
          ]
        }
      ]
    },
    {
      "cell_type": "code",
      "source": [
        "# img_paths = df[\"img_path\"]"
      ],
      "metadata": {
        "id": "uQRL_YOHyot5"
      },
      "execution_count": 9,
      "outputs": []
    },
    {
      "cell_type": "code",
      "source": [
        "# for i in range(img_paths.shape[0]):\n",
        "#   size  = len(img_paths.at[i])\n",
        "#   new_path = img_paths.at[i][:size - 24]\n",
        "#   img_paths.at[i] = new_path\n"
      ],
      "metadata": {
        "id": "vy09r8ySRzfH"
      },
      "execution_count": 10,
      "outputs": []
    },
    {
      "cell_type": "code",
      "source": [],
      "metadata": {
        "id": "4dpdtAXETsDT"
      },
      "execution_count": 10,
      "outputs": []
    },
    {
      "cell_type": "code",
      "source": [
        "# img_paths.head()"
      ],
      "metadata": {
        "id": "nZH5hOdqWGEg"
      },
      "execution_count": 11,
      "outputs": []
    },
    {
      "cell_type": "code",
      "source": [
        "# unique_lables = img_paths.unique().tolist()\n"
      ],
      "metadata": {
        "id": "6IaXegqsXT8Z"
      },
      "execution_count": 12,
      "outputs": []
    },
    {
      "cell_type": "code",
      "source": [
        "# df_freq = img_paths.value_counts()\n",
        "# df_freq"
      ],
      "metadata": {
        "id": "Ld_AQAoLYtZa"
      },
      "execution_count": 13,
      "outputs": []
    },
    {
      "cell_type": "code",
      "source": [],
      "metadata": {
        "id": "yH1ge5WmamlL"
      },
      "execution_count": 13,
      "outputs": []
    },
    {
      "cell_type": "markdown",
      "source": [
        "## Custom Class \n",
        "Returns **image** and **label** for futher training"
      ],
      "metadata": {
        "id": "vffiVNGuosWf"
      }
    },
    {
      "cell_type": "code",
      "source": [
        "class ClutchDataset(Dataset):\n",
        "\n",
        "    def __init__(self, dataframe, root_dir, is_train, transform=None):\n",
        "        self.dataframe = dataframe\n",
        "        self.root_dir = root_dir\n",
        "        self.transform = transform\n",
        "        self.is_train = is_train\n",
        "\n",
        "    def __len__(self):\n",
        "        return len(self.dataframe)\n",
        "\n",
        "    def __getitem__(self, idx):\n",
        "        if torch.is_tensor(idx):\n",
        "            idx = idx.tolist()\n",
        "\n",
        "        img_name = os.path.join(self.root_dir, self.dataframe.iloc[idx, 1])\n",
        "        image1 = cv2.imread(img_name)\n",
        "        image_norm = cv2.normalize(\n",
        "            image1, None, alpha=0, beta=255, norm_type=cv2.NORM_MINMAX)\n",
        "        image = Image.fromarray(image_norm)\n",
        "        label = torch.tensor(int(self.dataframe.iloc[idx, 2]))\n",
        "         \n",
        "\n",
        "\n",
        "        if self.transform:\n",
        "            image = self.transform(image)\n",
        "        \n",
        "        #image = transforms.functional.crop(image, 140, 360 , 240, 240) # take only right part of the system\n",
        "        #image = transforms.functional.crop(image, 220, 460 , 160, 160) # take only right tip of the system 1 \n",
        "        #image = transforms.functional.crop(image, 190, 510 , 140, 110) # more right 2\n",
        "        #image = transforms.functional.crop(image, 190, 470 , 140, 140) # more right 3\n",
        "        #image = transforms.functional.crop(image, 190, 440 , 140, 180) # more right 4\n",
        "        #image = transforms.functional.crop(image, 190, 470 , 130, 150) # more right 5\n",
        "        \n",
        "        #image = transforms.functional.crop(image, 190, 285 , 140, 320) # mm\n",
        "        #image = transforms.functional.crop(image, 190, 380 , 140, 230)\n",
        "        #image = transforms.functional.crop(image, 190, 430 , 140, 180) #6\n",
        "\n",
        "        return image, label"
      ],
      "metadata": {
        "id": "F7jjXjoyo5e7"
      },
      "execution_count": 14,
      "outputs": []
    },
    {
      "cell_type": "markdown",
      "source": [
        "## Transforms on the datasets"
      ],
      "metadata": {
        "id": "i0o2Jo1HqbPU"
      }
    },
    {
      "cell_type": "code",
      "source": [
        "# Add transforms for train, test, val dataset\n",
        "input_size_h = 512\n",
        "input_size_w = 640\n",
        "transform_train = transforms.Compose([\n",
        "   #transforms.Resize((input_size_h, input_size_w)),\n",
        "    transforms.Grayscale(num_output_channels=1),\n",
        "    transforms.ToTensor(),\n",
        "    #transforms.RandomPerspective(),\n",
        "    #transforms.RandomRotation((1, 8))\n",
        "\n",
        "])\n",
        "\n",
        "transform_valid = transforms.Compose([\n",
        "    #transforms.Resize((input_size_h, input_size_w)),\n",
        "    transforms.Grayscale(num_output_channels=1),\n",
        "    transforms.ToTensor()\n",
        "])\n",
        "\n",
        "transform_test = transforms.Compose([\n",
        "    #transforms.Resize((input_size_h, input_size_w)),\n",
        "    transforms.Grayscale(num_output_channels=1),\n",
        "    transforms.ToTensor()\n",
        "])"
      ],
      "metadata": {
        "id": "mDyess9QqoJ0"
      },
      "execution_count": 15,
      "outputs": []
    },
    {
      "cell_type": "markdown",
      "source": [
        "## Dataloaders and Iterator"
      ],
      "metadata": {
        "id": "bM7WKk3UucNo"
      }
    },
    {
      "cell_type": "code",
      "source": [
        "def show_batch(dl):\n",
        "    \"\"\"Plot images grid of single batch\"\"\"\n",
        "    for images, labels in dl:\n",
        "        fig,ax = plt.subplots(figsize = (16,12))\n",
        "        ax.set_xticks([])\n",
        "        ax.set_yticks([])\n",
        "        ax.imshow(make_grid(images,nrow=16).permute(1,2,0))\n",
        "        break\n",
        "\n",
        "\n",
        "\n",
        "# dataloaders\n",
        "train_dataset = ClutchDataset(\n",
        "    train_df, root_dir=dataset_path, is_train=True, transform=transform_train)\n",
        "val_dataset = ClutchDataset(val_df, root_dir=dataset_path,\n",
        "                            is_train=False, transform=transform_valid)\n",
        "test_dataset = ClutchDataset(\n",
        "    test_df, root_dir=dataset_path, is_train=False, transform=transform_test)\n",
        "\n",
        "train_loader = DataLoader(train_dataset, batch_size=8, shuffle=True)\n",
        "val_loader = DataLoader(val_dataset, batch_size=8, shuffle=False)\n",
        "test_loader = DataLoader(test_dataset, batch_size=8, shuffle=False)\n",
        "\n",
        "dataloaders_dict = {}\n",
        "dataloaders_dict['train'] = train_loader\n",
        "dataloaders_dict['val'] = val_loader\n",
        "dataloaders_dict['test'] = test_loader\n",
        "\n",
        "\n",
        "# iteratre through dataloaders\n",
        "train_features, train_labels = next(iter(train_loader))\n",
        "print(f\"Feature batch shape: {train_features.shape}\")\n",
        "print(f\"Labels batch shape: {train_labels.shape}\")\n",
        "img = train_features[0].squeeze()\n",
        "label = train_labels[0]\n",
        "\n",
        "# convert image to APPEAR RGB\n",
        "# rgb_train_features = np.repeat(train_features[..., np.newaxis], 3, -1)\n",
        "# print(f\"Feature batch shape: {rgb_train_features.shape}\")\n",
        "# train_features = rgb_train_features\n",
        "\n",
        "# plt.imshow(img, cmap=\"gray\")\n",
        "# plt.axis('off')\n",
        "# plt.show()\n",
        "# print(f\"Label: {label}\")\n",
        "show_batch(train_loader)\n",
        "\n",
        "\n",
        "\n",
        "\n"
      ],
      "metadata": {
        "colab": {
          "base_uri": "https://localhost:8080/",
          "height": 201
        },
        "id": "R7-YZ7bcuoeq",
        "outputId": "a89d9f3b-f643-4201-922d-123c6253e44d"
      },
      "execution_count": 16,
      "outputs": [
        {
          "output_type": "stream",
          "name": "stdout",
          "text": [
            "Feature batch shape: torch.Size([8, 1, 512, 640])\n",
            "Labels batch shape: torch.Size([8])\n"
          ]
        },
        {
          "output_type": "display_data",
          "data": {
            "text/plain": [
              "<Figure size 1600x1200 with 1 Axes>"
            ],
            "image/png": "[encoded data removed]"
          },
          "metadata": {}
        }
      ]
    },
    {
      "cell_type": "markdown",
      "source": [
        "# Neural Networks\n",
        "Various different NNs tested with the same dataset"
      ],
      "metadata": {
        "id": "zvklWFrJf2a2"
      }
    },
    {
      "cell_type": "markdown",
      "source": [
        "### Metrics"
      ],
      "metadata": {
        "id": "T581bryST9mL"
      }
    },
    {
      "cell_type": "code",
      "source": [
        "def get_metrics(y_true, y_pred, class_mapping):\n",
        "\n",
        "    total_predictions = [0, 0, 0]\n",
        "    total_true = [0, 0, 0]\n",
        "\n",
        "    cm = metrics.confusion_matrix(y_true, y_pred, labels=class_mapping)\n",
        "\n",
        "    for i in range(3):\n",
        "        for j in range(3):\n",
        "            total_predictions[i] += cm[j][i]\n",
        "            total_true[i] += cm[i][j]\n",
        "\n",
        "    # recall and precision for each class\n",
        "    r_h = cm[0][0] / total_predictions[0]\n",
        "    r_m = cm[1][1] / total_predictions[1]\n",
        "    r_r = cm[2][2] / total_predictions[2]\n",
        "    p_h = cm[0][0] / total_true[0]\n",
        "    p_m = cm[1][1] / total_true[1]\n",
        "    p_r = cm[2][2] / total_true[2]\n",
        "\n",
        "    # data for confusion matrix\n",
        "    data = [[\"\", class_mapping[0], class_mapping[1], class_mapping[2], \"Total actual\"],\n",
        "            [class_mapping[0], cm[0][0], cm[0][1], cm[0][2], total_true[0]],\n",
        "            [class_mapping[1], cm[1][0], cm[1][1], cm[1][2], total_true[1]],\n",
        "            [class_mapping[2], cm[2][0], cm[2][1], cm[2][2], total_true[2]],\n",
        "            [\"Total predicted:\", total_predictions[0], total_predictions[1], total_predictions[2], sum(total_true)]]\n",
        "\n",
        "    # data for f1 score for each class\n",
        "    data_f1 = [[\"Class\", \"F1-score\"],\n",
        "               [\"Healthy\", round((2 * p_h * r_h) / (p_h + r_h), 2)],\n",
        "               [\"Misalignment\", round((2 * p_m * r_m) / (p_m + r_m), 2)],\n",
        "               [\"Rotor damage\", round((2 * p_r * r_r) / (p_r + r_r), 2)]]\n",
        "\n",
        "    # printing confusion matrix, f1 score table, recall and precision\n",
        "    print(tabulate(data, tablefmt=\"simple_grid\"))\n",
        "    print()\n",
        "    print(tabulate(data_f1, tablefmt=\"simple_grid\"))\n",
        "    print(f\"\\nRecall for healthy class: {round(r_h, 2)}\")\n",
        "    print(f\"Recall for misalignment class: {round(r_m, 2)}\")\n",
        "    print(f\"Recall for rotor damage class: {round(r_r, 2)}\")\n",
        "    print(f\"\\nPrecision for healthy class: {round(p_h, 2)}\")\n",
        "    print(f\"Precision for misalignment class: {round(p_m, 2)}\")\n",
        "    print(f\"Precision for rotor damage class: {round(p_r, 2)}\")"
      ],
      "metadata": {
        "id": "risiuh1hUWEj"
      },
      "execution_count": 17,
      "outputs": []
    },
    {
      "cell_type": "markdown",
      "source": [
        "### Fully Connected\n",
        "\n"
      ],
      "metadata": {
        "id": "sFCMgR2-zz1o"
      }
    },
    {
      "cell_type": "code",
      "source": [
        "class FeedForwardNet(nn.Module):\n",
        "    def __init__(self):\n",
        "        super().__init__()\n",
        "        self.flatten = nn.Flatten()\n",
        "        self.dense_layers = nn.Sequential(\n",
        "            nn.Linear(640 * 512, 512),\n",
        "            nn.ReLU(),\n",
        "            nn.Linear(512, 128),\n",
        "            nn.ReLU(),\n",
        "            nn.Linear(128, 64),\n",
        "            nn.ReLU(),\n",
        "            nn.Linear(64, 3)\n",
        "        )\n",
        "        self.softmax = nn.Softmax(dim=1)\n",
        "\n",
        "    def forward(self, input_data):\n",
        "        flattened_data = self.flatten(input_data)\n",
        "        logits = self.dense_layers(flattened_data)\n",
        "        predictions = self.softmax(logits)\n",
        "        return predictions"
      ],
      "metadata": {
        "id": "GRGEp8WwzkjP"
      },
      "execution_count": 18,
      "outputs": []
    },
    {
      "cell_type": "code",
      "source": [
        "model = FeedForwardNet()\n",
        "model = model.to(device)"
      ],
      "metadata": {
        "id": "gn88df-gp07-"
      },
      "execution_count": 19,
      "outputs": []
    },
    {
      "cell_type": "markdown",
      "source": [
        "### Hyperparameters"
      ],
      "metadata": {
        "id": "6bLHGzepFzhf"
      }
    },
    {
      "cell_type": "code",
      "source": [
        "path_res = \"C:/Users/Nihal/Desktop/fully-connected.pt\"\n",
        "LEARNING_RATE = 3e-4\n",
        "\n",
        "loss_val = []\n",
        "train_acc = []\n",
        "class_mapping = ['healthy', 'misalignment', 'rotor damage']"
      ],
      "metadata": {
        "id": "FAT3tgJqFtWc"
      },
      "execution_count": 20,
      "outputs": []
    },
    {
      "cell_type": "markdown",
      "source": [
        "### Early Stopping"
      ],
      "metadata": {
        "id": "cRCCEK2b5F3A"
      }
    },
    {
      "cell_type": "code",
      "source": [
        "class EarlyStopper:\n",
        "    def __init__(self, patience=1, min_delta=0):\n",
        "        self.patience = patience\n",
        "        self.min_delta = min_delta\n",
        "        self.counter = 0\n",
        "        self.min_validation_loss = np.inf\n",
        "\n",
        "    def early_stop(self, validation_loss):\n",
        "        if validation_loss < self.min_validation_loss:\n",
        "            self.min_validation_loss = validation_loss\n",
        "            self.counter = 0\n",
        "        elif validation_loss > (self.min_validation_loss + self.min_delta):\n",
        "            self.counter += 1\n",
        "            if self.counter >= self.patience:\n",
        "                return True\n",
        "        return False"
      ],
      "metadata": {
        "id": "9Mo3N9CM5G6O"
      },
      "execution_count": 21,
      "outputs": []
    },
    {
      "cell_type": "markdown",
      "source": [
        "### Training per epoch\n"
      ],
      "metadata": {
        "id": "jwiKQU0S6DF-"
      }
    },
    {
      "cell_type": "code",
      "source": [
        "criterion = nn.CrossEntropyLoss()\n",
        "optimizer = torch.optim.SGD(model.parameters(), lr=LEARNING_RATE, momentum=0.9)\n",
        "n_epochs = 30\n",
        "print_every = 10\n",
        "valid_loss_min = np.Inf\n",
        "test_loss_min = np.Inf\n",
        "val_loss = []\n",
        "val_acc = []\n",
        "train_loss = []\n",
        "train_acc = []\n",
        "test_loss = []\n",
        "test_acc = []\n",
        "total_step = len(train_loader)\n",
        "early_stopper = EarlyStopper(patience=5, min_delta=0.1)\n",
        "for epoch in range(1, n_epochs+1):\n",
        "    running_loss = 0.0\n",
        "    correct = 0\n",
        "    total=0\n",
        "    print(f'Epoch {epoch}\\n')\n",
        "    for batch_idx, (data_, target_) in enumerate(train_loader):\n",
        "        data_, target_ = data_.to(device), target_.to(device)\n",
        "        optimizer.zero_grad()\n",
        "        \n",
        "        outputs = model(data_)\n",
        "        loss = criterion(outputs, target_)\n",
        "        loss.backward()\n",
        "        optimizer.step()\n",
        "\n",
        "        running_loss += loss.item()\n",
        "        _,pred = torch.max(outputs, dim=1)\n",
        "        correct += torch.sum(pred==target_).item()\n",
        "        total += target_.size(0)\n",
        "        if (batch_idx) % 40 == 0:\n",
        "            print ('Epoch [{}/{}], Step [{}/{}], Loss: {:.4f}' \n",
        "                   .format(epoch, n_epochs, batch_idx, total_step, loss.item()))\n",
        "    train_acc.append(100 * correct / total)\n",
        "    train_loss.append(running_loss/total_step)\n",
        "    print(f'\\ntrain-loss: {np.mean(train_loss):.4f}, train-acc: {(100 * correct/total):.4f}')\n",
        "\n",
        "    batch_loss_t = 0\n",
        "    total_t=0\n",
        "    correct_t=0\n",
        "\n",
        "    batch_loss_v = 0\n",
        "    total_v=0\n",
        "    correct_v=0\n",
        "\n",
        "\n",
        "    with torch.no_grad():\n",
        "        model.eval()\n",
        "        for data_v, target_v in (val_loader):\n",
        "            data_v, target_v = data_v.to(device), target_v.to(device)\n",
        "            outputs_v = model(data_v)\n",
        "            loss_v = criterion(outputs_v, target_v)\n",
        "            batch_loss_v += loss_v.item()\n",
        "            _,pred_v = torch.max(outputs_v, dim=1)\n",
        "            correct_v += torch.sum(pred_v==target_v).item()\n",
        "            total_v += target_v.size(0)\n",
        "        val_acc.append(100 * correct_v/total_v)\n",
        "        val_loss.append(batch_loss_v/len(val_loader))\n",
        "        network_learned = batch_loss_v < valid_loss_min\n",
        "        print(f'validation loss: {np.mean(val_loss):.4f}, validation acc: {(100 * correct_v/total_v):.4f}')\n",
        "\n",
        "        for data_t, target_t in (test_loader):\n",
        "            data_t, target_t = data_t.to(device), target_t.to(device)\n",
        "            outputs_t = model(data_t)\n",
        "            loss_t = criterion(outputs_t, target_t)\n",
        "            batch_loss_t += loss_t.item()\n",
        "            _,pred_t = torch.max(outputs_t, dim=1)\n",
        "            correct_t += torch.sum(pred_t==target_t).item()\n",
        "            total_t += target_t.size(0)\n",
        "        test_acc.append(100 * correct_t/total_t)\n",
        "        test_loss.append(batch_loss_t/len(test_loader))\n",
        "        network_learned = batch_loss_t < test_loss_min\n",
        "        print(f'test loss: {np.mean(test_loss):.4f}, test acc: {(100 * correct_t/total_t):.4f}\\n')        \n",
        "\n",
        "        \n",
        "        if network_learned:\n",
        "            test_loss_min = batch_loss_t\n",
        "            torch.save(model.state_dict(), path_res)\n",
        "            print('Improvement-Detected, save-model')\n",
        "\n",
        "        if early_stopper.early_stop(batch_loss_t/len(test_loader)):\n",
        "            print(\"Patience Extended! Training stopped...\")\n",
        "            break\n",
        "\n",
        "        \n",
        "\n",
        "    model.train()\n",
        "\n",
        "\n",
        "\n",
        "\n",
        "\n",
        "\n",
        "\n",
        "\n"
      ],
      "metadata": {
        "id": "n7EzSnjL6Cvk",
        "colab": {
          "base_uri": "https://localhost:8080/"
        },
        "outputId": "db8de247-0a9a-4468-8033-3d06df6d1d99"
      },
      "execution_count": 22,
      "outputs": [
        {
          "output_type": "stream",
          "name": "stdout",
          "text": [
            "Epoch 1\n",
            "\n",
            "Epoch [1/30], Step [0/338], Loss: 1.0911\n",
            "Epoch [1/30], Step [40/338], Loss: 1.0274\n",
            "Epoch [1/30], Step [80/338], Loss: 0.9768\n",
            "Epoch [1/30], Step [120/338], Loss: 0.9787\n",
            "Epoch [1/30], Step [160/338], Loss: 1.0111\n",
            "Epoch [1/30], Step [200/338], Loss: 0.9153\n",
            "Epoch [1/30], Step [240/338], Loss: 0.7884\n",
            "Epoch [1/30], Step [280/338], Loss: 0.7566\n",
            "Epoch [1/30], Step [320/338], Loss: 0.6689\n",
            "\n",
            "train-loss: 0.9167, train-acc: 65.8158\n",
            "validation loss: 0.8965, validation acc: 69.2901\n",
            "test loss: 0.8981, test acc: 68.3564\n",
            "\n",
            "Improvement-Detected, save-model\n",
            "Epoch 2\n",
            "\n",
            "Epoch [2/30], Step [0/338], Loss: 0.9683\n",
            "Epoch [2/30], Step [40/338], Loss: 0.7198\n",
            "Epoch [2/30], Step [80/338], Loss: 0.8824\n",
            "Epoch [2/30], Step [120/338], Loss: 0.6960\n",
            "Epoch [2/30], Step [160/338], Loss: 0.7733\n",
            "Epoch [2/30], Step [200/338], Loss: 0.6815\n",
            "Epoch [2/30], Step [240/338], Loss: 0.6353\n",
            "Epoch [2/30], Step [280/338], Loss: 0.6138\n",
            "Epoch [2/30], Step [320/338], Loss: 0.6532\n",
            "\n",
            "train-loss: 0.8108, train-acc: 88.9012\n",
            "validation loss: 0.8778, validation acc: 69.2901\n",
            "test loss: 0.8683, test acc: 68.3564\n",
            "\n",
            "Improvement-Detected, save-model\n",
            "Epoch 3\n",
            "\n",
            "Epoch [3/30], Step [0/338], Loss: 0.6845\n",
            "Epoch [3/30], Step [40/338], Loss: 0.6258\n",
            "Epoch [3/30], Step [80/338], Loss: 0.5944\n",
            "Epoch [3/30], Step [120/338], Loss: 0.6123\n",
            "Epoch [3/30], Step [160/338], Loss: 0.5756\n",
            "Epoch [3/30], Step [200/338], Loss: 0.5798\n",
            "Epoch [3/30], Step [240/338], Loss: 0.5779\n",
            "Epoch [3/30], Step [280/338], Loss: 0.5727\n",
            "Epoch [3/30], Step [320/338], Loss: 0.5685\n",
            "\n",
            "train-loss: 0.7403, train-acc: 99.9260\n",
            "validation loss: 0.8684, validation acc: 69.2901\n",
            "test loss: 0.8501, test acc: 68.3564\n",
            "\n",
            "Improvement-Detected, save-model\n",
            "Epoch 4\n",
            "\n",
            "Epoch [4/30], Step [0/338], Loss: 0.5740\n",
            "Epoch [4/30], Step [40/338], Loss: 0.5633\n",
            "Epoch [4/30], Step [80/338], Loss: 0.5687\n",
            "Epoch [4/30], Step [120/338], Loss: 0.5820\n",
            "Epoch [4/30], Step [160/338], Loss: 0.5655\n",
            "Epoch [4/30], Step [200/338], Loss: 0.5764\n",
            "Epoch [4/30], Step [240/338], Loss: 0.5624\n",
            "Epoch [4/30], Step [280/338], Loss: 0.5581\n",
            "Epoch [4/30], Step [320/338], Loss: 0.5613\n",
            "\n",
            "train-loss: 0.6976, train-acc: 100.0000\n",
            "validation loss: 0.8644, validation acc: 69.2901\n",
            "test loss: 0.8422, test acc: 68.3564\n",
            "\n",
            "Epoch 5\n",
            "\n",
            "Epoch [5/30], Step [0/338], Loss: 0.5905\n",
            "Epoch [5/30], Step [40/338], Loss: 0.5571\n",
            "Epoch [5/30], Step [80/338], Loss: 0.5672\n",
            "Epoch [5/30], Step [120/338], Loss: 0.5561\n",
            "Epoch [5/30], Step [160/338], Loss: 0.5612\n",
            "Epoch [5/30], Step [200/338], Loss: 0.5557\n",
            "Epoch [5/30], Step [240/338], Loss: 0.5584\n",
            "Epoch [5/30], Step [280/338], Loss: 0.5538\n",
            "Epoch [5/30], Step [320/338], Loss: 0.5576\n",
            "\n",
            "train-loss: 0.6703, train-acc: 100.0000\n",
            "validation loss: 0.8622, validation acc: 69.2901\n",
            "test loss: 0.8371, test acc: 68.3564\n",
            "\n",
            "Epoch 6\n",
            "\n",
            "Epoch [6/30], Step [0/338], Loss: 0.5599\n",
            "Epoch [6/30], Step [40/338], Loss: 0.5581\n",
            "Epoch [6/30], Step [80/338], Loss: 0.5530\n",
            "Epoch [6/30], Step [120/338], Loss: 0.5604\n",
            "Epoch [6/30], Step [160/338], Loss: 0.5522\n",
            "Epoch [6/30], Step [200/338], Loss: 0.5569\n",
            "Epoch [6/30], Step [240/338], Loss: 0.5589\n",
            "Epoch [6/30], Step [280/338], Loss: 0.5551\n",
            "Epoch [6/30], Step [320/338], Loss: 0.5529\n",
            "\n",
            "train-loss: 0.6515, train-acc: 100.0000\n",
            "validation loss: 0.8608, validation acc: 69.2901\n",
            "test loss: 0.8334, test acc: 68.3564\n",
            "\n",
            "Epoch 7\n",
            "\n",
            "Epoch [7/30], Step [0/338], Loss: 0.5611\n",
            "Epoch [7/30], Step [40/338], Loss: 0.5573\n",
            "Epoch [7/30], Step [80/338], Loss: 0.5647\n",
            "Epoch [7/30], Step [120/338], Loss: 0.5551\n",
            "Epoch [7/30], Step [160/338], Loss: 0.5549\n",
            "Epoch [7/30], Step [200/338], Loss: 0.5538\n",
            "Epoch [7/30], Step [240/338], Loss: 0.5590\n",
            "Epoch [7/30], Step [280/338], Loss: 0.5566\n",
            "Epoch [7/30], Step [320/338], Loss: 0.5572\n",
            "\n",
            "train-loss: 0.6378, train-acc: 100.0000\n",
            "validation loss: 0.8601, validation acc: 69.2901\n",
            "test loss: 0.8331, test acc: 68.3564\n",
            "\n",
            "Epoch 8\n",
            "\n",
            "Epoch [8/30], Step [0/338], Loss: 0.5530\n",
            "Epoch [8/30], Step [40/338], Loss: 0.5568\n",
            "Epoch [8/30], Step [80/338], Loss: 0.5571\n",
            "Epoch [8/30], Step [120/338], Loss: 0.5554\n",
            "Epoch [8/30], Step [160/338], Loss: 0.5533\n",
            "Epoch [8/30], Step [200/338], Loss: 0.5520\n",
            "Epoch [8/30], Step [240/338], Loss: 0.5554\n",
            "Epoch [8/30], Step [280/338], Loss: 0.5524\n",
            "Epoch [8/30], Step [320/338], Loss: 0.5548\n",
            "\n",
            "train-loss: 0.6274, train-acc: 100.0000\n",
            "validation loss: 0.8594, validation acc: 69.2901\n",
            "test loss: 0.8303, test acc: 68.3564\n",
            "\n",
            "Improvement-Detected, save-model\n",
            "Epoch 9\n",
            "\n",
            "Epoch [9/30], Step [0/338], Loss: 0.5529\n",
            "Epoch [9/30], Step [40/338], Loss: 0.5536\n",
            "Epoch [9/30], Step [80/338], Loss: 0.5527\n",
            "Epoch [9/30], Step [120/338], Loss: 0.5563\n",
            "Epoch [9/30], Step [160/338], Loss: 0.5537\n",
            "Epoch [9/30], Step [200/338], Loss: 0.5528\n",
            "Epoch [9/30], Step [240/338], Loss: 0.5521\n",
            "Epoch [9/30], Step [280/338], Loss: 0.5552\n",
            "Epoch [9/30], Step [320/338], Loss: 0.5539\n",
            "\n",
            "train-loss: 0.6192, train-acc: 100.0000\n",
            "validation loss: 0.8591, validation acc: 69.2901\n",
            "test loss: 0.8306, test acc: 68.3564\n",
            "\n",
            "Epoch 10\n",
            "\n",
            "Epoch [10/30], Step [0/338], Loss: 0.5546\n",
            "Epoch [10/30], Step [40/338], Loss: 0.5549\n",
            "Epoch [10/30], Step [80/338], Loss: 0.5529\n",
            "Epoch [10/30], Step [120/338], Loss: 0.5523\n",
            "Epoch [10/30], Step [160/338], Loss: 0.5530\n",
            "Epoch [10/30], Step [200/338], Loss: 0.5555\n",
            "Epoch [10/30], Step [240/338], Loss: 0.5531\n",
            "Epoch [10/30], Step [280/338], Loss: 0.5520\n",
            "Epoch [10/30], Step [320/338], Loss: 0.5540\n",
            "\n",
            "train-loss: 0.6127, train-acc: 100.0000\n",
            "validation loss: 0.8589, validation acc: 69.2901\n",
            "test loss: 0.8306, test acc: 68.3564\n",
            "\n",
            "Epoch 11\n",
            "\n",
            "Epoch [11/30], Step [0/338], Loss: 0.5540\n",
            "Epoch [11/30], Step [40/338], Loss: 0.5534\n",
            "Epoch [11/30], Step [80/338], Loss: 0.5532\n",
            "Epoch [11/30], Step [120/338], Loss: 0.5520\n",
            "Epoch [11/30], Step [160/338], Loss: 0.5533\n",
            "Epoch [11/30], Step [200/338], Loss: 0.5520\n",
            "Epoch [11/30], Step [240/338], Loss: 0.5547\n",
            "Epoch [11/30], Step [280/338], Loss: 0.5520\n",
            "Epoch [11/30], Step [320/338], Loss: 0.5546\n",
            "\n",
            "train-loss: 0.6072, train-acc: 100.0000\n",
            "validation loss: 0.8587, validation acc: 69.2901\n",
            "test loss: 0.8306, test acc: 68.3564\n",
            "\n",
            "Epoch 12\n",
            "\n",
            "Epoch [12/30], Step [0/338], Loss: 0.5534\n",
            "Epoch [12/30], Step [40/338], Loss: 0.5522\n",
            "Epoch [12/30], Step [80/338], Loss: 0.5531\n",
            "Epoch [12/30], Step [120/338], Loss: 0.5524\n",
            "Epoch [12/30], Step [160/338], Loss: 0.5522\n",
            "Epoch [12/30], Step [200/338], Loss: 0.5535\n",
            "Epoch [12/30], Step [240/338], Loss: 0.5552\n",
            "Epoch [12/30], Step [280/338], Loss: 0.5527\n",
            "Epoch [12/30], Step [320/338], Loss: 0.5528\n",
            "\n",
            "train-loss: 0.6027, train-acc: 100.0000\n",
            "validation loss: 0.8586, validation acc: 69.2901\n",
            "test loss: 0.8310, test acc: 68.3564\n",
            "\n",
            "Epoch 13\n",
            "\n",
            "Epoch [13/30], Step [0/338], Loss: 0.5539\n",
            "Epoch [13/30], Step [40/338], Loss: 0.5520\n",
            "Epoch [13/30], Step [80/338], Loss: 0.5532\n",
            "Epoch [13/30], Step [120/338], Loss: 0.5543\n",
            "Epoch [13/30], Step [160/338], Loss: 0.5533\n",
            "Epoch [13/30], Step [200/338], Loss: 0.5520\n",
            "Epoch [13/30], Step [240/338], Loss: 0.5518\n",
            "Epoch [13/30], Step [280/338], Loss: 0.5533\n",
            "Epoch [13/30], Step [320/338], Loss: 0.5534\n",
            "\n",
            "train-loss: 0.5989, train-acc: 100.0000\n",
            "validation loss: 0.8585, validation acc: 69.2901\n",
            "test loss: 0.8312, test acc: 68.3564\n",
            "\n",
            "Epoch 14\n",
            "\n",
            "Epoch [14/30], Step [0/338], Loss: 0.5518\n",
            "Epoch [14/30], Step [40/338], Loss: 0.5521\n",
            "Epoch [14/30], Step [80/338], Loss: 0.5537\n",
            "Epoch [14/30], Step [120/338], Loss: 0.5522\n",
            "Epoch [14/30], Step [160/338], Loss: 0.5527\n",
            "Epoch [14/30], Step [200/338], Loss: 0.5521\n",
            "Epoch [14/30], Step [240/338], Loss: 0.5522\n",
            "Epoch [14/30], Step [280/338], Loss: 0.5526\n",
            "Epoch [14/30], Step [320/338], Loss: 0.5530\n",
            "\n",
            "train-loss: 0.5956, train-acc: 100.0000\n",
            "validation loss: 0.8584, validation acc: 69.2901\n",
            "test loss: 0.8311, test acc: 68.3564\n",
            "\n",
            "Epoch 15\n",
            "\n",
            "Epoch [15/30], Step [0/338], Loss: 0.5523\n",
            "Epoch [15/30], Step [40/338], Loss: 0.5529\n",
            "Epoch [15/30], Step [80/338], Loss: 0.5526\n",
            "Epoch [15/30], Step [120/338], Loss: 0.5516\n",
            "Epoch [15/30], Step [160/338], Loss: 0.5521\n",
            "Epoch [15/30], Step [200/338], Loss: 0.5520\n",
            "Epoch [15/30], Step [240/338], Loss: 0.5526\n",
            "Epoch [15/30], Step [280/338], Loss: 0.5515\n",
            "Epoch [15/30], Step [320/338], Loss: 0.5525\n",
            "\n",
            "train-loss: 0.5927, train-acc: 100.0000\n",
            "validation loss: 0.8583, validation acc: 69.2901\n",
            "test loss: 0.8312, test acc: 68.3564\n",
            "\n",
            "Epoch 16\n",
            "\n",
            "Epoch [16/30], Step [0/338], Loss: 0.5518\n",
            "Epoch [16/30], Step [40/338], Loss: 0.5524\n",
            "Epoch [16/30], Step [80/338], Loss: 0.5519\n",
            "Epoch [16/30], Step [120/338], Loss: 0.5527\n",
            "Epoch [16/30], Step [160/338], Loss: 0.5522\n",
            "Epoch [16/30], Step [200/338], Loss: 0.5527\n",
            "Epoch [16/30], Step [240/338], Loss: 0.5516\n",
            "Epoch [16/30], Step [280/338], Loss: 0.5524\n",
            "Epoch [16/30], Step [320/338], Loss: 0.5534\n",
            "\n",
            "train-loss: 0.5902, train-acc: 100.0000\n",
            "validation loss: 0.8583, validation acc: 69.2901\n",
            "test loss: 0.8317, test acc: 68.3564\n",
            "\n",
            "Epoch 17\n",
            "\n",
            "Epoch [17/30], Step [0/338], Loss: 0.5523\n",
            "Epoch [17/30], Step [40/338], Loss: 0.5525\n",
            "Epoch [17/30], Step [80/338], Loss: 0.5517\n",
            "Epoch [17/30], Step [120/338], Loss: 0.5526\n",
            "Epoch [17/30], Step [160/338], Loss: 0.5517\n",
            "Epoch [17/30], Step [200/338], Loss: 0.5529\n",
            "Epoch [17/30], Step [240/338], Loss: 0.5524\n",
            "Epoch [17/30], Step [280/338], Loss: 0.5527\n",
            "Epoch [17/30], Step [320/338], Loss: 0.5527\n",
            "\n",
            "train-loss: 0.5879, train-acc: 100.0000\n",
            "validation loss: 0.8582, validation acc: 69.2901\n",
            "test loss: 0.8321, test acc: 68.3564\n",
            "\n",
            "Epoch 18\n",
            "\n",
            "Epoch [18/30], Step [0/338], Loss: 0.5520\n",
            "Epoch [18/30], Step [40/338], Loss: 0.5527\n",
            "Epoch [18/30], Step [80/338], Loss: 0.5532\n",
            "Epoch [18/30], Step [120/338], Loss: 0.5530\n",
            "Epoch [18/30], Step [160/338], Loss: 0.5515\n",
            "Epoch [18/30], Step [200/338], Loss: 0.5517\n",
            "Epoch [18/30], Step [240/338], Loss: 0.5524\n",
            "Epoch [18/30], Step [280/338], Loss: 0.5516\n",
            "Epoch [18/30], Step [320/338], Loss: 0.5519\n",
            "\n",
            "train-loss: 0.5860, train-acc: 100.0000\n",
            "validation loss: 0.8582, validation acc: 69.2901\n",
            "test loss: 0.8325, test acc: 68.3564\n",
            "\n",
            "Epoch 19\n",
            "\n",
            "Epoch [19/30], Step [0/338], Loss: 0.5515\n",
            "Epoch [19/30], Step [40/338], Loss: 0.5521\n",
            "Epoch [19/30], Step [80/338], Loss: 0.5519\n",
            "Epoch [19/30], Step [120/338], Loss: 0.5524\n",
            "Epoch [19/30], Step [160/338], Loss: 0.5516\n",
            "Epoch [19/30], Step [200/338], Loss: 0.5520\n",
            "Epoch [19/30], Step [240/338], Loss: 0.5519\n",
            "Epoch [19/30], Step [280/338], Loss: 0.5527\n",
            "Epoch [19/30], Step [320/338], Loss: 0.5525\n",
            "\n",
            "train-loss: 0.5842, train-acc: 100.0000\n",
            "validation loss: 0.8582, validation acc: 69.2901\n",
            "test loss: 0.8325, test acc: 68.3564\n",
            "\n",
            "Epoch 20\n",
            "\n",
            "Epoch [20/30], Step [0/338], Loss: 0.5517\n",
            "Epoch [20/30], Step [40/338], Loss: 0.5518\n",
            "Epoch [20/30], Step [80/338], Loss: 0.5520\n",
            "Epoch [20/30], Step [120/338], Loss: 0.5519\n",
            "Epoch [20/30], Step [160/338], Loss: 0.5523\n",
            "Epoch [20/30], Step [200/338], Loss: 0.5519\n",
            "Epoch [20/30], Step [240/338], Loss: 0.5516\n",
            "Epoch [20/30], Step [280/338], Loss: 0.5523\n",
            "Epoch [20/30], Step [320/338], Loss: 0.5520\n",
            "\n",
            "train-loss: 0.5826, train-acc: 100.0000\n",
            "validation loss: 0.8581, validation acc: 69.2901\n",
            "test loss: 0.8328, test acc: 68.3564\n",
            "\n",
            "Epoch 21\n",
            "\n",
            "Epoch [21/30], Step [0/338], Loss: 0.5525\n",
            "Epoch [21/30], Step [40/338], Loss: 0.5522\n",
            "Epoch [21/30], Step [80/338], Loss: 0.5517\n",
            "Epoch [21/30], Step [120/338], Loss: 0.5524\n",
            "Epoch [21/30], Step [160/338], Loss: 0.5522\n",
            "Epoch [21/30], Step [200/338], Loss: 0.5523\n",
            "Epoch [21/30], Step [240/338], Loss: 0.5522\n",
            "Epoch [21/30], Step [280/338], Loss: 0.5521\n",
            "Epoch [21/30], Step [320/338], Loss: 0.5519\n",
            "\n",
            "train-loss: 0.5811, train-acc: 100.0000\n",
            "validation loss: 0.8581, validation acc: 69.2901\n",
            "test loss: 0.8331, test acc: 68.3564\n",
            "\n",
            "Epoch 22\n",
            "\n",
            "Epoch [22/30], Step [0/338], Loss: 0.5516\n",
            "Epoch [22/30], Step [40/338], Loss: 0.5517\n",
            "Epoch [22/30], Step [80/338], Loss: 0.5519\n",
            "Epoch [22/30], Step [120/338], Loss: 0.5520\n",
            "Epoch [22/30], Step [160/338], Loss: 0.5524\n",
            "Epoch [22/30], Step [200/338], Loss: 0.5520\n",
            "Epoch [22/30], Step [240/338], Loss: 0.5521\n",
            "Epoch [22/30], Step [280/338], Loss: 0.5524\n",
            "Epoch [22/30], Step [320/338], Loss: 0.5516\n",
            "\n",
            "train-loss: 0.5798, train-acc: 100.0000\n",
            "validation loss: 0.8581, validation acc: 69.2901\n",
            "test loss: 0.8333, test acc: 68.3564\n",
            "\n",
            "Epoch 23\n",
            "\n",
            "Epoch [23/30], Step [0/338], Loss: 0.5522\n",
            "Epoch [23/30], Step [40/338], Loss: 0.5520\n",
            "Epoch [23/30], Step [80/338], Loss: 0.5517\n",
            "Epoch [23/30], Step [120/338], Loss: 0.5521\n",
            "Epoch [23/30], Step [160/338], Loss: 0.5518\n",
            "Epoch [23/30], Step [200/338], Loss: 0.5522\n",
            "Epoch [23/30], Step [240/338], Loss: 0.5517\n",
            "Epoch [23/30], Step [280/338], Loss: 0.5516\n",
            "Epoch [23/30], Step [320/338], Loss: 0.5516\n",
            "\n",
            "train-loss: 0.5786, train-acc: 100.0000\n",
            "validation loss: 0.8581, validation acc: 69.2901\n",
            "test loss: 0.8335, test acc: 68.3564\n",
            "\n",
            "Epoch 24\n",
            "\n",
            "Epoch [24/30], Step [0/338], Loss: 0.5515\n",
            "Epoch [24/30], Step [40/338], Loss: 0.5520\n",
            "Epoch [24/30], Step [80/338], Loss: 0.5518\n",
            "Epoch [24/30], Step [120/338], Loss: 0.5518\n",
            "Epoch [24/30], Step [160/338], Loss: 0.5528\n",
            "Epoch [24/30], Step [200/338], Loss: 0.5522\n",
            "Epoch [24/30], Step [240/338], Loss: 0.5519\n",
            "Epoch [24/30], Step [280/338], Loss: 0.5515\n",
            "Epoch [24/30], Step [320/338], Loss: 0.5520\n",
            "\n",
            "train-loss: 0.5775, train-acc: 100.0000\n",
            "validation loss: 0.8581, validation acc: 69.2901\n",
            "test loss: 0.8336, test acc: 68.3564\n",
            "\n",
            "Epoch 25\n",
            "\n",
            "Epoch [25/30], Step [0/338], Loss: 0.5518\n",
            "Epoch [25/30], Step [40/338], Loss: 0.5516\n",
            "Epoch [25/30], Step [80/338], Loss: 0.5518\n",
            "Epoch [25/30], Step [120/338], Loss: 0.5524\n",
            "Epoch [25/30], Step [160/338], Loss: 0.5521\n",
            "Epoch [25/30], Step [200/338], Loss: 0.5516\n",
            "Epoch [25/30], Step [240/338], Loss: 0.5518\n",
            "Epoch [25/30], Step [280/338], Loss: 0.5516\n",
            "Epoch [25/30], Step [320/338], Loss: 0.5518\n",
            "\n",
            "train-loss: 0.5765, train-acc: 100.0000\n",
            "validation loss: 0.8581, validation acc: 69.2901\n",
            "test loss: 0.8337, test acc: 68.3564\n",
            "\n",
            "Epoch 26\n",
            "\n",
            "Epoch [26/30], Step [0/338], Loss: 0.5519\n",
            "Epoch [26/30], Step [40/338], Loss: 0.5520\n",
            "Epoch [26/30], Step [80/338], Loss: 0.5518\n",
            "Epoch [26/30], Step [120/338], Loss: 0.5520\n",
            "Epoch [26/30], Step [160/338], Loss: 0.5517\n",
            "Epoch [26/30], Step [200/338], Loss: 0.5515\n",
            "Epoch [26/30], Step [240/338], Loss: 0.5520\n",
            "Epoch [26/30], Step [280/338], Loss: 0.5520\n",
            "Epoch [26/30], Step [320/338], Loss: 0.5517\n",
            "\n",
            "train-loss: 0.5755, train-acc: 100.0000\n",
            "validation loss: 0.8581, validation acc: 69.2901\n",
            "test loss: 0.8339, test acc: 68.3564\n",
            "\n",
            "Epoch 27\n",
            "\n",
            "Epoch [27/30], Step [0/338], Loss: 0.5518\n",
            "Epoch [27/30], Step [40/338], Loss: 0.5517\n",
            "Epoch [27/30], Step [80/338], Loss: 0.5519\n",
            "Epoch [27/30], Step [120/338], Loss: 0.5515\n",
            "Epoch [27/30], Step [160/338], Loss: 0.5524\n",
            "Epoch [27/30], Step [200/338], Loss: 0.5517\n",
            "Epoch [27/30], Step [240/338], Loss: 0.5517\n",
            "Epoch [27/30], Step [280/338], Loss: 0.5521\n",
            "Epoch [27/30], Step [320/338], Loss: 0.5517\n",
            "\n",
            "train-loss: 0.5746, train-acc: 100.0000\n",
            "validation loss: 0.8581, validation acc: 69.2901\n",
            "test loss: 0.8340, test acc: 68.3564\n",
            "\n",
            "Epoch 28\n",
            "\n",
            "Epoch [28/30], Step [0/338], Loss: 0.5517\n",
            "Epoch [28/30], Step [40/338], Loss: 0.5520\n",
            "Epoch [28/30], Step [80/338], Loss: 0.5524\n",
            "Epoch [28/30], Step [120/338], Loss: 0.5516\n",
            "Epoch [28/30], Step [160/338], Loss: 0.5520\n",
            "Epoch [28/30], Step [200/338], Loss: 0.5515\n",
            "Epoch [28/30], Step [240/338], Loss: 0.5518\n",
            "Epoch [28/30], Step [280/338], Loss: 0.5515\n",
            "Epoch [28/30], Step [320/338], Loss: 0.5519\n",
            "\n",
            "train-loss: 0.5738, train-acc: 100.0000\n",
            "validation loss: 0.8581, validation acc: 69.2901\n",
            "test loss: 0.8341, test acc: 68.3564\n",
            "\n",
            "Epoch 29\n",
            "\n",
            "Epoch [29/30], Step [0/338], Loss: 0.5519\n",
            "Epoch [29/30], Step [40/338], Loss: 0.5518\n",
            "Epoch [29/30], Step [80/338], Loss: 0.5516\n",
            "Epoch [29/30], Step [120/338], Loss: 0.5519\n",
            "Epoch [29/30], Step [160/338], Loss: 0.5516\n",
            "Epoch [29/30], Step [200/338], Loss: 0.5525\n",
            "Epoch [29/30], Step [240/338], Loss: 0.5518\n",
            "Epoch [29/30], Step [280/338], Loss: 0.5521\n",
            "Epoch [29/30], Step [320/338], Loss: 0.5515\n",
            "\n",
            "train-loss: 0.5731, train-acc: 100.0000\n",
            "validation loss: 0.8581, validation acc: 69.2901\n",
            "test loss: 0.8343, test acc: 68.3564\n",
            "\n",
            "Epoch 30\n",
            "\n",
            "Epoch [30/30], Step [0/338], Loss: 0.5517\n",
            "Epoch [30/30], Step [40/338], Loss: 0.5518\n",
            "Epoch [30/30], Step [80/338], Loss: 0.5517\n",
            "Epoch [30/30], Step [120/338], Loss: 0.5518\n",
            "Epoch [30/30], Step [160/338], Loss: 0.5516\n",
            "Epoch [30/30], Step [200/338], Loss: 0.5520\n",
            "Epoch [30/30], Step [240/338], Loss: 0.5521\n",
            "Epoch [30/30], Step [280/338], Loss: 0.5517\n",
            "Epoch [30/30], Step [320/338], Loss: 0.5517\n",
            "\n",
            "train-loss: 0.5723, train-acc: 100.0000\n",
            "validation loss: 0.8581, validation acc: 69.2901\n",
            "test loss: 0.8344, test acc: 68.3564\n",
            "\n"
          ]
        }
      ]
    },
    {
      "cell_type": "code",
      "source": [
        "fig = plt.figure()\n",
        "fig.set_figheight(6)\n",
        "fig.set_figwidth(13)\n",
        "\n",
        "\n",
        "plt.plot(train_loss, 'bx-', label = 'train')\n",
        "plt.plot(val_loss, 'gx-', label = 'val')\n",
        "plt.ylabel('LOSS')\n",
        "plt.xlabel('EPOCH')\n",
        "plt.legend(loc = 'upper left')\n",
        "\n",
        "# plt.subplot(1, 2, 2)\n",
        "# # plt.plot(train_acc, 'bx-', label = 'train')\n",
        "# # plt.plot(val_acc, 'gx-', label = 'val')\n",
        "# plt.plot(test_acc, 'rx-', label = 'test')\n",
        "# plt.ylabel('ACCURACY')\n",
        "# plt.xlabel('EPOCH')\n",
        "# plt.legend(loc = 'upper left')\n",
        "\n",
        "\n",
        "fig.suptitle('Full-Connected Model [Accuracy - Loss Plots]')\n",
        "plt.show()"
      ],
      "metadata": {
        "id": "aogDhRigogZa",
        "colab": {
          "base_uri": "https://localhost:8080/",
          "height": 602
        },
        "outputId": "69f7d572-65c4-4be2-866d-0ad3d241451c"
      },
      "execution_count": 30,
      "outputs": [
        {
          "output_type": "display_data",
          "data": {
            "text/plain": [
              "<Figure size 1300x600 with 1 Axes>"
            ],
            "image/png": "[encoded data removed]"
          },
          "metadata": {}
        }
      ]
    },
    {
      "cell_type": "markdown",
      "source": [
        "### Predictions"
      ],
      "metadata": {
        "id": "LikX6d0JIGS0"
      }
    },
    {
      "cell_type": "markdown",
      "source": [
        "#### Test"
      ],
      "metadata": {
        "id": "qxhPl-rGILzZ"
      }
    },
    {
      "cell_type": "code",
      "source": [
        "model_net = model\n",
        "model_net.load_state_dict(torch.load(path_res))\n",
        "\n",
        "\n",
        "print('Test data: ')\n",
        "y_true = []\n",
        "y_pred = []\n",
        "\n",
        "for i in range(len(test_dataset)):\n",
        "    input, target = test_dataset[i][0], test_dataset[i][1]\n",
        "    model_net.eval()\n",
        "    with torch.no_grad():\n",
        "        input = torch.unsqueeze(input, 0)\n",
        "        input = input.to(device) # send data to GPU \n",
        "        predictions = model_net(input)\n",
        "        predicted_index = predictions[0].argmax(0)\n",
        "\n",
        "        predicted = class_mapping[predicted_index]\n",
        "        expected = class_mapping[target]\n",
        "\n",
        "    y_true.append(expected)\n",
        "    y_pred.append(predicted)\n",
        "\n",
        "get_metrics(y_true, y_pred, class_mapping)"
      ],
      "metadata": {
        "id": "twHxp1D2Iac8",
        "colab": {
          "base_uri": "https://localhost:8080/"
        },
        "outputId": "5260aafc-1d18-43e2-e532-76fc5187ffd6"
      },
      "execution_count": 27,
      "outputs": [
        {
          "output_type": "stream",
          "name": "stdout",
          "text": [
            "Test data: \n",
            "┌──────────────────┬─────────┬──────────────┬──────────────┬──────────────┐\n",
            "│                  │ healthy │ misalignment │ rotor damage │ Total actual │\n",
            "├──────────────────┼─────────┼──────────────┼──────────────┼──────────────┤\n",
            "│ healthy          │ 0       │ 0            │ 206          │ 206          │\n",
            "├──────────────────┼─────────┼──────────────┼──────────────┼──────────────┤\n",
            "│ misalignment     │ 0       │ 229          │ 0            │ 229          │\n",
            "├──────────────────┼─────────┼──────────────┼──────────────┼──────────────┤\n",
            "│ rotor damage     │ 0       │ 0            │ 216          │ 216          │\n",
            "├──────────────────┼─────────┼──────────────┼──────────────┼──────────────┤\n",
            "│ Total predicted: │ 0       │ 229          │ 422          │ 651          │\n",
            "└──────────────────┴─────────┴──────────────┴──────────────┴──────────────┘\n",
            "\n",
            "┌──────────────┬──────────┐\n",
            "│ Class        │ F1-score │\n",
            "├──────────────┼──────────┤\n",
            "│ Healthy      │ nan      │\n",
            "├──────────────┼──────────┤\n",
            "│ Misalignment │ 1.0      │\n",
            "├──────────────┼──────────┤\n",
            "│ Rotor damage │ 0.68     │\n",
            "└──────────────┴──────────┘\n",
            "\n",
            "Recall for healthy class: nan\n",
            "Recall for misalignment class: 1.0\n",
            "Recall for rotor damage class: 0.51\n",
            "\n",
            "Precision for healthy class: 0.0\n",
            "Precision for misalignment class: 1.0\n",
            "Precision for rotor damage class: 1.0\n"
          ]
        },
        {
          "output_type": "stream",
          "name": "stderr",
          "text": [
            "c:\\users\\nihal\\appdata\\local\\programs\\python\\python37\\lib\\site-packages\\ipykernel_launcher.py:14: RuntimeWarning: invalid value encountered in longlong_scalars\n",
            "  \n"
          ]
        }
      ]
    },
    {
      "cell_type": "markdown",
      "source": [
        "#### Validation"
      ],
      "metadata": {
        "id": "w0-gQ1gJIOEd"
      }
    },
    {
      "cell_type": "code",
      "source": [
        "print('Valid data: ')\n",
        "y_true = []\n",
        "y_pred = []\n",
        "\n",
        "for i in range(len(val_dataset)):\n",
        "    input, target = val_dataset[i][0], val_dataset[i][1]\n",
        "    model_net.eval()\n",
        "    with torch.no_grad():\n",
        "        input = torch.unsqueeze(input, 0)\n",
        "        input = input.to(device) # send data to GPU \n",
        "        predictions = model_net(input)\n",
        "        predicted_index = predictions[0].argmax(0)\n",
        "\n",
        "        predicted = class_mapping[predicted_index]\n",
        "        expected = class_mapping[target]\n",
        "\n",
        "    y_true.append(expected)\n",
        "    y_pred.append(predicted)\n",
        "\n",
        "get_metrics(y_true, y_pred, class_mapping)"
      ],
      "metadata": {
        "id": "iy1zpvPfr9D_",
        "colab": {
          "base_uri": "https://localhost:8080/"
        },
        "outputId": "6b6e3d46-3ffd-413d-fb3a-a6ae835bddac"
      },
      "execution_count": 28,
      "outputs": [
        {
          "output_type": "stream",
          "name": "stdout",
          "text": [
            "Valid data: \n",
            "┌──────────────────┬─────────┬──────────────┬──────────────┬──────────────┐\n",
            "│                  │ healthy │ misalignment │ rotor damage │ Total actual │\n",
            "├──────────────────┼─────────┼──────────────┼──────────────┼──────────────┤\n",
            "│ healthy          │ 0       │ 0            │ 199          │ 199          │\n",
            "├──────────────────┼─────────┼──────────────┼──────────────┼──────────────┤\n",
            "│ misalignment     │ 0       │ 220          │ 0            │ 220          │\n",
            "├──────────────────┼─────────┼──────────────┼──────────────┼──────────────┤\n",
            "│ rotor damage     │ 0       │ 0            │ 229          │ 229          │\n",
            "├──────────────────┼─────────┼──────────────┼──────────────┼──────────────┤\n",
            "│ Total predicted: │ 0       │ 220          │ 428          │ 648          │\n",
            "└──────────────────┴─────────┴──────────────┴──────────────┴──────────────┘\n",
            "\n",
            "┌──────────────┬──────────┐\n",
            "│ Class        │ F1-score │\n",
            "├──────────────┼──────────┤\n",
            "│ Healthy      │ nan      │\n",
            "├──────────────┼──────────┤\n",
            "│ Misalignment │ 1.0      │\n",
            "├──────────────┼──────────┤\n",
            "│ Rotor damage │ 0.7      │\n",
            "└──────────────┴──────────┘\n",
            "\n",
            "Recall for healthy class: nan\n",
            "Recall for misalignment class: 1.0\n",
            "Recall for rotor damage class: 0.54\n",
            "\n",
            "Precision for healthy class: 0.0\n",
            "Precision for misalignment class: 1.0\n",
            "Precision for rotor damage class: 1.0\n"
          ]
        },
        {
          "output_type": "stream",
          "name": "stderr",
          "text": [
            "c:\\users\\nihal\\appdata\\local\\programs\\python\\python37\\lib\\site-packages\\ipykernel_launcher.py:14: RuntimeWarning: invalid value encountered in longlong_scalars\n",
            "  \n"
          ]
        }
      ]
    },
    {
      "cell_type": "markdown",
      "source": [
        "#### Training"
      ],
      "metadata": {
        "id": "EwGnjwq7IN63"
      }
    },
    {
      "cell_type": "code",
      "source": [
        "print('Training data:')\n",
        "y_true = []\n",
        "y_pred = []\n",
        "\n",
        "for i in range(len(train_dataset)):\n",
        "    input, target = train_dataset[i][0], train_dataset[i][1]\n",
        "    model_net.eval()\n",
        "    with torch.no_grad():\n",
        "        input = torch.unsqueeze(input, 0)\n",
        "        input = input.to(device) # send data to GPU\n",
        "        predictions = model_net(input)\n",
        "        predicted_index = predictions[0].argmax(0)\n",
        "\n",
        "        predicted = class_mapping[predicted_index]\n",
        "        expected = class_mapping[target]\n",
        "\n",
        "    y_true.append(expected)\n",
        "    y_pred.append(predicted)\n",
        "\n",
        "get_metrics(y_true, y_pred, class_mapping)"
      ],
      "metadata": {
        "id": "4iK4z79Ks1e9",
        "colab": {
          "base_uri": "https://localhost:8080/"
        },
        "outputId": "b28d2aad-cc0f-4270-8da0-61442ba47d46"
      },
      "execution_count": 29,
      "outputs": [
        {
          "output_type": "stream",
          "name": "stdout",
          "text": [
            "Training data:\n",
            "┌──────────────────┬─────────┬──────────────┬──────────────┬──────────────┐\n",
            "│                  │ healthy │ misalignment │ rotor damage │ Total actual │\n",
            "├──────────────────┼─────────┼──────────────┼──────────────┼──────────────┤\n",
            "│ healthy          │ 557     │ 0            │ 0            │ 557          │\n",
            "├──────────────────┼─────────┼──────────────┼──────────────┼──────────────┤\n",
            "│ misalignment     │ 0       │ 981          │ 0            │ 981          │\n",
            "├──────────────────┼─────────┼──────────────┼──────────────┼──────────────┤\n",
            "│ rotor damage     │ 0       │ 0            │ 1165         │ 1165         │\n",
            "├──────────────────┼─────────┼──────────────┼──────────────┼──────────────┤\n",
            "│ Total predicted: │ 557     │ 981          │ 1165         │ 2703         │\n",
            "└──────────────────┴─────────┴──────────────┴──────────────┴──────────────┘\n",
            "\n",
            "┌──────────────┬──────────┐\n",
            "│ Class        │ F1-score │\n",
            "├──────────────┼──────────┤\n",
            "│ Healthy      │ 1.0      │\n",
            "├──────────────┼──────────┤\n",
            "│ Misalignment │ 1.0      │\n",
            "├──────────────┼──────────┤\n",
            "│ Rotor damage │ 1.0      │\n",
            "└──────────────┴──────────┘\n",
            "\n",
            "Recall for healthy class: 1.0\n",
            "Recall for misalignment class: 1.0\n",
            "Recall for rotor damage class: 1.0\n",
            "\n",
            "Precision for healthy class: 1.0\n",
            "Precision for misalignment class: 1.0\n",
            "Precision for rotor damage class: 1.0\n"
          ]
        }
      ]
    }
  ]
}