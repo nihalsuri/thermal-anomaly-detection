{
  "nbformat": 4,
  "nbformat_minor": 0,
  "metadata": {
    "colab": {
      "provenance": [],
      "toc_visible": true,
      "authorship_tag": "ABX9TyMLN+tyvv6PfUeKSbE2QNEn",
      "include_colab_link": true
    },
    "kernelspec": {
      "name": "python3",
      "display_name": "Python 3"
    },
    "language_info": {
      "name": "python"
    },
    "accelerator": "GPU",
    "gpuClass": "premium"
  },
  "cells": [
    {
      "cell_type": "markdown",
      "metadata": {
        "id": "view-in-github",
        "colab_type": "text"
      },
      "source": [
        "<a href=\"https://colab.research.google.com/github/nihalsuri/thermal-anomaly-detection/blob/main/notebooks/tad_resnet18_es_hf.ipynb\" target=\"_parent\"><img src=\"https://colab.research.google.com/assets/colab-badge.svg\" alt=\"Open In Colab\"/></a>"
      ]
    },
    {
      "cell_type": "markdown",
      "source": [
        "# Uploading all necessary data when connected to host"
      ],
      "metadata": {
        "id": "YolK3BeMjSjo"
      }
    },
    {
      "cell_type": "code",
      "source": [
        "! gdown --id 1x4Os51uaMXDILTGo2Y_lOC9HU1jTnzi0\n",
        "! gdown --id 1uxDV-sgzDUATHc5p8gW_gBKBsEVrz34x"
      ],
      "metadata": {
        "colab": {
          "base_uri": "https://localhost:8080/"
        },
        "id": "1D2v3VUii2-F",
        "outputId": "03c3a139-f7cf-46aa-b075-9f73a27d3060"
      },
      "execution_count": 1,
      "outputs": [
        {
          "output_type": "stream",
          "name": "stderr",
          "text": [
            "'gdown' is not recognized as an internal or external command,\n",
            "operable program or batch file.\n",
            "'gdown' is not recognized as an internal or external command,\n",
            "operable program or batch file.\n"
          ]
        }
      ]
    },
    {
      "cell_type": "code",
      "source": [
        "!unzip clutch_2.zip"
      ],
      "metadata": {
        "colab": {
          "base_uri": "https://localhost:8080/"
        },
        "id": "AeVBUYu0t6FZ",
        "outputId": "182ba605-2bfb-4cff-90b0-e7fdaa6601cb"
      },
      "execution_count": 2,
      "outputs": [
        {
          "output_type": "stream",
          "name": "stderr",
          "text": [
            "'unzip' is not recognized as an internal or external command,\n",
            "operable program or batch file.\n"
          ]
        }
      ]
    },
    {
      "cell_type": "markdown",
      "source": [
        "# Uploading data when connected to local runtime "
      ],
      "metadata": {
        "id": "lE_BvUn8A5pv"
      }
    },
    {
      "cell_type": "code",
      "source": [
        "annotations_path = 'C:/Users/Nihal/Desktop/thesis/dataset.csv'\n",
        "# annotations_path = 'C:/Users/Nihal/Desktop/new_dataset.csv'\n",
        "dataset_path = 'C:/Users/Nihal/Desktop/thesis/clutch_2'"
      ],
      "metadata": {
        "id": "4gTIRAeDBEkM"
      },
      "execution_count": 3,
      "outputs": []
    },
    {
      "cell_type": "markdown",
      "source": [
        "# Data preperation for training\n",
        "\n",
        "In this section the following is done: \n",
        "\n",
        "\n",
        "\n",
        "*   Data is processed and arranged into respective **dataframes** \n",
        "*   **Custom dataset** class is created \n",
        "*   **Transforms** are done on the various datasets\n",
        "*   **Dataloaders** are created for the purposes of iteration\n",
        "\n",
        "\n",
        "\n"
      ],
      "metadata": {
        "id": "hFywJRphfiB9"
      }
    },
    {
      "cell_type": "markdown",
      "source": [
        "## Import libraries"
      ],
      "metadata": {
        "id": "lE0JA181hvII"
      }
    },
    {
      "cell_type": "code",
      "source": [
        "from torch.utils.data import Dataset, DataLoader\n",
        "from torchvision.utils import make_grid\n",
        "from PIL import Image\n",
        "from torchvision import transforms , models\n",
        "from sklearn import metrics\n",
        "from tabulate import tabulate\n",
        "import os\n",
        "import matplotlib.pyplot as plt\n",
        "import pandas as pd\n",
        "import cv2\n",
        "import torch\n",
        "import numpy as np\n",
        "import torch.nn as nn\n",
        "import torch.nn.functional as F \n",
        "import torch.optim as optim\n",
        "import io\n",
        "import copy\n",
        "import tqdm \n",
        "import time \n",
        "import timm"
      ],
      "metadata": {
        "id": "tsQ5hkUYhd24"
      },
      "execution_count": 4,
      "outputs": []
    },
    {
      "cell_type": "code",
      "source": [
        "device = torch.device('cuda' if torch.cuda.is_available() else 'cpu')\n",
        "device_name = torch.cuda.get_device_name()\n",
        "print(device_name)\n",
        "print(device)"
      ],
      "metadata": {
        "colab": {
          "base_uri": "https://localhost:8080/"
        },
        "id": "kTV4shoA5Rk1",
        "outputId": "424e009f-0a4f-4ab2-c825-ae6150b94432"
      },
      "execution_count": 5,
      "outputs": [
        {
          "output_type": "stream",
          "name": "stdout",
          "text": [
            "NVIDIA GeForce GTX 1660 Ti with Max-Q Design\n",
            "cuda\n"
          ]
        }
      ]
    },
    {
      "cell_type": "code",
      "source": [
        "torch.cuda.empty_cache()"
      ],
      "metadata": {
        "id": "yVwnGk0wdBeM"
      },
      "execution_count": 6,
      "outputs": []
    },
    {
      "cell_type": "code",
      "source": [
        "torch.cuda.memory_summary(device=None, abbreviated=False)"
      ],
      "metadata": {
        "colab": {
          "base_uri": "https://localhost:8080/"
        },
        "id": "hRXYkJwCdHZ6",
        "outputId": "bda81a66-d3f8-411b-d1f3-dc56adb68677"
      },
      "execution_count": 7,
      "outputs": [
        {
          "output_type": "execute_result",
          "data": {
            "text/plain": [
              "'|===========================================================================|\\n|                  PyTorch CUDA memory summary, device ID 0                 |\\n|---------------------------------------------------------------------------|\\n|            CUDA OOMs: 0            |        cudaMalloc retries: 0         |\\n|===========================================================================|\\n|        Metric         | Cur Usage  | Peak Usage | Tot Alloc  | Tot Freed  |\\n|---------------------------------------------------------------------------|\\n| Allocated memory      |       0 B  |       0 B  |       0 B  |       0 B  |\\n|       from large pool |       0 B  |       0 B  |       0 B  |       0 B  |\\n|       from small pool |       0 B  |       0 B  |       0 B  |       0 B  |\\n|---------------------------------------------------------------------------|\\n| Active memory         |       0 B  |       0 B  |       0 B  |       0 B  |\\n|       from large pool |       0 B  |       0 B  |       0 B  |       0 B  |\\n|       from small pool |       0 B  |       0 B  |       0 B  |       0 B  |\\n|---------------------------------------------------------------------------|\\n| GPU reserved memory   |       0 B  |       0 B  |       0 B  |       0 B  |\\n|       from large pool |       0 B  |       0 B  |       0 B  |       0 B  |\\n|       from small pool |       0 B  |       0 B  |       0 B  |       0 B  |\\n|---------------------------------------------------------------------------|\\n| Non-releasable memory |       0 B  |       0 B  |       0 B  |       0 B  |\\n|       from large pool |       0 B  |       0 B  |       0 B  |       0 B  |\\n|       from small pool |       0 B  |       0 B  |       0 B  |       0 B  |\\n|---------------------------------------------------------------------------|\\n| Allocations           |       0    |       0    |       0    |       0    |\\n|       from large pool |       0    |       0    |       0    |       0    |\\n|       from small pool |       0    |       0    |       0    |       0    |\\n|---------------------------------------------------------------------------|\\n| Active allocs         |       0    |       0    |       0    |       0    |\\n|       from large pool |       0    |       0    |       0    |       0    |\\n|       from small pool |       0    |       0    |       0    |       0    |\\n|---------------------------------------------------------------------------|\\n| GPU reserved segments |       0    |       0    |       0    |       0    |\\n|       from large pool |       0    |       0    |       0    |       0    |\\n|       from small pool |       0    |       0    |       0    |       0    |\\n|---------------------------------------------------------------------------|\\n| Non-releasable allocs |       0    |       0    |       0    |       0    |\\n|       from large pool |       0    |       0    |       0    |       0    |\\n|       from small pool |       0    |       0    |       0    |       0    |\\n|---------------------------------------------------------------------------|\\n| Oversize allocations  |       0    |       0    |       0    |       0    |\\n|---------------------------------------------------------------------------|\\n| Oversize GPU segments |       0    |       0    |       0    |       0    |\\n|===========================================================================|\\n'"
            ]
          },
          "metadata": {},
          "execution_count": 7
        }
      ]
    },
    {
      "cell_type": "markdown",
      "source": [
        "## Split data into dataframes"
      ],
      "metadata": {
        "id": "4oVBIRobnsuq"
      }
    },
    {
      "cell_type": "code",
      "source": [
        "df = pd.read_csv(annotations_path)\n",
        "train_df = df[df['dataset'].str.contains('train')]\n",
        "test_df = df[df['dataset'].str.contains('test')]\n",
        "val_df = df[df['dataset'].str.contains('val')]\n",
        "print(train_df.shape[0])\n",
        "print(test_df.shape[0])\n",
        "print(val_df.shape[0])"
      ],
      "metadata": {
        "id": "pJ2WoESTn2lk",
        "colab": {
          "base_uri": "https://localhost:8080/"
        },
        "outputId": "fef191f3-013d-44e2-960c-3cb6de151b52"
      },
      "execution_count": 8,
      "outputs": [
        {
          "output_type": "stream",
          "name": "stdout",
          "text": [
            "2703\n",
            "651\n",
            "648\n"
          ]
        }
      ]
    },
    {
      "cell_type": "code",
      "source": [
        "# img_paths = df[\"img_path\"]"
      ],
      "metadata": {
        "id": "uQRL_YOHyot5"
      },
      "execution_count": 9,
      "outputs": []
    },
    {
      "cell_type": "code",
      "source": [
        "# for i in range(img_paths.shape[0]):\n",
        "#   size  = len(img_paths.at[i])\n",
        "#   new_path = img_paths.at[i][:size - 24]\n",
        "#   img_paths.at[i] = new_path\n"
      ],
      "metadata": {
        "id": "vy09r8ySRzfH"
      },
      "execution_count": 10,
      "outputs": []
    },
    {
      "cell_type": "code",
      "source": [],
      "metadata": {
        "id": "4dpdtAXETsDT"
      },
      "execution_count": 10,
      "outputs": []
    },
    {
      "cell_type": "code",
      "source": [
        "# img_paths.head()"
      ],
      "metadata": {
        "id": "nZH5hOdqWGEg"
      },
      "execution_count": 11,
      "outputs": []
    },
    {
      "cell_type": "code",
      "source": [
        "# unique_lables = img_paths.unique().tolist()\n"
      ],
      "metadata": {
        "id": "6IaXegqsXT8Z"
      },
      "execution_count": 12,
      "outputs": []
    },
    {
      "cell_type": "code",
      "source": [
        "# df_freq = img_paths.value_counts()\n",
        "# df_freq"
      ],
      "metadata": {
        "id": "Ld_AQAoLYtZa"
      },
      "execution_count": 13,
      "outputs": []
    },
    {
      "cell_type": "code",
      "source": [],
      "metadata": {
        "id": "yH1ge5WmamlL"
      },
      "execution_count": 13,
      "outputs": []
    },
    {
      "cell_type": "markdown",
      "source": [
        "## Custom Class \n",
        "Returns **image** and **label** for futher training"
      ],
      "metadata": {
        "id": "vffiVNGuosWf"
      }
    },
    {
      "cell_type": "code",
      "source": [
        "class ClutchDataset(Dataset):\n",
        "\n",
        "    def __init__(self, dataframe, root_dir, is_train, transform=None):\n",
        "        self.dataframe = dataframe\n",
        "        self.root_dir = root_dir\n",
        "        self.transform = transform\n",
        "        self.is_train = is_train\n",
        "\n",
        "    def __len__(self):\n",
        "        return len(self.dataframe)\n",
        "\n",
        "    def __getitem__(self, idx):\n",
        "        if torch.is_tensor(idx):\n",
        "            idx = idx.tolist()\n",
        "\n",
        "        img_name = os.path.join(self.root_dir, self.dataframe.iloc[idx, 1])\n",
        "        image1 = cv2.imread(img_name)\n",
        "        image_norm = cv2.normalize(\n",
        "            image1, None, alpha=0, beta=255, norm_type=cv2.NORM_MINMAX)\n",
        "        image = Image.fromarray(image_norm)\n",
        "        label = torch.tensor(int(self.dataframe.iloc[idx, 2]))\n",
        "         \n",
        "\n",
        "\n",
        "        if self.transform:\n",
        "            image = self.transform(image)\n",
        "        \n",
        "        #image = transforms.functional.crop(image, 140, 360 , 240, 240) # take only right part of the system\n",
        "        #image = transforms.functional.crop(image, 220, 460 , 160, 160) # take only right tip of the system 1 \n",
        "        #image = transforms.functional.crop(image, 190, 510 , 140, 110) # more right 2\n",
        "        #image = transforms.functional.crop(image, 190, 470 , 140, 140) # more right 3\n",
        "        #image = transforms.functional.crop(image, 190, 440 , 140, 180) # more right 4\n",
        "        #image = transforms.functional.crop(image, 190, 470 , 130, 150) # more right 5\n",
        "        \n",
        "        #image = transforms.functional.crop(image, 190, 285 , 140, 320) # mm\n",
        "        image = transforms.functional.crop(image, 190, 380 , 140, 230)\n",
        "        #image = transforms.functional.crop(image, 190, 430 , 140, 180) #6\n",
        "\n",
        "        return image, label"
      ],
      "metadata": {
        "id": "F7jjXjoyo5e7"
      },
      "execution_count": 14,
      "outputs": []
    },
    {
      "cell_type": "markdown",
      "source": [
        "## Transforms on the datasets"
      ],
      "metadata": {
        "id": "i0o2Jo1HqbPU"
      }
    },
    {
      "cell_type": "code",
      "source": [
        "# Add transforms for train, test, val dataset\n",
        "input_size_h = 512\n",
        "input_size_w = 640\n",
        "transform_train = transforms.Compose([\n",
        "   #transforms.Resize((input_size_h, input_size_w)),\n",
        "    #transforms.Grayscale(num_output_channels=1),\n",
        "    transforms.ToTensor(),\n",
        "    #transforms.RandomPerspective(),\n",
        "    #transforms.RandomRotation((1, 8))\n",
        "\n",
        "])\n",
        "\n",
        "transform_valid = transforms.Compose([\n",
        "    #transforms.Resize((input_size_h, input_size_w)),\n",
        "    #transforms.Grayscale(num_output_channels=1),\n",
        "    transforms.ToTensor()\n",
        "])\n",
        "\n",
        "transform_test = transforms.Compose([\n",
        "    #transforms.Resize((input_size_h, input_size_w)),\n",
        "    #transforms.Grayscale(num_output_channels=1),\n",
        "    transforms.ToTensor()\n",
        "])"
      ],
      "metadata": {
        "id": "mDyess9QqoJ0"
      },
      "execution_count": 15,
      "outputs": []
    },
    {
      "cell_type": "markdown",
      "source": [
        "## Dataloaders and Iterator"
      ],
      "metadata": {
        "id": "bM7WKk3UucNo"
      }
    },
    {
      "cell_type": "code",
      "source": [
        "def show_batch(dl):\n",
        "    \"\"\"Plot images grid of single batch\"\"\"\n",
        "    for images, labels in dl:\n",
        "        fig,ax = plt.subplots(figsize = (16,12))\n",
        "        ax.set_xticks([])\n",
        "        ax.set_yticks([])\n",
        "        ax.imshow(make_grid(images,nrow=16).permute(1,2,0))\n",
        "        break\n",
        "\n",
        "\n",
        "\n",
        "# dataloaders\n",
        "train_dataset = ClutchDataset(\n",
        "    train_df, root_dir=dataset_path, is_train=True, transform=transform_train)\n",
        "val_dataset = ClutchDataset(val_df, root_dir=dataset_path,\n",
        "                            is_train=False, transform=transform_valid)\n",
        "test_dataset = ClutchDataset(\n",
        "    test_df, root_dir=dataset_path, is_train=False, transform=transform_test)\n",
        "\n",
        "train_loader = DataLoader(train_dataset, batch_size=8, shuffle=True)\n",
        "val_loader = DataLoader(val_dataset, batch_size=8, shuffle=False)\n",
        "test_loader = DataLoader(test_dataset, batch_size=8, shuffle=False)\n",
        "\n",
        "dataloaders_dict = {}\n",
        "dataloaders_dict['train'] = train_loader\n",
        "dataloaders_dict['val'] = val_loader\n",
        "dataloaders_dict['test'] = test_loader\n",
        "\n",
        "\n",
        "# iteratre through dataloaders\n",
        "train_features, train_labels = next(iter(train_loader))\n",
        "print(f\"Feature batch shape: {train_features.shape}\")\n",
        "print(f\"Labels batch shape: {train_labels.shape}\")\n",
        "img = train_features[0].squeeze()\n",
        "label = train_labels[0]\n",
        "\n",
        "# convert image to APPEAR RGB\n",
        "# rgb_train_features = np.repeat(train_features[..., np.newaxis], 3, -1)\n",
        "# print(f\"Feature batch shape: {rgb_train_features.shape}\")\n",
        "# train_features = rgb_train_features\n",
        "\n",
        "# plt.imshow(img, cmap=\"gray\")\n",
        "# plt.axis('off')\n",
        "# plt.show()\n",
        "# print(f\"Label: {label}\")\n",
        "show_batch(train_loader)\n",
        "\n",
        "\n",
        "\n",
        "\n"
      ],
      "metadata": {
        "colab": {
          "base_uri": "https://localhost:8080/",
          "height": 172
        },
        "id": "R7-YZ7bcuoeq",
        "outputId": "e7842895-b2bb-45b3-f105-6910af341fc5"
      },
      "execution_count": 16,
      "outputs": [
        {
          "output_type": "stream",
          "name": "stdout",
          "text": [
            "Feature batch shape: torch.Size([8, 3, 140, 230])\n",
            "Labels batch shape: torch.Size([8])\n"
          ]
        },
        {
          "output_type": "display_data",
          "data": {
            "text/plain": [
              "<Figure size 1600x1200 with 1 Axes>"
            ],
            "image/png": "[encoded data removed]"
          },
          "metadata": {}
        }
      ]
    },
    {
      "cell_type": "markdown",
      "source": [
        "# Neural Networks\n",
        "Various different NNs tested with the same dataset"
      ],
      "metadata": {
        "id": "zvklWFrJf2a2"
      }
    },
    {
      "cell_type": "markdown",
      "source": [
        "### Metrics"
      ],
      "metadata": {
        "id": "T581bryST9mL"
      }
    },
    {
      "cell_type": "code",
      "source": [
        "def get_metrics(y_true, y_pred, class_mapping):\n",
        "\n",
        "    total_predictions = [0, 0, 0]\n",
        "    total_true = [0, 0, 0]\n",
        "\n",
        "    cm = metrics.confusion_matrix(y_true, y_pred, labels=class_mapping)\n",
        "\n",
        "    for i in range(3):\n",
        "        for j in range(3):\n",
        "            total_predictions[i] += cm[j][i]\n",
        "            total_true[i] += cm[i][j]\n",
        "\n",
        "    # recall and precision for each class\n",
        "    r_h = cm[0][0] / total_predictions[0]\n",
        "    r_m = cm[1][1] / total_predictions[1]\n",
        "    r_r = cm[2][2] / total_predictions[2]\n",
        "    p_h = cm[0][0] / total_true[0]\n",
        "    p_m = cm[1][1] / total_true[1]\n",
        "    p_r = cm[2][2] / total_true[2]\n",
        "\n",
        "    # data for confusion matrix\n",
        "    data = [[\"\", class_mapping[0], class_mapping[1], class_mapping[2], \"Total actual\"],\n",
        "            [class_mapping[0], cm[0][0], cm[0][1], cm[0][2], total_true[0]],\n",
        "            [class_mapping[1], cm[1][0], cm[1][1], cm[1][2], total_true[1]],\n",
        "            [class_mapping[2], cm[2][0], cm[2][1], cm[2][2], total_true[2]],\n",
        "            [\"Total predicted:\", total_predictions[0], total_predictions[1], total_predictions[2], sum(total_true)]]\n",
        "\n",
        "    # data for f1 score for each class\n",
        "    data_f1 = [[\"Class\", \"F1-score\"],\n",
        "               [\"Healthy\", round((2 * p_h * r_h) / (p_h + r_h), 2)],\n",
        "               [\"Misalignment\", round((2 * p_m * r_m) / (p_m + r_m), 2)],\n",
        "               [\"Rotor damage\", round((2 * p_r * r_r) / (p_r + r_r), 2)]]\n",
        "\n",
        "    # printing confusion matrix, f1 score table, recall and precision\n",
        "    print(tabulate(data, tablefmt=\"simple_grid\"))\n",
        "    print()\n",
        "    print(tabulate(data_f1, tablefmt=\"simple_grid\"))\n",
        "    print(f\"\\nRecall for healthy class: {round(r_h, 2)}\")\n",
        "    print(f\"Recall for misalignment class: {round(r_m, 2)}\")\n",
        "    print(f\"Recall for rotor damage class: {round(r_r, 2)}\")\n",
        "    print(f\"\\nPrecision for healthy class: {round(p_h, 2)}\")\n",
        "    print(f\"Precision for misalignment class: {round(p_m, 2)}\")\n",
        "    print(f\"Precision for rotor damage class: {round(p_r, 2)}\")"
      ],
      "metadata": {
        "id": "risiuh1hUWEj"
      },
      "execution_count": 17,
      "outputs": []
    },
    {
      "cell_type": "markdown",
      "source": [
        "## Resnet18 ( Transfer Learning )\n",
        "\n",
        "With the resnet152 architecture instead of developing the DNN(Dense Neural Network) on our own we take a **transfer learning approach**, so the **classification** block will be modified and the input into the first **convolutional block** will be made to look-like its 3-channel as the pretrained model accepts ony 3-channel images, this is done by taking the same grayscale image and mapping it onto the three axes. "
      ],
      "metadata": {
        "id": "wwkM_1y9zN7u"
      }
    },
    {
      "cell_type": "markdown",
      "source": [
        "### Pretrained Model\n",
        "\n"
      ],
      "metadata": {
        "id": "sFCMgR2-zz1o"
      }
    },
    {
      "cell_type": "code",
      "source": [
        "resnet18 = timm.create_model('resnet18', pretrained=True, num_classes=3)\n",
        "resnet18 = resnet18.cuda() if device else resnet18\n",
        "resnet18"
      ],
      "metadata": {
        "id": "GRGEp8WwzkjP",
        "colab": {
          "base_uri": "https://localhost:8080/"
        },
        "outputId": "6ce052c3-9c64-42af-faef-9a0ae7595694"
      },
      "execution_count": 18,
      "outputs": [
        {
          "output_type": "execute_result",
          "data": {
            "text/plain": [
              "ResNet(\n",
              "  (conv1): Conv2d(3, 64, kernel_size=(7, 7), stride=(2, 2), padding=(3, 3), bias=False)\n",
              "  (bn1): BatchNorm2d(64, eps=1e-05, momentum=0.1, affine=True, track_running_stats=True)\n",
              "  (act1): ReLU(inplace=True)\n",
              "  (maxpool): MaxPool2d(kernel_size=3, stride=2, padding=1, dilation=1, ceil_mode=False)\n",
              "  (layer1): Sequential(\n",
              "    (0): BasicBlock(\n",
              "      (conv1): Conv2d(64, 64, kernel_size=(3, 3), stride=(1, 1), padding=(1, 1), bias=False)\n",
              "      (bn1): BatchNorm2d(64, eps=1e-05, momentum=0.1, affine=True, track_running_stats=True)\n",
              "      (drop_block): Identity()\n",
              "      (act1): ReLU(inplace=True)\n",
              "      (aa): Identity()\n",
              "      (conv2): Conv2d(64, 64, kernel_size=(3, 3), stride=(1, 1), padding=(1, 1), bias=False)\n",
              "      (bn2): BatchNorm2d(64, eps=1e-05, momentum=0.1, affine=True, track_running_stats=True)\n",
              "      (act2): ReLU(inplace=True)\n",
              "    )\n",
              "    (1): BasicBlock(\n",
              "      (conv1): Conv2d(64, 64, kernel_size=(3, 3), stride=(1, 1), padding=(1, 1), bias=False)\n",
              "      (bn1): BatchNorm2d(64, eps=1e-05, momentum=0.1, affine=True, track_running_stats=True)\n",
              "      (drop_block): Identity()\n",
              "      (act1): ReLU(inplace=True)\n",
              "      (aa): Identity()\n",
              "      (conv2): Conv2d(64, 64, kernel_size=(3, 3), stride=(1, 1), padding=(1, 1), bias=False)\n",
              "      (bn2): BatchNorm2d(64, eps=1e-05, momentum=0.1, affine=True, track_running_stats=True)\n",
              "      (act2): ReLU(inplace=True)\n",
              "    )\n",
              "  )\n",
              "  (layer2): Sequential(\n",
              "    (0): BasicBlock(\n",
              "      (conv1): Conv2d(64, 128, kernel_size=(3, 3), stride=(2, 2), padding=(1, 1), bias=False)\n",
              "      (bn1): BatchNorm2d(128, eps=1e-05, momentum=0.1, affine=True, track_running_stats=True)\n",
              "      (drop_block): Identity()\n",
              "      (act1): ReLU(inplace=True)\n",
              "      (aa): Identity()\n",
              "      (conv2): Conv2d(128, 128, kernel_size=(3, 3), stride=(1, 1), padding=(1, 1), bias=False)\n",
              "      (bn2): BatchNorm2d(128, eps=1e-05, momentum=0.1, affine=True, track_running_stats=True)\n",
              "      (act2): ReLU(inplace=True)\n",
              "      (downsample): Sequential(\n",
              "        (0): Conv2d(64, 128, kernel_size=(1, 1), stride=(2, 2), bias=False)\n",
              "        (1): BatchNorm2d(128, eps=1e-05, momentum=0.1, affine=True, track_running_stats=True)\n",
              "      )\n",
              "    )\n",
              "    (1): BasicBlock(\n",
              "      (conv1): Conv2d(128, 128, kernel_size=(3, 3), stride=(1, 1), padding=(1, 1), bias=False)\n",
              "      (bn1): BatchNorm2d(128, eps=1e-05, momentum=0.1, affine=True, track_running_stats=True)\n",
              "      (drop_block): Identity()\n",
              "      (act1): ReLU(inplace=True)\n",
              "      (aa): Identity()\n",
              "      (conv2): Conv2d(128, 128, kernel_size=(3, 3), stride=(1, 1), padding=(1, 1), bias=False)\n",
              "      (bn2): BatchNorm2d(128, eps=1e-05, momentum=0.1, affine=True, track_running_stats=True)\n",
              "      (act2): ReLU(inplace=True)\n",
              "    )\n",
              "  )\n",
              "  (layer3): Sequential(\n",
              "    (0): BasicBlock(\n",
              "      (conv1): Conv2d(128, 256, kernel_size=(3, 3), stride=(2, 2), padding=(1, 1), bias=False)\n",
              "      (bn1): BatchNorm2d(256, eps=1e-05, momentum=0.1, affine=True, track_running_stats=True)\n",
              "      (drop_block): Identity()\n",
              "      (act1): ReLU(inplace=True)\n",
              "      (aa): Identity()\n",
              "      (conv2): Conv2d(256, 256, kernel_size=(3, 3), stride=(1, 1), padding=(1, 1), bias=False)\n",
              "      (bn2): BatchNorm2d(256, eps=1e-05, momentum=0.1, affine=True, track_running_stats=True)\n",
              "      (act2): ReLU(inplace=True)\n",
              "      (downsample): Sequential(\n",
              "        (0): Conv2d(128, 256, kernel_size=(1, 1), stride=(2, 2), bias=False)\n",
              "        (1): BatchNorm2d(256, eps=1e-05, momentum=0.1, affine=True, track_running_stats=True)\n",
              "      )\n",
              "    )\n",
              "    (1): BasicBlock(\n",
              "      (conv1): Conv2d(256, 256, kernel_size=(3, 3), stride=(1, 1), padding=(1, 1), bias=False)\n",
              "      (bn1): BatchNorm2d(256, eps=1e-05, momentum=0.1, affine=True, track_running_stats=True)\n",
              "      (drop_block): Identity()\n",
              "      (act1): ReLU(inplace=True)\n",
              "      (aa): Identity()\n",
              "      (conv2): Conv2d(256, 256, kernel_size=(3, 3), stride=(1, 1), padding=(1, 1), bias=False)\n",
              "      (bn2): BatchNorm2d(256, eps=1e-05, momentum=0.1, affine=True, track_running_stats=True)\n",
              "      (act2): ReLU(inplace=True)\n",
              "    )\n",
              "  )\n",
              "  (layer4): Sequential(\n",
              "    (0): BasicBlock(\n",
              "      (conv1): Conv2d(256, 512, kernel_size=(3, 3), stride=(2, 2), padding=(1, 1), bias=False)\n",
              "      (bn1): BatchNorm2d(512, eps=1e-05, momentum=0.1, affine=True, track_running_stats=True)\n",
              "      (drop_block): Identity()\n",
              "      (act1): ReLU(inplace=True)\n",
              "      (aa): Identity()\n",
              "      (conv2): Conv2d(512, 512, kernel_size=(3, 3), stride=(1, 1), padding=(1, 1), bias=False)\n",
              "      (bn2): BatchNorm2d(512, eps=1e-05, momentum=0.1, affine=True, track_running_stats=True)\n",
              "      (act2): ReLU(inplace=True)\n",
              "      (downsample): Sequential(\n",
              "        (0): Conv2d(256, 512, kernel_size=(1, 1), stride=(2, 2), bias=False)\n",
              "        (1): BatchNorm2d(512, eps=1e-05, momentum=0.1, affine=True, track_running_stats=True)\n",
              "      )\n",
              "    )\n",
              "    (1): BasicBlock(\n",
              "      (conv1): Conv2d(512, 512, kernel_size=(3, 3), stride=(1, 1), padding=(1, 1), bias=False)\n",
              "      (bn1): BatchNorm2d(512, eps=1e-05, momentum=0.1, affine=True, track_running_stats=True)\n",
              "      (drop_block): Identity()\n",
              "      (act1): ReLU(inplace=True)\n",
              "      (aa): Identity()\n",
              "      (conv2): Conv2d(512, 512, kernel_size=(3, 3), stride=(1, 1), padding=(1, 1), bias=False)\n",
              "      (bn2): BatchNorm2d(512, eps=1e-05, momentum=0.1, affine=True, track_running_stats=True)\n",
              "      (act2): ReLU(inplace=True)\n",
              "    )\n",
              "  )\n",
              "  (global_pool): SelectAdaptivePool2d (pool_type=avg, flatten=Flatten(start_dim=1, end_dim=-1))\n",
              "  (fc): Linear(in_features=512, out_features=3, bias=True)\n",
              ")"
            ]
          },
          "metadata": {},
          "execution_count": 18
        }
      ]
    },
    {
      "cell_type": "markdown",
      "source": [
        "### Changes to pretrained model to fit dataset"
      ],
      "metadata": {
        "id": "jk5yuA1Z0qnJ"
      }
    },
    {
      "cell_type": "code",
      "source": [
        "# mobileNet.classifier[3] = nn.Linear(in_features = 1024,out_features=  3, bias= True)\n",
        "# mobileNet.classifier[3] = mobileNet.classifier[3].cuda()\n",
        "# mobileNet"
      ],
      "metadata": {
        "id": "d6XS7lYPI0IH"
      },
      "execution_count": 19,
      "outputs": []
    },
    {
      "cell_type": "markdown",
      "source": [
        "### Hyperparameters"
      ],
      "metadata": {
        "id": "6bLHGzepFzhf"
      }
    },
    {
      "cell_type": "code",
      "source": [
        "path_res = \"C:/Users/Nihal/Desktop/thermal-anomaly-detection/models/resnet18-timm-1.pt\"\n",
        "LEARNING_RATE = 3e-4\n",
        "\n",
        "loss_val = []\n",
        "train_acc = []\n",
        "class_mapping = ['healthy', 'misalignment', 'rotor damage']"
      ],
      "metadata": {
        "id": "FAT3tgJqFtWc"
      },
      "execution_count": 20,
      "outputs": []
    },
    {
      "cell_type": "markdown",
      "source": [
        "### Early Stopping"
      ],
      "metadata": {
        "id": "cRCCEK2b5F3A"
      }
    },
    {
      "cell_type": "code",
      "source": [
        "class EarlyStopper:\n",
        "    def __init__(self, patience=1, min_delta=0):\n",
        "        self.patience = patience\n",
        "        self.min_delta = min_delta\n",
        "        self.counter = 0\n",
        "        self.min_validation_loss = np.inf\n",
        "\n",
        "    def early_stop(self, validation_loss):\n",
        "        if validation_loss < self.min_validation_loss:\n",
        "            self.min_validation_loss = validation_loss\n",
        "            self.counter = 0\n",
        "        elif validation_loss > (self.min_validation_loss + self.min_delta):\n",
        "            self.counter += 1\n",
        "            if self.counter >= self.patience:\n",
        "                return True\n",
        "        return False"
      ],
      "metadata": {
        "id": "9Mo3N9CM5G6O"
      },
      "execution_count": 21,
      "outputs": []
    },
    {
      "cell_type": "markdown",
      "source": [
        "### Training per epoch\n"
      ],
      "metadata": {
        "id": "jwiKQU0S6DF-"
      }
    },
    {
      "cell_type": "code",
      "source": [
        "criterion = nn.CrossEntropyLoss()\n",
        "optimizer = torch.optim.SGD(resnet18.parameters(), lr=LEARNING_RATE, momentum=0.9)\n",
        "n_epochs = 120\n",
        "print_every = 10\n",
        "valid_loss_min = np.Inf\n",
        "val_loss = []\n",
        "val_acc = []\n",
        "train_loss = []\n",
        "train_acc = []\n",
        "total_step = len(train_loader)\n",
        "early_stopper = EarlyStopper(patience=8, min_delta=0.1)\n",
        "for epoch in range(1, n_epochs+1):\n",
        "    running_loss = 0.0\n",
        "    correct = 0\n",
        "    total=0\n",
        "    print(f'Epoch {epoch}\\n')\n",
        "    for batch_idx, (data_, target_) in enumerate(train_loader):\n",
        "        data_, target_ = data_.to(device), target_.to(device)\n",
        "        optimizer.zero_grad()\n",
        "        \n",
        "        outputs = resnet18(data_)\n",
        "        loss = criterion(outputs, target_)\n",
        "        loss.backward()\n",
        "        optimizer.step()\n",
        "\n",
        "        running_loss += loss.item()\n",
        "        _,pred = torch.max(outputs, dim=1)\n",
        "        correct += torch.sum(pred==target_).item()\n",
        "        total += target_.size(0)\n",
        "        if (batch_idx) % 30 == 0:\n",
        "            print ('Epoch [{}/{}], Step [{}/{}], Loss: {:.4f}' \n",
        "                   .format(epoch, n_epochs, batch_idx, total_step, loss.item()))\n",
        "    train_acc.append(100 * correct / total)\n",
        "    train_loss.append(running_loss/total_step)\n",
        "    print(f'\\ntrain-loss: {np.mean(train_loss):.4f}, train-acc: {(100 * correct/total):.4f}')\n",
        "    batch_loss = 0\n",
        "    total_t=0\n",
        "    correct_t=0\n",
        "    with torch.no_grad():\n",
        "        resnet18.eval()\n",
        "        for data_t, target_t in (test_loader):\n",
        "            data_t, target_t = data_t.to(device), target_t.to(device)\n",
        "            outputs_t = resnet18(data_t)\n",
        "            loss_t = criterion(outputs_t, target_t)\n",
        "            batch_loss += loss_t.item()\n",
        "            _,pred_t = torch.max(outputs_t, dim=1)\n",
        "            correct_t += torch.sum(pred_t==target_t).item()\n",
        "            total_t += target_t.size(0)\n",
        "        val_acc.append(100 * correct_t/total_t)\n",
        "        val_loss.append(batch_loss/len(test_loader))\n",
        "        network_learned = batch_loss < valid_loss_min\n",
        "        print(f'validation loss: {np.mean(val_loss):.4f}, validation acc: {(100 * correct_t/total_t):.4f}\\n')\n",
        "\n",
        "        \n",
        "        if network_learned:\n",
        "            valid_loss_min = batch_loss\n",
        "            torch.save(resnet18.state_dict(), path_res)\n",
        "            print('Improvement-Detected, save-model')\n",
        "\n",
        "        if early_stopper.early_stop(batch_loss/len(test_loader)):\n",
        "            print(\"Patience Extended! Training stopped...\")\n",
        "            break\n",
        "\n",
        "        \n",
        "\n",
        "    resnet18.train()\n",
        "\n",
        "\n",
        "\n",
        "\n",
        "\n",
        "\n",
        "\n",
        "\n"
      ],
      "metadata": {
        "id": "n7EzSnjL6Cvk",
        "colab": {
          "base_uri": "https://localhost:8080/"
        },
        "outputId": "c594455a-1f0e-44f5-e23e-a41601cd073e"
      },
      "execution_count": 22,
      "outputs": [
        {
          "output_type": "stream",
          "name": "stdout",
          "text": [
            "Epoch 1\n",
            "\n",
            "Epoch [1/120], Step [0/338], Loss: 1.1706\n",
            "Epoch [1/120], Step [30/338], Loss: 0.1670\n",
            "Epoch [1/120], Step [60/338], Loss: 0.1097\n",
            "Epoch [1/120], Step [90/338], Loss: 0.1164\n",
            "Epoch [1/120], Step [120/338], Loss: 0.0499\n",
            "Epoch [1/120], Step [150/338], Loss: 0.0611\n",
            "Epoch [1/120], Step [180/338], Loss: 0.0498\n",
            "Epoch [1/120], Step [210/338], Loss: 0.0273\n",
            "Epoch [1/120], Step [240/338], Loss: 0.0052\n",
            "Epoch [1/120], Step [270/338], Loss: 0.0111\n",
            "Epoch [1/120], Step [300/338], Loss: 0.0058\n",
            "Epoch [1/120], Step [330/338], Loss: 0.0139\n",
            "\n",
            "train-loss: 0.1311, train-acc: 96.7444\n",
            "validation loss: 0.5960, validation acc: 69.8925\n",
            "\n",
            "Improvement-Detected, save-model\n",
            "Epoch 2\n",
            "\n",
            "Epoch [2/120], Step [0/338], Loss: 0.0076\n",
            "Epoch [2/120], Step [30/338], Loss: 0.0135\n",
            "Epoch [2/120], Step [60/338], Loss: 0.0069\n",
            "Epoch [2/120], Step [90/338], Loss: 0.0027\n",
            "Epoch [2/120], Step [120/338], Loss: 0.0031\n",
            "Epoch [2/120], Step [150/338], Loss: 0.0044\n",
            "Epoch [2/120], Step [180/338], Loss: 0.0090\n",
            "Epoch [2/120], Step [210/338], Loss: 0.0037\n",
            "Epoch [2/120], Step [240/338], Loss: 0.0354\n",
            "Epoch [2/120], Step [270/338], Loss: 0.1066\n",
            "Epoch [2/120], Step [300/338], Loss: 0.0024\n",
            "Epoch [2/120], Step [330/338], Loss: 0.0011\n",
            "\n",
            "train-loss: 0.0753, train-acc: 99.8150\n",
            "validation loss: 0.5196, validation acc: 74.9616\n",
            "\n",
            "Improvement-Detected, save-model\n",
            "Epoch 3\n",
            "\n",
            "Epoch [3/120], Step [0/338], Loss: 0.0008\n",
            "Epoch [3/120], Step [30/338], Loss: 0.0017\n",
            "Epoch [3/120], Step [60/338], Loss: 0.0035\n",
            "Epoch [3/120], Step [90/338], Loss: 0.0036\n",
            "Epoch [3/120], Step [120/338], Loss: 0.0009\n",
            "Epoch [3/120], Step [150/338], Loss: 0.0107\n",
            "Epoch [3/120], Step [180/338], Loss: 0.0005\n",
            "Epoch [3/120], Step [210/338], Loss: 0.0004\n",
            "Epoch [3/120], Step [240/338], Loss: 0.0004\n",
            "Epoch [3/120], Step [270/338], Loss: 0.0024\n",
            "Epoch [3/120], Step [300/338], Loss: 0.0112\n",
            "Epoch [3/120], Step [330/338], Loss: 0.0566\n",
            "\n",
            "train-loss: 0.0556, train-acc: 99.7040\n",
            "validation loss: 0.5438, validation acc: 69.8925\n",
            "\n",
            "Epoch 4\n",
            "\n",
            "Epoch [4/120], Step [0/338], Loss: 0.0025\n",
            "Epoch [4/120], Step [30/338], Loss: 0.0006\n",
            "Epoch [4/120], Step [60/338], Loss: 0.0086\n",
            "Epoch [4/120], Step [90/338], Loss: 0.0152\n",
            "Epoch [4/120], Step [120/338], Loss: 0.0119\n",
            "Epoch [4/120], Step [150/338], Loss: 0.0004\n",
            "Epoch [4/120], Step [180/338], Loss: 0.0025\n",
            "Epoch [4/120], Step [210/338], Loss: 0.0009\n",
            "Epoch [4/120], Step [240/338], Loss: 0.0012\n",
            "Epoch [4/120], Step [270/338], Loss: 0.0076\n",
            "Epoch [4/120], Step [300/338], Loss: 0.0013\n",
            "Epoch [4/120], Step [330/338], Loss: 0.0077\n",
            "\n",
            "train-loss: 0.0442, train-acc: 99.9260\n",
            "validation loss: 0.4924, validation acc: 80.4916\n",
            "\n",
            "Improvement-Detected, save-model\n",
            "Epoch 5\n",
            "\n",
            "Epoch [5/120], Step [0/338], Loss: 0.0009\n",
            "Epoch [5/120], Step [30/338], Loss: 0.0004\n",
            "Epoch [5/120], Step [60/338], Loss: 0.0003\n",
            "Epoch [5/120], Step [90/338], Loss: 0.0004\n",
            "Epoch [5/120], Step [120/338], Loss: 0.0129\n",
            "Epoch [5/120], Step [150/338], Loss: 0.0001\n",
            "Epoch [5/120], Step [180/338], Loss: 0.0001\n",
            "Epoch [5/120], Step [210/338], Loss: 0.0006\n",
            "Epoch [5/120], Step [240/338], Loss: 0.0079\n",
            "Epoch [5/120], Step [270/338], Loss: 0.0009\n",
            "Epoch [5/120], Step [300/338], Loss: 0.0002\n",
            "Epoch [5/120], Step [330/338], Loss: 0.0252\n",
            "\n",
            "train-loss: 0.0373, train-acc: 99.9260\n",
            "validation loss: 0.5088, validation acc: 71.1214\n",
            "\n",
            "Epoch 6\n",
            "\n",
            "Epoch [6/120], Step [0/338], Loss: 0.0003\n",
            "Epoch [6/120], Step [30/338], Loss: 0.0002\n",
            "Epoch [6/120], Step [60/338], Loss: 0.0386\n",
            "Epoch [6/120], Step [90/338], Loss: 0.0002\n",
            "Epoch [6/120], Step [120/338], Loss: 0.0002\n",
            "Epoch [6/120], Step [150/338], Loss: 0.0001\n",
            "Epoch [6/120], Step [180/338], Loss: 0.0012\n",
            "Epoch [6/120], Step [210/338], Loss: 0.0029\n",
            "Epoch [6/120], Step [240/338], Loss: 0.0002\n",
            "Epoch [6/120], Step [270/338], Loss: 0.0047\n",
            "Epoch [6/120], Step [300/338], Loss: 0.0005\n",
            "Epoch [6/120], Step [330/338], Loss: 0.0055\n",
            "\n",
            "train-loss: 0.0317, train-acc: 100.0000\n",
            "validation loss: 0.4762, validation acc: 82.1813\n",
            "\n",
            "Improvement-Detected, save-model\n",
            "Epoch 7\n",
            "\n",
            "Epoch [7/120], Step [0/338], Loss: 0.0011\n",
            "Epoch [7/120], Step [30/338], Loss: 0.0003\n",
            "Epoch [7/120], Step [60/338], Loss: 0.0003\n",
            "Epoch [7/120], Step [90/338], Loss: 0.0125\n",
            "Epoch [7/120], Step [120/338], Loss: 0.0004\n",
            "Epoch [7/120], Step [150/338], Loss: 0.0033\n",
            "Epoch [7/120], Step [180/338], Loss: 0.0001\n",
            "Epoch [7/120], Step [210/338], Loss: 0.0035\n",
            "Epoch [7/120], Step [240/338], Loss: 0.0009\n",
            "Epoch [7/120], Step [270/338], Loss: 0.0009\n",
            "Epoch [7/120], Step [300/338], Loss: 0.0025\n",
            "Epoch [7/120], Step [330/338], Loss: 0.0001\n",
            "\n",
            "train-loss: 0.0279, train-acc: 99.9260\n",
            "validation loss: 0.4771, validation acc: 74.3472\n",
            "\n",
            "Epoch 8\n",
            "\n",
            "Epoch [8/120], Step [0/338], Loss: 0.0249\n",
            "Epoch [8/120], Step [30/338], Loss: 0.0007\n",
            "Epoch [8/120], Step [60/338], Loss: 0.0023\n",
            "Epoch [8/120], Step [90/338], Loss: 0.0043\n",
            "Epoch [8/120], Step [120/338], Loss: 0.0005\n",
            "Epoch [8/120], Step [150/338], Loss: 0.0002\n",
            "Epoch [8/120], Step [180/338], Loss: 0.0008\n",
            "Epoch [8/120], Step [210/338], Loss: 0.0029\n",
            "Epoch [8/120], Step [240/338], Loss: 0.0014\n",
            "Epoch [8/120], Step [270/338], Loss: 0.0001\n",
            "Epoch [8/120], Step [300/338], Loss: 0.0040\n",
            "Epoch [8/120], Step [330/338], Loss: 0.0038\n",
            "\n",
            "train-loss: 0.0248, train-acc: 100.0000\n",
            "validation loss: 0.4420, validation acc: 92.3195\n",
            "\n",
            "Improvement-Detected, save-model\n",
            "Epoch 9\n",
            "\n",
            "Epoch [9/120], Step [0/338], Loss: 0.0003\n",
            "Epoch [9/120], Step [30/338], Loss: 0.0001\n",
            "Epoch [9/120], Step [60/338], Loss: 0.0004\n",
            "Epoch [9/120], Step [90/338], Loss: 0.0001\n",
            "Epoch [9/120], Step [120/338], Loss: 0.0024\n",
            "Epoch [9/120], Step [150/338], Loss: 0.0006\n",
            "Epoch [9/120], Step [180/338], Loss: 0.0001\n",
            "Epoch [9/120], Step [210/338], Loss: 0.0004\n",
            "Epoch [9/120], Step [240/338], Loss: 0.0033\n",
            "Epoch [9/120], Step [270/338], Loss: 0.0024\n",
            "Epoch [9/120], Step [300/338], Loss: 0.0025\n",
            "Epoch [9/120], Step [330/338], Loss: 0.0019\n",
            "\n",
            "train-loss: 0.0223, train-acc: 100.0000\n",
            "validation loss: 0.4148, validation acc: 90.4762\n",
            "\n",
            "Epoch 10\n",
            "\n",
            "Epoch [10/120], Step [0/338], Loss: 0.0012\n",
            "Epoch [10/120], Step [30/338], Loss: 0.0003\n",
            "Epoch [10/120], Step [60/338], Loss: 0.0009\n",
            "Epoch [10/120], Step [90/338], Loss: 0.0001\n",
            "Epoch [10/120], Step [120/338], Loss: 0.0001\n",
            "Epoch [10/120], Step [150/338], Loss: 0.0001\n",
            "Epoch [10/120], Step [180/338], Loss: 0.0010\n",
            "Epoch [10/120], Step [210/338], Loss: 0.0001\n",
            "Epoch [10/120], Step [240/338], Loss: 0.0001\n",
            "Epoch [10/120], Step [270/338], Loss: 0.0003\n",
            "Epoch [10/120], Step [300/338], Loss: 0.0013\n",
            "Epoch [10/120], Step [330/338], Loss: 0.0020\n",
            "\n",
            "train-loss: 0.0203, train-acc: 99.9630\n",
            "validation loss: 0.4023, validation acc: 83.8710\n",
            "\n",
            "Epoch 11\n",
            "\n",
            "Epoch [11/120], Step [0/338], Loss: 0.0030\n",
            "Epoch [11/120], Step [30/338], Loss: 0.0091\n",
            "Epoch [11/120], Step [60/338], Loss: 0.0001\n",
            "Epoch [11/120], Step [90/338], Loss: 0.0266\n",
            "Epoch [11/120], Step [120/338], Loss: 0.0004\n",
            "Epoch [11/120], Step [150/338], Loss: 0.0055\n",
            "Epoch [11/120], Step [180/338], Loss: 0.0065\n",
            "Epoch [11/120], Step [210/338], Loss: 0.0010\n",
            "Epoch [11/120], Step [240/338], Loss: 0.0000\n",
            "Epoch [11/120], Step [270/338], Loss: 0.0937\n",
            "Epoch [11/120], Step [300/338], Loss: 0.0000\n",
            "Epoch [11/120], Step [330/338], Loss: 0.0001\n",
            "\n",
            "train-loss: 0.0192, train-acc: 99.8520\n",
            "validation loss: 0.3891, validation acc: 85.7143\n",
            "\n",
            "Epoch 12\n",
            "\n",
            "Epoch [12/120], Step [0/338], Loss: 0.0002\n",
            "Epoch [12/120], Step [30/338], Loss: 0.0008\n",
            "Epoch [12/120], Step [60/338], Loss: 0.0014\n",
            "Epoch [12/120], Step [90/338], Loss: 0.7242\n",
            "Epoch [12/120], Step [120/338], Loss: 0.0052\n",
            "Epoch [12/120], Step [150/338], Loss: 0.0001\n",
            "Epoch [12/120], Step [180/338], Loss: 0.0012\n",
            "Epoch [12/120], Step [210/338], Loss: 0.0002\n",
            "Epoch [12/120], Step [240/338], Loss: 0.0002\n",
            "Epoch [12/120], Step [270/338], Loss: 0.0001\n",
            "Epoch [12/120], Step [300/338], Loss: 0.0001\n",
            "Epoch [12/120], Step [330/338], Loss: 0.0000\n",
            "\n",
            "train-loss: 0.0179, train-acc: 99.8890\n",
            "validation loss: 0.3729, validation acc: 92.3195\n",
            "\n",
            "Improvement-Detected, save-model\n",
            "Epoch 13\n",
            "\n",
            "Epoch [13/120], Step [0/338], Loss: 0.0005\n",
            "Epoch [13/120], Step [30/338], Loss: 0.0001\n",
            "Epoch [13/120], Step [60/338], Loss: 0.0045\n",
            "Epoch [13/120], Step [90/338], Loss: 0.0001\n",
            "Epoch [13/120], Step [120/338], Loss: 0.0002\n",
            "Epoch [13/120], Step [150/338], Loss: 0.0000\n",
            "Epoch [13/120], Step [180/338], Loss: 0.0002\n",
            "Epoch [13/120], Step [210/338], Loss: 0.0006\n",
            "Epoch [13/120], Step [240/338], Loss: 0.0004\n",
            "Epoch [13/120], Step [270/338], Loss: 0.0001\n",
            "Epoch [13/120], Step [300/338], Loss: 0.0002\n",
            "Epoch [13/120], Step [330/338], Loss: 0.0001\n",
            "\n",
            "train-loss: 0.0169, train-acc: 99.8890\n",
            "validation loss: 0.3810, validation acc: 76.1905\n",
            "\n",
            "Epoch 14\n",
            "\n",
            "Epoch [14/120], Step [0/338], Loss: 0.0026\n",
            "Epoch [14/120], Step [30/338], Loss: 0.0012\n",
            "Epoch [14/120], Step [60/338], Loss: 0.0015\n",
            "Epoch [14/120], Step [90/338], Loss: 0.0002\n",
            "Epoch [14/120], Step [120/338], Loss: 0.0317\n",
            "Epoch [14/120], Step [150/338], Loss: 0.0222\n",
            "Epoch [14/120], Step [180/338], Loss: 0.0000\n",
            "Epoch [14/120], Step [210/338], Loss: 0.0000\n",
            "Epoch [14/120], Step [240/338], Loss: 0.0015\n",
            "Epoch [14/120], Step [270/338], Loss: 0.0003\n",
            "Epoch [14/120], Step [300/338], Loss: 0.0333\n",
            "Epoch [14/120], Step [330/338], Loss: 0.0001\n",
            "\n",
            "train-loss: 0.0160, train-acc: 99.8890\n",
            "validation loss: 0.3731, validation acc: 87.2504\n",
            "\n",
            "Epoch 15\n",
            "\n",
            "Epoch [15/120], Step [0/338], Loss: 0.0074\n",
            "Epoch [15/120], Step [30/338], Loss: 0.0007\n",
            "Epoch [15/120], Step [60/338], Loss: 0.0001\n",
            "Epoch [15/120], Step [90/338], Loss: 0.0001\n",
            "Epoch [15/120], Step [120/338], Loss: 0.0002\n",
            "Epoch [15/120], Step [150/338], Loss: 0.0001\n",
            "Epoch [15/120], Step [180/338], Loss: 0.0001\n",
            "Epoch [15/120], Step [210/338], Loss: 0.0007\n",
            "Epoch [15/120], Step [240/338], Loss: 0.0000\n",
            "Epoch [15/120], Step [270/338], Loss: 0.0020\n",
            "Epoch [15/120], Step [300/338], Loss: 0.0006\n",
            "Epoch [15/120], Step [330/338], Loss: 0.0000\n",
            "\n",
            "train-loss: 0.0151, train-acc: 99.9630\n",
            "validation loss: 0.3787, validation acc: 76.0369\n",
            "\n",
            "Epoch 16\n",
            "\n",
            "Epoch [16/120], Step [0/338], Loss: 0.0036\n",
            "Epoch [16/120], Step [30/338], Loss: 0.0020\n",
            "Epoch [16/120], Step [60/338], Loss: 0.0004\n",
            "Epoch [16/120], Step [90/338], Loss: 0.0021\n",
            "Epoch [16/120], Step [120/338], Loss: 0.0004\n",
            "Epoch [16/120], Step [150/338], Loss: 0.0001\n",
            "Epoch [16/120], Step [180/338], Loss: 0.0005\n",
            "Epoch [16/120], Step [210/338], Loss: 0.0003\n",
            "Epoch [16/120], Step [240/338], Loss: 0.0000\n",
            "Epoch [16/120], Step [270/338], Loss: 0.0002\n",
            "Epoch [16/120], Step [300/338], Loss: 0.0008\n",
            "Epoch [16/120], Step [330/338], Loss: 0.0001\n",
            "\n",
            "train-loss: 0.0143, train-acc: 100.0000\n",
            "validation loss: 0.3942, validation acc: 71.4286\n",
            "\n",
            "Epoch 17\n",
            "\n",
            "Epoch [17/120], Step [0/338], Loss: 0.0035\n",
            "Epoch [17/120], Step [30/338], Loss: 0.0002\n",
            "Epoch [17/120], Step [60/338], Loss: 0.0002\n",
            "Epoch [17/120], Step [90/338], Loss: 0.0002\n",
            "Epoch [17/120], Step [120/338], Loss: 0.0001\n",
            "Epoch [17/120], Step [150/338], Loss: 0.0002\n",
            "Epoch [17/120], Step [180/338], Loss: 0.0004\n",
            "Epoch [17/120], Step [210/338], Loss: 0.0197\n",
            "Epoch [17/120], Step [240/338], Loss: 0.0015\n",
            "Epoch [17/120], Step [270/338], Loss: 0.0015\n",
            "Epoch [17/120], Step [300/338], Loss: 0.0000\n",
            "Epoch [17/120], Step [330/338], Loss: 0.0003\n",
            "\n",
            "train-loss: 0.0137, train-acc: 99.9260\n",
            "validation loss: 0.4017, validation acc: 74.8080\n",
            "\n",
            "Epoch 18\n",
            "\n",
            "Epoch [18/120], Step [0/338], Loss: 0.0006\n",
            "Epoch [18/120], Step [30/338], Loss: 0.0005\n",
            "Epoch [18/120], Step [60/338], Loss: 0.2811\n",
            "Epoch [18/120], Step [90/338], Loss: 0.0000\n",
            "Epoch [18/120], Step [120/338], Loss: 0.0004\n",
            "Epoch [18/120], Step [150/338], Loss: 0.0001\n",
            "Epoch [18/120], Step [180/338], Loss: 0.0000\n",
            "Epoch [18/120], Step [210/338], Loss: 0.0006\n",
            "Epoch [18/120], Step [240/338], Loss: 0.0013\n",
            "Epoch [18/120], Step [270/338], Loss: 0.0001\n",
            "Epoch [18/120], Step [300/338], Loss: 0.0016\n",
            "Epoch [18/120], Step [330/338], Loss: 0.0003\n",
            "\n",
            "train-loss: 0.0135, train-acc: 99.7040\n",
            "validation loss: 0.3860, validation acc: 96.4670\n",
            "\n",
            "Improvement-Detected, save-model\n",
            "Epoch 19\n",
            "\n",
            "Epoch [19/120], Step [0/338], Loss: 0.0003\n",
            "Epoch [19/120], Step [30/338], Loss: 0.0001\n",
            "Epoch [19/120], Step [60/338], Loss: 0.0002\n",
            "Epoch [19/120], Step [90/338], Loss: 0.0004\n",
            "Epoch [19/120], Step [120/338], Loss: 0.0002\n",
            "Epoch [19/120], Step [150/338], Loss: 0.0000\n",
            "Epoch [19/120], Step [180/338], Loss: 0.0001\n",
            "Epoch [19/120], Step [210/338], Loss: 0.0000\n",
            "Epoch [19/120], Step [240/338], Loss: 0.0008\n",
            "Epoch [19/120], Step [270/338], Loss: 0.0031\n",
            "Epoch [19/120], Step [300/338], Loss: 0.0012\n",
            "Epoch [19/120], Step [330/338], Loss: 0.0004\n",
            "\n",
            "train-loss: 0.0133, train-acc: 99.6300\n",
            "validation loss: 0.3789, validation acc: 88.0184\n",
            "\n",
            "Epoch 20\n",
            "\n",
            "Epoch [20/120], Step [0/338], Loss: 0.0009\n",
            "Epoch [20/120], Step [30/338], Loss: 0.0007\n",
            "Epoch [20/120], Step [60/338], Loss: 0.0139\n",
            "Epoch [20/120], Step [90/338], Loss: 0.0001\n",
            "Epoch [20/120], Step [120/338], Loss: 0.0001\n",
            "Epoch [20/120], Step [150/338], Loss: 0.0000\n",
            "Epoch [20/120], Step [180/338], Loss: 0.0000\n",
            "Epoch [20/120], Step [210/338], Loss: 0.0005\n",
            "Epoch [20/120], Step [240/338], Loss: 0.0000\n",
            "Epoch [20/120], Step [270/338], Loss: 0.0000\n",
            "Epoch [20/120], Step [300/338], Loss: 0.0001\n",
            "Epoch [20/120], Step [330/338], Loss: 0.0001\n",
            "\n",
            "train-loss: 0.0127, train-acc: 100.0000\n",
            "validation loss: 0.3691, validation acc: 93.7020\n",
            "\n",
            "Epoch 21\n",
            "\n",
            "Epoch [21/120], Step [0/338], Loss: 0.0000\n",
            "Epoch [21/120], Step [30/338], Loss: 0.0004\n",
            "Epoch [21/120], Step [60/338], Loss: 0.0003\n",
            "Epoch [21/120], Step [90/338], Loss: 0.0001\n",
            "Epoch [21/120], Step [120/338], Loss: 0.0002\n",
            "Epoch [21/120], Step [150/338], Loss: 0.0001\n",
            "Epoch [21/120], Step [180/338], Loss: 0.0103\n",
            "Epoch [21/120], Step [210/338], Loss: 0.0001\n",
            "Epoch [21/120], Step [240/338], Loss: 0.0001\n",
            "Epoch [21/120], Step [270/338], Loss: 0.0004\n",
            "Epoch [21/120], Step [300/338], Loss: 0.0001\n",
            "Epoch [21/120], Step [330/338], Loss: 0.0000\n",
            "\n",
            "train-loss: 0.0122, train-acc: 100.0000\n",
            "validation loss: 0.3626, validation acc: 89.2473\n",
            "\n",
            "Epoch 22\n",
            "\n",
            "Epoch [22/120], Step [0/338], Loss: 0.0000\n",
            "Epoch [22/120], Step [30/338], Loss: 0.0000\n",
            "Epoch [22/120], Step [60/338], Loss: 0.0003\n",
            "Epoch [22/120], Step [90/338], Loss: 0.0002\n",
            "Epoch [22/120], Step [120/338], Loss: 0.0001\n",
            "Epoch [22/120], Step [150/338], Loss: 0.0014\n",
            "Epoch [22/120], Step [180/338], Loss: 0.0001\n",
            "Epoch [22/120], Step [210/338], Loss: 0.0018\n",
            "Epoch [22/120], Step [240/338], Loss: 0.0004\n",
            "Epoch [22/120], Step [270/338], Loss: 0.0001\n",
            "Epoch [22/120], Step [300/338], Loss: 0.0000\n",
            "Epoch [22/120], Step [330/338], Loss: 0.0000\n",
            "\n",
            "train-loss: 0.0117, train-acc: 99.8890\n",
            "validation loss: 0.3635, validation acc: 81.4132\n",
            "\n",
            "Epoch 23\n",
            "\n",
            "Epoch [23/120], Step [0/338], Loss: 0.0001\n",
            "Epoch [23/120], Step [30/338], Loss: 0.0015\n",
            "Epoch [23/120], Step [60/338], Loss: 0.0000\n",
            "Epoch [23/120], Step [90/338], Loss: 0.0011\n",
            "Epoch [23/120], Step [120/338], Loss: 0.0009\n",
            "Epoch [23/120], Step [150/338], Loss: 0.0000\n",
            "Epoch [23/120], Step [180/338], Loss: 0.0036\n",
            "Epoch [23/120], Step [210/338], Loss: 0.0001\n",
            "Epoch [23/120], Step [240/338], Loss: 0.0003\n",
            "Epoch [23/120], Step [270/338], Loss: 0.0003\n",
            "Epoch [23/120], Step [300/338], Loss: 0.0002\n",
            "Epoch [23/120], Step [330/338], Loss: 0.0003\n",
            "\n",
            "train-loss: 0.0113, train-acc: 100.0000\n",
            "validation loss: 0.3597, validation acc: 87.2504\n",
            "\n",
            "Epoch 24\n",
            "\n",
            "Epoch [24/120], Step [0/338], Loss: 0.0002\n",
            "Epoch [24/120], Step [30/338], Loss: 0.0001\n",
            "Epoch [24/120], Step [60/338], Loss: 0.0000\n",
            "Epoch [24/120], Step [90/338], Loss: 0.0000\n",
            "Epoch [24/120], Step [120/338], Loss: 0.0002\n",
            "Epoch [24/120], Step [150/338], Loss: 0.0002\n",
            "Epoch [24/120], Step [180/338], Loss: 0.0001\n",
            "Epoch [24/120], Step [210/338], Loss: 0.0001\n",
            "Epoch [24/120], Step [240/338], Loss: 0.0001\n",
            "Epoch [24/120], Step [270/338], Loss: 0.0009\n",
            "Epoch [24/120], Step [300/338], Loss: 0.0004\n",
            "Epoch [24/120], Step [330/338], Loss: 0.0033\n",
            "\n",
            "train-loss: 0.0113, train-acc: 99.4821\n",
            "validation loss: 0.3655, validation acc: 77.1121\n",
            "\n",
            "Epoch 25\n",
            "\n",
            "Epoch [25/120], Step [0/338], Loss: 0.0001\n",
            "Epoch [25/120], Step [30/338], Loss: 0.0000\n",
            "Epoch [25/120], Step [60/338], Loss: 0.0000\n",
            "Epoch [25/120], Step [90/338], Loss: 0.0000\n",
            "Epoch [25/120], Step [120/338], Loss: 0.0000\n",
            "Epoch [25/120], Step [150/338], Loss: 0.0001\n",
            "Epoch [25/120], Step [180/338], Loss: 0.0002\n",
            "Epoch [25/120], Step [210/338], Loss: 0.0000\n",
            "Epoch [25/120], Step [240/338], Loss: 0.0000\n",
            "Epoch [25/120], Step [270/338], Loss: 0.0004\n",
            "Epoch [25/120], Step [300/338], Loss: 0.0000\n",
            "Epoch [25/120], Step [330/338], Loss: 0.0005\n",
            "\n",
            "train-loss: 0.0109, train-acc: 100.0000\n",
            "validation loss: 0.3626, validation acc: 85.2535\n",
            "\n",
            "Epoch 26\n",
            "\n",
            "Epoch [26/120], Step [0/338], Loss: 0.0004\n",
            "Epoch [26/120], Step [30/338], Loss: 0.0000\n",
            "Epoch [26/120], Step [60/338], Loss: 0.0001\n",
            "Epoch [26/120], Step [90/338], Loss: 0.0000\n",
            "Epoch [26/120], Step [120/338], Loss: 0.0000\n",
            "Epoch [26/120], Step [150/338], Loss: 0.0001\n",
            "Epoch [26/120], Step [180/338], Loss: 0.0000\n",
            "Epoch [26/120], Step [210/338], Loss: 0.0002\n",
            "Epoch [26/120], Step [240/338], Loss: 0.0159\n",
            "Epoch [26/120], Step [270/338], Loss: 0.0036\n",
            "Epoch [26/120], Step [300/338], Loss: 0.0000\n",
            "Epoch [26/120], Step [330/338], Loss: 0.0011\n",
            "\n",
            "train-loss: 0.0106, train-acc: 99.8890\n",
            "validation loss: 0.3609, validation acc: 84.9462\n",
            "\n",
            "Epoch 27\n",
            "\n",
            "Epoch [27/120], Step [0/338], Loss: 0.0001\n",
            "Epoch [27/120], Step [30/338], Loss: 0.0000\n",
            "Epoch [27/120], Step [60/338], Loss: 0.0000\n",
            "Epoch [27/120], Step [90/338], Loss: 0.0001\n",
            "Epoch [27/120], Step [120/338], Loss: 0.0001\n",
            "Epoch [27/120], Step [150/338], Loss: 0.0106\n",
            "Epoch [27/120], Step [180/338], Loss: 0.0000\n",
            "Epoch [27/120], Step [210/338], Loss: 0.0000\n",
            "Epoch [27/120], Step [240/338], Loss: 0.0000\n",
            "Epoch [27/120], Step [270/338], Loss: 0.0000\n",
            "Epoch [27/120], Step [300/338], Loss: 0.0006\n",
            "Epoch [27/120], Step [330/338], Loss: 0.0175\n",
            "\n",
            "train-loss: 0.0103, train-acc: 99.9630\n",
            "validation loss: 0.3523, validation acc: 95.6989\n",
            "\n",
            "Epoch 28\n",
            "\n",
            "Epoch [28/120], Step [0/338], Loss: 0.0002\n",
            "Epoch [28/120], Step [30/338], Loss: 0.0016\n",
            "Epoch [28/120], Step [60/338], Loss: 0.0000\n",
            "Epoch [28/120], Step [90/338], Loss: 0.0003\n",
            "Epoch [28/120], Step [120/338], Loss: 0.0000\n",
            "Epoch [28/120], Step [150/338], Loss: 0.0001\n",
            "Epoch [28/120], Step [180/338], Loss: 0.0002\n",
            "Epoch [28/120], Step [210/338], Loss: 0.0013\n",
            "Epoch [28/120], Step [240/338], Loss: 0.0000\n",
            "Epoch [28/120], Step [270/338], Loss: 0.0047\n",
            "Epoch [28/120], Step [300/338], Loss: 0.0034\n",
            "Epoch [28/120], Step [330/338], Loss: 0.0000\n",
            "\n",
            "train-loss: 0.0099, train-acc: 100.0000\n",
            "validation loss: 0.3476, validation acc: 90.0154\n",
            "\n",
            "Epoch 29\n",
            "\n",
            "Epoch [29/120], Step [0/338], Loss: 0.0003\n",
            "Epoch [29/120], Step [30/338], Loss: 0.0002\n",
            "Epoch [29/120], Step [60/338], Loss: 0.0000\n",
            "Epoch [29/120], Step [90/338], Loss: 0.0001\n",
            "Epoch [29/120], Step [120/338], Loss: 0.0000\n",
            "Epoch [29/120], Step [150/338], Loss: 0.0010\n",
            "Epoch [29/120], Step [180/338], Loss: 0.0003\n",
            "Epoch [29/120], Step [210/338], Loss: 0.0002\n",
            "Epoch [29/120], Step [240/338], Loss: 0.0000\n",
            "Epoch [29/120], Step [270/338], Loss: 0.0000\n",
            "Epoch [29/120], Step [300/338], Loss: 0.0000\n",
            "Epoch [29/120], Step [330/338], Loss: 0.0002\n",
            "\n",
            "train-loss: 0.0096, train-acc: 100.0000\n",
            "validation loss: 0.3407, validation acc: 93.7020\n",
            "\n",
            "Epoch 30\n",
            "\n",
            "Epoch [30/120], Step [0/338], Loss: 0.0001\n",
            "Epoch [30/120], Step [30/338], Loss: 0.0001\n",
            "Epoch [30/120], Step [60/338], Loss: 0.0000\n",
            "Epoch [30/120], Step [90/338], Loss: 0.0271\n",
            "Epoch [30/120], Step [120/338], Loss: 0.0002\n",
            "Epoch [30/120], Step [150/338], Loss: 0.0000\n",
            "Epoch [30/120], Step [180/338], Loss: 0.0001\n",
            "Epoch [30/120], Step [210/338], Loss: 0.0058\n",
            "Epoch [30/120], Step [240/338], Loss: 0.0007\n",
            "Epoch [30/120], Step [270/338], Loss: 0.0005\n",
            "Epoch [30/120], Step [300/338], Loss: 0.0006\n",
            "Epoch [30/120], Step [330/338], Loss: 0.0000\n",
            "\n",
            "train-loss: 0.0094, train-acc: 99.9260\n",
            "validation loss: 0.3413, validation acc: 80.9524\n",
            "\n",
            "Patience Extended! Training stopped...\n"
          ]
        }
      ]
    },
    {
      "cell_type": "code",
      "source": [
        "fig = plt.figure()\n",
        "fig.set_figheight(6)\n",
        "fig.set_figwidth(13)\n",
        "\n",
        "plt.subplot(1, 2, 1)\n",
        "plt.plot(train_loss, 'bx-', label = 'train')\n",
        "plt.plot(val_loss, 'gx-', label = 'val')\n",
        "plt.ylabel('loss')\n",
        "plt.xlabel('epoch')\n",
        "plt.legend(loc = 'upper left')\n",
        "\n",
        "plt.subplot(1, 2, 2)\n",
        "plt.plot(train_acc, 'bx-', label = 'train')\n",
        "plt.plot(val_acc, 'gx-', label = 'val')\n",
        "plt.ylabel('accuracy')\n",
        "plt.xlabel('epoch')\n",
        "plt.legend(loc = 'upper left')\n",
        "\n",
        "\n",
        "fig.suptitle('Resnet 10t [Accuracy - Loss Plots]')\n",
        "plt.show()"
      ],
      "metadata": {
        "id": "aogDhRigogZa",
        "colab": {
          "base_uri": "https://localhost:8080/",
          "height": 602
        },
        "outputId": "e0fbfbdb-1947-4c46-8d86-a7db2ad925bc"
      },
      "execution_count": 23,
      "outputs": [
        {
          "output_type": "display_data",
          "data": {
            "text/plain": [
              "<Figure size 1300x600 with 2 Axes>"
            ],
            "image/png": "[encoded data removed]"
          },
          "metadata": {}
        }
      ]
    },
    {
      "cell_type": "markdown",
      "source": [
        "### Predictions"
      ],
      "metadata": {
        "id": "LikX6d0JIGS0"
      }
    },
    {
      "cell_type": "markdown",
      "source": [
        "#### Test"
      ],
      "metadata": {
        "id": "qxhPl-rGILzZ"
      }
    },
    {
      "cell_type": "code",
      "source": [
        "model_resnet = resnet18\n",
        "model_resnet.load_state_dict(torch.load(path_res))\n",
        "\n",
        "\n",
        "print('Test data: ')\n",
        "y_true = []\n",
        "y_pred = []\n",
        "\n",
        "for i in range(len(test_dataset)):\n",
        "    input, target = test_dataset[i][0], test_dataset[i][1]\n",
        "    model_resnet.eval()\n",
        "    with torch.no_grad():\n",
        "        input = torch.unsqueeze(input, 0)\n",
        "        input = input.to(device) # send data to GPU \n",
        "        predictions = model_resnet(input)\n",
        "        predicted_index = predictions[0].argmax(0)\n",
        "\n",
        "        predicted = class_mapping[predicted_index]\n",
        "        expected = class_mapping[target]\n",
        "\n",
        "    y_true.append(expected)\n",
        "    y_pred.append(predicted)\n",
        "\n",
        "get_metrics(y_true, y_pred, class_mapping)"
      ],
      "metadata": {
        "id": "twHxp1D2Iac8",
        "colab": {
          "base_uri": "https://localhost:8080/"
        },
        "outputId": "3dd07a37-eff7-44af-e3bb-f2d6475329aa"
      },
      "execution_count": 24,
      "outputs": [
        {
          "output_type": "stream",
          "name": "stdout",
          "text": [
            "Test data: \n",
            "┌──────────────────┬─────────┬──────────────┬──────────────┬──────────────┐\n",
            "│                  │ healthy │ misalignment │ rotor damage │ Total actual │\n",
            "├──────────────────┼─────────┼──────────────┼──────────────┼──────────────┤\n",
            "│ healthy          │ 183     │ 6            │ 17           │ 206          │\n",
            "├──────────────────┼─────────┼──────────────┼──────────────┼──────────────┤\n",
            "│ misalignment     │ 0       │ 229          │ 0            │ 229          │\n",
            "├──────────────────┼─────────┼──────────────┼──────────────┼──────────────┤\n",
            "│ rotor damage     │ 0       │ 0            │ 216          │ 216          │\n",
            "├──────────────────┼─────────┼──────────────┼──────────────┼──────────────┤\n",
            "│ Total predicted: │ 183     │ 235          │ 233          │ 651          │\n",
            "└──────────────────┴─────────┴──────────────┴──────────────┴──────────────┘\n",
            "\n",
            "┌──────────────┬──────────┐\n",
            "│ Class        │ F1-score │\n",
            "├──────────────┼──────────┤\n",
            "│ Healthy      │ 0.94     │\n",
            "├──────────────┼──────────┤\n",
            "│ Misalignment │ 0.99     │\n",
            "├──────────────┼──────────┤\n",
            "│ Rotor damage │ 0.96     │\n",
            "└──────────────┴──────────┘\n",
            "\n",
            "Recall for healthy class: 1.0\n",
            "Recall for misalignment class: 0.97\n",
            "Recall for rotor damage class: 0.93\n",
            "\n",
            "Precision for healthy class: 0.89\n",
            "Precision for misalignment class: 1.0\n",
            "Precision for rotor damage class: 1.0\n"
          ]
        }
      ]
    },
    {
      "cell_type": "markdown",
      "source": [
        "#### Validation"
      ],
      "metadata": {
        "id": "w0-gQ1gJIOEd"
      }
    },
    {
      "cell_type": "code",
      "source": [
        "print('Valid data: ')\n",
        "y_true = []\n",
        "y_pred = []\n",
        "\n",
        "for i in range(len(val_dataset)):\n",
        "    input, target = val_dataset[i][0], val_dataset[i][1]\n",
        "    model_resnet.eval()\n",
        "    with torch.no_grad():\n",
        "        input = torch.unsqueeze(input, 0)\n",
        "        input = input.to(device) # send data to GPU \n",
        "        predictions = model_resnet(input)\n",
        "        predicted_index = predictions[0].argmax(0)\n",
        "\n",
        "        predicted = class_mapping[predicted_index]\n",
        "        expected = class_mapping[target]\n",
        "\n",
        "    y_true.append(expected)\n",
        "    y_pred.append(predicted)\n",
        "\n",
        "get_metrics(y_true, y_pred, class_mapping)"
      ],
      "metadata": {
        "id": "iy1zpvPfr9D_",
        "colab": {
          "base_uri": "https://localhost:8080/"
        },
        "outputId": "1205fa3d-7ee0-4580-ef88-95bd0b4ef31b"
      },
      "execution_count": 25,
      "outputs": [
        {
          "output_type": "stream",
          "name": "stdout",
          "text": [
            "Valid data: \n",
            "┌──────────────────┬─────────┬──────────────┬──────────────┬──────────────┐\n",
            "│                  │ healthy │ misalignment │ rotor damage │ Total actual │\n",
            "├──────────────────┼─────────┼──────────────┼──────────────┼──────────────┤\n",
            "│ healthy          │ 185     │ 0            │ 14           │ 199          │\n",
            "├──────────────────┼─────────┼──────────────┼──────────────┼──────────────┤\n",
            "│ misalignment     │ 0       │ 220          │ 0            │ 220          │\n",
            "├──────────────────┼─────────┼──────────────┼──────────────┼──────────────┤\n",
            "│ rotor damage     │ 0       │ 0            │ 229          │ 229          │\n",
            "├──────────────────┼─────────┼──────────────┼──────────────┼──────────────┤\n",
            "│ Total predicted: │ 185     │ 220          │ 243          │ 648          │\n",
            "└──────────────────┴─────────┴──────────────┴──────────────┴──────────────┘\n",
            "\n",
            "┌──────────────┬──────────┐\n",
            "│ Class        │ F1-score │\n",
            "├──────────────┼──────────┤\n",
            "│ Healthy      │ 0.96     │\n",
            "├──────────────┼──────────┤\n",
            "│ Misalignment │ 1.0      │\n",
            "├──────────────┼──────────┤\n",
            "│ Rotor damage │ 0.97     │\n",
            "└──────────────┴──────────┘\n",
            "\n",
            "Recall for healthy class: 1.0\n",
            "Recall for misalignment class: 1.0\n",
            "Recall for rotor damage class: 0.94\n",
            "\n",
            "Precision for healthy class: 0.93\n",
            "Precision for misalignment class: 1.0\n",
            "Precision for rotor damage class: 1.0\n"
          ]
        }
      ]
    },
    {
      "cell_type": "markdown",
      "source": [
        "#### Training"
      ],
      "metadata": {
        "id": "EwGnjwq7IN63"
      }
    },
    {
      "cell_type": "code",
      "source": [
        "print('Training data:')\n",
        "y_true = []\n",
        "y_pred = []\n",
        "\n",
        "for i in range(len(train_dataset)):\n",
        "    input, target = train_dataset[i][0], train_dataset[i][1]\n",
        "    model_resnet.eval()\n",
        "    with torch.no_grad():\n",
        "        input = torch.unsqueeze(input, 0)\n",
        "        input = input.to(device) # send data to GPU\n",
        "        predictions = model_resnet(input)\n",
        "        predicted_index = predictions[0].argmax(0)\n",
        "\n",
        "        predicted = class_mapping[predicted_index]\n",
        "        expected = class_mapping[target]\n",
        "\n",
        "    y_true.append(expected)\n",
        "    y_pred.append(predicted)\n",
        "\n",
        "get_metrics(y_true, y_pred, class_mapping)"
      ],
      "metadata": {
        "id": "4iK4z79Ks1e9",
        "colab": {
          "base_uri": "https://localhost:8080/"
        },
        "outputId": "2466fa70-95eb-4bec-9307-a3229cc1293b"
      },
      "execution_count": 26,
      "outputs": [
        {
          "output_type": "stream",
          "name": "stdout",
          "text": [
            "Training data:\n",
            "┌──────────────────┬─────────┬──────────────┬──────────────┬──────────────┐\n",
            "│                  │ healthy │ misalignment │ rotor damage │ Total actual │\n",
            "├──────────────────┼─────────┼──────────────┼──────────────┼──────────────┤\n",
            "│ healthy          │ 557     │ 0            │ 0            │ 557          │\n",
            "├──────────────────┼─────────┼──────────────┼──────────────┼──────────────┤\n",
            "│ misalignment     │ 0       │ 981          │ 0            │ 981          │\n",
            "├──────────────────┼─────────┼──────────────┼──────────────┼──────────────┤\n",
            "│ rotor damage     │ 0       │ 0            │ 1165         │ 1165         │\n",
            "├──────────────────┼─────────┼──────────────┼──────────────┼──────────────┤\n",
            "│ Total predicted: │ 557     │ 981          │ 1165         │ 2703         │\n",
            "└──────────────────┴─────────┴──────────────┴──────────────┴──────────────┘\n",
            "\n",
            "┌──────────────┬──────────┐\n",
            "│ Class        │ F1-score │\n",
            "├──────────────┼──────────┤\n",
            "│ Healthy      │ 1.0      │\n",
            "├──────────────┼──────────┤\n",
            "│ Misalignment │ 1.0      │\n",
            "├──────────────┼──────────┤\n",
            "│ Rotor damage │ 1.0      │\n",
            "└──────────────┴──────────┘\n",
            "\n",
            "Recall for healthy class: 1.0\n",
            "Recall for misalignment class: 1.0\n",
            "Recall for rotor damage class: 1.0\n",
            "\n",
            "Precision for healthy class: 1.0\n",
            "Precision for misalignment class: 1.0\n",
            "Precision for rotor damage class: 1.0\n"
          ]
        }
      ]
    },
    {
      "cell_type": "markdown",
      "source": [
        "### Different Style of Training"
      ],
      "metadata": {
        "id": "EFB399m_NTgS"
      }
    },
    {
      "cell_type": "code",
      "source": [
        "# n_epochs = 20\n",
        "# print_every = 10\n",
        "# valid_loss_min = np.Inf\n",
        "# val_loss = []\n",
        "# val_acc = []\n",
        "# train_loss = []\n",
        "# train_acc = []\n",
        "# total_step = len(train_loader)\n",
        "# for epoch in range(1, n_epochs+1):\n",
        "#     running_loss = 0.0\n",
        "#     correct = 0\n",
        "#     total=0\n",
        "#     print(f'Epoch {epoch}\\n')\n",
        "#     for batch_idx, (data_, target_) in enumerate(train_loader):\n",
        "#         data_, target_ = data_.to(device), target_.to(device)\n",
        "#         optimizer.zero_grad()\n",
        "        \n",
        "#         outputs = resnet(data_)\n",
        "#         loss = criterion(outputs, target_)\n",
        "#         loss.backward()\n",
        "#         optimizer.step()\n",
        "\n",
        "#         running_loss += loss.item()\n",
        "#         _,pred = torch.max(outputs, dim=1)\n",
        "#         correct += torch.sum(pred==target_).item()\n",
        "#         total += target_.size(0)\n",
        "#         if (batch_idx) % 20 == 0:\n",
        "#             print ('Epoch [{}/{}], Step [{}/{}], Loss: {:.4f}' \n",
        "#                    .format(epoch, n_epochs, batch_idx, total_step, loss.item()))\n",
        "#     train_acc.append(100 * correct / total)\n",
        "#     train_loss.append(running_loss/total_step)\n",
        "#     print(f'\\ntrain-loss: {np.mean(train_loss):.4f}, train-acc: {(100 * correct/total):.4f}')\n",
        "#     batch_loss = 0\n",
        "#     total_t=0\n",
        "#     correct_t=0\n",
        "#     with torch.no_grad():\n",
        "#         resnet.eval()\n",
        "#         for data_t, target_t in (test_loader):\n",
        "#             data_t, target_t = data_t.to(device), target_t.to(device)\n",
        "#             outputs_t = resnet(data_t)\n",
        "#             loss_t = criterion(outputs_t, target_t)\n",
        "#             batch_loss += loss_t.item()\n",
        "#             _,pred_t = torch.max(outputs_t, dim=1)\n",
        "#             correct_t += torch.sum(pred_t==target_t).item()\n",
        "#             total_t += target_t.size(0)\n",
        "#         val_acc.append(100 * correct_t/total_t)\n",
        "#         val_loss.append(batch_loss/len(test_loader))\n",
        "#         network_learned = batch_loss < valid_loss_min\n",
        "#         print(f'validation loss: {np.mean(val_loss):.4f}, validation acc: {(100 * correct_t/total_t):.4f}\\n')\n",
        "\n",
        "        \n",
        "#         if network_learned:\n",
        "#             valid_loss_min = batch_loss\n",
        "#             torch.save(resnet.state_dict(), \"C:/Users/Nihal/Desktop/thesis/resnet18_train2.pt\")\n",
        "#             print('Improvement-Detected, save-model')\n",
        "#     resnet.train()"
      ],
      "metadata": {
        "id": "4WXYG4LyNWUc"
      },
      "execution_count": 27,
      "outputs": []
    },
    {
      "cell_type": "markdown",
      "source": [
        "### Train - Validation Accuracy "
      ],
      "metadata": {
        "id": "i0R8ZbMlPDyP"
      }
    },
    {
      "cell_type": "code",
      "source": [
        "# fig = plt.figure(figsize=(20,10))\n",
        "# plt.title(\"Train-Validation Accuracy\")\n",
        "# plt.plot(train_acc, label='train')\n",
        "# plt.plot(val_acc, label='validation')\n",
        "# plt.xlabel('num_epochs', fontsize=12)\n",
        "# plt.ylabel('accuracy', fontsize=12)\n",
        "# plt.legend(loc='best')"
      ],
      "metadata": {
        "id": "UnQLR8VCPEA_"
      },
      "execution_count": 28,
      "outputs": []
    },
    {
      "cell_type": "markdown",
      "source": [
        "### Visualize Results"
      ],
      "metadata": {
        "id": "-2NosAgAPY_R"
      }
    },
    {
      "cell_type": "code",
      "source": [
        "# def visualize_model(net, num_images=4):\n",
        "#     images_so_far = 0\n",
        "#     fig = plt.figure(figsize=(15, 10))\n",
        "    \n",
        "#     for i, data in enumerate(test_dataloader):\n",
        "#         inputs, labels = data\n",
        "#         if use_cuda:\n",
        "#             inputs, labels = inputs.cuda(), labels.cuda()\n",
        "#         outputs = net(inputs)\n",
        "#         _, preds = torch.max(outputs.data, 1)\n",
        "#         preds = preds.cpu().numpy() if use_cuda else preds.numpy()\n",
        "#         for j in range(inputs.size()[0]):\n",
        "#             images_so_far += 1\n",
        "#             ax = plt.subplot(2, num_images//2, images_so_far)\n",
        "#             ax.axis('off')\n",
        "#             ax.set_title('predictes: {}'.format(test_dataset.classes[preds[j]]))\n",
        "#             imshow(inputs[j])\n",
        "            \n",
        "#             if images_so_far == num_images:\n",
        "#                 return \n",
        "\n",
        "# plt.ion()\n",
        "# visualize_model(net)\n",
        "# plt.ioff()"
      ],
      "metadata": {
        "id": "4uAtGydLPYdj"
      },
      "execution_count": 29,
      "outputs": []
    }
  ]
}