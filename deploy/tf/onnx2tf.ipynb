{
  "nbformat": 4,
  "nbformat_minor": 0,
  "metadata": {
    "colab": {
      "provenance": [],
      "toc_visible": true,
      "authorship_tag": "ABX9TyPd6OW4MMAkurosDJmZ9R2N",
      "include_colab_link": true
    },
    "kernelspec": {
      "name": "python3",
      "display_name": "Python 3"
    },
    "language_info": {
      "name": "python"
    }
  },
  "cells": [
    {
      "cell_type": "markdown",
      "metadata": {
        "id": "view-in-github",
        "colab_type": "text"
      },
      "source": [
        "<a href=\"https://colab.research.google.com/github/nihalsuri/thermal-anomaly-detection/blob/main/deploy/tf/onnx2tf.ipynb\" target=\"_parent\"><img src=\"https://colab.research.google.com/assets/colab-badge.svg\" alt=\"Open In Colab\"/></a>"
      ]
    },
    {
      "cell_type": "markdown",
      "source": [
        "# Onnx to TF"
      ],
      "metadata": {
        "id": "kSVQ9sq_ghCu"
      }
    },
    {
      "cell_type": "code",
      "source": [
        "import onnx \n",
        "from onnx_tf.backend import prepare"
      ],
      "metadata": {
        "id": "UOifotNWXm7i"
      },
      "execution_count": 7,
      "outputs": []
    },
    {
      "cell_type": "code",
      "source": [
        "onnx_model_path = \"C:/Users/Nihal/Desktop/thermal-anomaly-detection/deploy/onnx/resnet10t-1.onnx\""
      ],
      "metadata": {
        "id": "-EDGvkq8Zafw"
      },
      "execution_count": 10,
      "outputs": []
    },
    {
      "cell_type": "code",
      "source": [
        "onnx_model = onnx.load(onnx_model_path)\n",
        "tf_rep = prepare(onnx_model)\n",
        "tf_rep.export_graph(\"C:/Users/Nihal/Desktop/thermal-anomaly-detection/deploy/tf/resnet10t\")"
      ],
      "metadata": {
        "colab": {
          "base_uri": "https://localhost:8080/"
        },
        "id": "9Ayg0SV-aWVs",
        "outputId": "19dc862f-b7f6-440c-893c-c1c6c43a2c7d"
      },
      "execution_count": 14,
      "outputs": [
        {
          "output_type": "stream",
          "name": "stderr",
          "text": [
            "2023-01-06 19:52:12,276 - onnx-tf - WARNING - Using the pooling op in compatibility mode. This means your graph cannot be serialized.\n",
            "WARNING:onnx-tf:Using the pooling op in compatibility mode. This means your graph cannot be serialized.\n",
            "2023-01-06 19:52:12,352 - onnx-tf - WARNING - Using the pooling op in compatibility mode. This means your graph cannot be serialized.\n",
            "WARNING:onnx-tf:Using the pooling op in compatibility mode. This means your graph cannot be serialized.\n",
            "2023-01-06 19:52:12,422 - onnx-tf - WARNING - Using the pooling op in compatibility mode. This means your graph cannot be serialized.\n",
            "WARNING:onnx-tf:Using the pooling op in compatibility mode. This means your graph cannot be serialized.\n",
            "WARNING:absl:Function `__call__` contains input name(s) input.1 with unsupported characters which will be renamed to input_1 in the SavedModel.\n",
            "2023-01-06 19:52:12,681 - onnx-tf - WARNING - Using the pooling op in compatibility mode. This means your graph cannot be serialized.\n",
            "WARNING:onnx-tf:Using the pooling op in compatibility mode. This means your graph cannot be serialized.\n",
            "2023-01-06 19:52:12,749 - onnx-tf - WARNING - Using the pooling op in compatibility mode. This means your graph cannot be serialized.\n",
            "WARNING:onnx-tf:Using the pooling op in compatibility mode. This means your graph cannot be serialized.\n",
            "2023-01-06 19:52:12,817 - onnx-tf - WARNING - Using the pooling op in compatibility mode. This means your graph cannot be serialized.\n",
            "WARNING:onnx-tf:Using the pooling op in compatibility mode. This means your graph cannot be serialized.\n",
            "WARNING:absl:Found untraced functions such as gen_tensor_dict while saving (showing 1 of 1). These functions will not be directly callable after loading.\n"
          ]
        },
        {
          "output_type": "stream",
          "name": "stdout",
          "text": [
            "INFO:tensorflow:Assets written to: C:/Users/Nihal/Desktop/thermal-anomaly-detection/deploy/tf/resnet10t\\assets\n"
          ]
        },
        {
          "output_type": "stream",
          "name": "stderr",
          "text": [
            "INFO:tensorflow:Assets written to: C:/Users/Nihal/Desktop/thermal-anomaly-detection/deploy/tf/resnet10t\\assets\n"
          ]
        }
      ]
    },
    {
      "cell_type": "markdown",
      "source": [
        "# TF Interface"
      ],
      "metadata": {
        "id": "IXpW1MBQgm6f"
      }
    },
    {
      "cell_type": "code",
      "source": [
        "import tensorflow as tf"
      ],
      "metadata": {
        "id": "CdHfoj2Tgql5"
      },
      "execution_count": 15,
      "outputs": []
    },
    {
      "cell_type": "code",
      "source": [
        "tf_model = tf.saved_model.load(\"C:/Users/Nihal/Desktop/thermal-anomaly-detection/deploy/tf/resnet10t\")\n",
        "tf_model.trainable = False\n",
        "\n",
        "# input_tensor = tf.random.uniform([8, 3, 140, 230])\n",
        "# out = tf_model(**{'input': input_tensor})"
      ],
      "metadata": {
        "id": "dSfOTOTagvNx"
      },
      "execution_count": 18,
      "outputs": []
    }
  ]
}